{
  "nbformat": 4,
  "nbformat_minor": 0,
  "metadata": {
    "colab": {
      "provenance": [],
      "authorship_tag": "ABX9TyNFWOeWmehl2zOUtvllxdPt",
      "include_colab_link": true
    },
    "kernelspec": {
      "name": "python3",
      "display_name": "Python 3"
    },
    "language_info": {
      "name": "python"
    }
  },
  "cells": [
    {
      "cell_type": "markdown",
      "metadata": {
        "id": "view-in-github",
        "colab_type": "text"
      },
      "source": [
        "<a href=\"https://colab.research.google.com/github/Tejeswar001/Python-Practice-/blob/BootCampProgress/08-06%20Day%203%20Inheritance%20and%20exception%20handling/inheritance.ipynb\" target=\"_parent\"><img src=\"https://colab.research.google.com/assets/colab-badge.svg\" alt=\"Open In Colab\"/></a>"
      ]
    },
    {
      "cell_type": "markdown",
      "source": [
        "# Inheritance"
      ],
      "metadata": {
        "id": "8XIZhGgwbtE5"
      }
    },
    {
      "cell_type": "markdown",
      "source": [
        "Inheritance in Object-Oriented Programming (OOP) is a mechanism where you can derive a new class (subclass or child class) from an existing class (base class or parent class).\n",
        "\n",
        "The subclass inherits properties and behaviors (methods) from the parent class, allowing you to reuse code and establish hierarchical relationships between classes."
      ],
      "metadata": {
        "id": "1c3HyaGebzLt"
      }
    },
    {
      "source": [
        "class ParentClass:\n",
        "    def __init__(self, name):\n",
        "        self.name = name\n",
        "\n",
        "class ChildClass(ParentClass):\n",
        "    def __init__(self, name, age):\n",
        "        super().__init__(name)\n",
        "        self.age = age\n",
        "\n",
        "# Call the ChildClass\n",
        "child = ChildClass(\"Alice\", 10)\n",
        "print(child.name)  # Output: Alice\n",
        "print(child.age)   # Output: 10"
      ],
      "cell_type": "code",
      "metadata": {
        "colab": {
          "base_uri": "https://localhost:8080/"
        },
        "id": "r7uHgaMmdWj8",
        "outputId": "f3b8dc5d-3dc5-4783-d3a4-b2af7292d07b"
      },
      "execution_count": null,
      "outputs": [
        {
          "output_type": "stream",
          "name": "stdout",
          "text": [
            "Alice\n",
            "10\n"
          ]
        }
      ]
    },
    {
      "cell_type": "markdown",
      "source": [
        "# Properties Of Inheritance"
      ],
      "metadata": {
        "id": "m2qH5kJ1fvqu"
      }
    },
    {
      "cell_type": "markdown",
      "source": [
        "Here are the key properties of inheritance in Object-Oriented Programming:\n",
        "\n",
        "1. Code Reusability: Inheritance lets you create new classes (child classes) that inherit properties and methods from existing classes (parent classes). This avoids redundant code.\n",
        "\n",
        "2. Extensibility: Child classes can extend the functionality of parent classes by adding new methods or overriding existing ones.\n",
        "\n",
        "3. Hierarchy: Inheritance creates a hierarchical relationship between classes, modeling real-world relationships."
      ],
      "metadata": {
        "id": "pPRxmQZKf2Wv"
      }
    },
    {
      "cell_type": "markdown",
      "source": [
        "**Polymorphism**: The Power of Many Forms\n",
        "\n",
        "Think of polymorphism as a chameleon in the coding world. It lets different classes behave like they belong to the same family, even if they have their unique traits.\n",
        "\n",
        "This means you can write code that interacts with objects from various classes through a shared interface. It's like having a universal remote that works with different devices, making your code more adaptable and easier to maintain."
      ],
      "metadata": {
        "id": "sHhphSvkiMrz"
      }
    },
    {
      "source": [
        "class Vehicle:\n",
        "    def __init__(self, brand, color):\n",
        "        self.brand = brand\n",
        "        self.color = color\n",
        "\n",
        "    def display_info(self):\n",
        "        print(\"Brand:\", self.brand)\n",
        "        print(\"Color:\", self.color)\n",
        "\n",
        "class Car(Vehicle):\n",
        "    def __init__(self, brand, color, num_doors):\n",
        "        super().__init__(brand, color)  # Initialize the Vehicle class attributes\n",
        "        self.num_doors = num_doors\n",
        "\n",
        "    def display_info(self):\n",
        "        super().display_info()  # Call the display_info method of the parent class\n",
        "        print(\"Number of doors:\", self.num_doors)\n",
        "\n",
        "my_car = Car(\"Toyota\", \"Red\", 4)\n",
        "my_car.display_info()"
      ],
      "cell_type": "code",
      "metadata": {
        "colab": {
          "base_uri": "https://localhost:8080/"
        },
        "id": "Xe5laZ25gVA7",
        "outputId": "d79fa4b4-ce45-4b59-dcc9-92b37bf37fc9"
      },
      "execution_count": null,
      "outputs": [
        {
          "output_type": "stream",
          "name": "stdout",
          "text": [
            "Brand: Toyota\n",
            "Color: Red\n",
            "Number of doors: 4\n"
          ]
        }
      ]
    },
    {
      "cell_type": "markdown",
      "source": [
        "# MRO (Method Resolution Order)"
      ],
      "metadata": {
        "id": "YhH8UgFI9yfr"
      }
    },
    {
      "cell_type": "markdown",
      "source": [
        "MRO stands for Method Resolution Order. It defines the order in which Python looks for a method in a class hierarchy, especially when dealing with multiple inheritance.\n",
        "\n",
        "To find the MRO of a class, use the mro() method or the __mro__ attribute."
      ],
      "metadata": {
        "id": "zOAj_oA3--xg"
      }
    },
    {
      "source": [
        "class A:\n",
        "    pass\n",
        "\n",
        "class B(A):\n",
        "    pass\n",
        "\n",
        "class C(A):\n",
        "    pass\n",
        "\n",
        "class D(B, C):\n",
        "    pass\n",
        "\n",
        "print(D.mro())\n",
        "print()\n",
        "print(D.__mro__)"
      ],
      "cell_type": "code",
      "metadata": {
        "id": "sJfAcce4_Yg9",
        "outputId": "1d169b13-b55a-47bf-c437-6bdeff6591d2",
        "colab": {
          "base_uri": "https://localhost:8080/"
        }
      },
      "execution_count": 2,
      "outputs": [
        {
          "output_type": "stream",
          "name": "stdout",
          "text": [
            "[<class '__main__.D'>, <class '__main__.B'>, <class '__main__.C'>, <class '__main__.A'>, <class 'object'>]\n",
            "\n",
            "(<class '__main__.D'>, <class '__main__.B'>, <class '__main__.C'>, <class '__main__.A'>, <class 'object'>)\n"
          ]
        }
      ]
    },
    {
      "cell_type": "markdown",
      "source": [
        "# Types of Inheritance"
      ],
      "metadata": {
        "id": "yYuOOEVQ_uhn"
      }
    },
    {
      "cell_type": "markdown",
      "source": [
        "**Simple Inheritance** : A class inherits from a single base class."
      ],
      "metadata": {
        "id": "SMvg9JBI_zhj"
      }
    },
    {
      "source": [
        "class Animal:#parent class\n",
        "    pass\n",
        "\n",
        "class Dog(Animal):#child class with animal as parent\n",
        "    pass"
      ],
      "cell_type": "code",
      "metadata": {
        "id": "o0ETfs_8AQDT"
      },
      "execution_count": null,
      "outputs": []
    },
    {
      "cell_type": "markdown",
      "source": [
        "**Multiple Inheritance** : A class inherits from multiple base classes."
      ],
      "metadata": {
        "id": "YqsF5jL4Adda"
      }
    },
    {
      "source": [
        "class Animal:#first parent class\n",
        "    pass\n",
        "\n",
        "class Pet:#second parent class\n",
        "    pass\n",
        "\n",
        "class Dog(Animal, Pet):#child class with two parents Animal and Pet\n",
        "    pass"
      ],
      "cell_type": "code",
      "metadata": {
        "id": "XKf_Xs4AApBT"
      },
      "execution_count": null,
      "outputs": []
    },
    {
      "cell_type": "markdown",
      "source": [
        "**Multilevel Inheritance** : A class inherits from a derived class, forming a hierarchy."
      ],
      "metadata": {
        "id": "-ABf-ICPA6IL"
      }
    },
    {
      "source": [
        "class Animal:# main parent class\n",
        "    pass\n",
        "\n",
        "class Mammal(Animal):# child class with parent as animal\n",
        "    pass\n",
        "\n",
        "class Dog(Mammal):# child class with parent as Mammal which is also a child class of animal\n",
        "    pass"
      ],
      "cell_type": "code",
      "metadata": {
        "id": "_WwEBLEUBCeT"
      },
      "execution_count": null,
      "outputs": []
    },
    {
      "cell_type": "markdown",
      "source": [
        "**Hierarchical Inheritance** : Multiple classes inherit from a single base class."
      ],
      "metadata": {
        "id": "EvKgcZ7pBVG3"
      }
    },
    {
      "source": [
        "class Animal:# base class\n",
        "    pass\n",
        "\n",
        "class Dog(Animal):# child of base class\n",
        "    pass\n",
        "\n",
        "class Cat(Animal):# child of base class\n",
        "    pass\n",
        "\n",
        "class Cow(Animal):# child of base class\n",
        "  pass\n",
        "\n",
        "class Horse(Animal):# child of base class\n",
        "  pass"
      ],
      "cell_type": "code",
      "metadata": {
        "id": "IojyPPGQBZj-"
      },
      "execution_count": null,
      "outputs": []
    },
    {
      "cell_type": "markdown",
      "source": [
        "**Hybrid Inheritance** : A combination of two or more types of inheritance."
      ],
      "metadata": {
        "id": "aUF-ED-vBtd1"
      }
    },
    {
      "source": [
        "class Vehicle:\n",
        "    def __init__(self, name):\n",
        "        self.name = name\n",
        "\n",
        "class Car(Vehicle):\n",
        "    def __init__(self, name, brand):\n",
        "        super().__init__(name)\n",
        "        self.brand = brand\n",
        "\n",
        "class Electric:\n",
        "    def __init__(self, battery_type):\n",
        "        self.battery_type = battery_type\n",
        "\n",
        "class ElectricCar(Car, Electric):\n",
        "    def __init__(self, name, brand, battery_type):\n",
        "        Car.__init__(self, name, brand)\n",
        "        Electric.__init__(self, battery_type)\n",
        "\n",
        "# Create an instance of ElectricCar\n",
        "my_car = ElectricCar(\"Model S\", \"Tesla\", \"Lithium-ion\")\n",
        "\n",
        "print(my_car.name)\n",
        "print(my_car.brand)\n",
        "print(my_car.battery_type)"
      ],
      "cell_type": "code",
      "metadata": {
        "id": "a1f4cUngB80e"
      },
      "execution_count": null,
      "outputs": []
    },
    {
      "cell_type": "markdown",
      "source": [
        "# Method Overriding"
      ],
      "metadata": {
        "id": "YQ8_clXVEISj"
      }
    },
    {
      "cell_type": "markdown",
      "source": [
        "Method overriding is a concept in object-oriented programming where a subclass provides a specific implementation for a method that is already defined in its superclass."
      ],
      "metadata": {
        "id": "PWK9RAEhENlA"
      }
    },
    {
      "source": [
        "class Animal:\n",
        "    def speak(self):\n",
        "        print(\"Generic animal sound\")\n",
        "\n",
        "class Dog(Animal):\n",
        "    def speak(self):\n",
        "        print(\"Woof!\")\n",
        "\n",
        "class Cat(Animal):\n",
        "    def speak(self):\n",
        "        print(\"Meow!\")\n",
        "\n",
        "# Create instances\n",
        "animal = Animal()\n",
        "dog = Dog()\n",
        "cat = Cat()\n",
        "\n",
        "# Call the speak method\n",
        "animal.speak()  # Output: Generic animal sound\n",
        "dog.speak()     # Output: Woof!\n",
        "cat.speak()     # Output: Meow!"
      ],
      "cell_type": "code",
      "metadata": {
        "id": "8HeeuGP6EeDb",
        "outputId": "e704b761-7094-4d84-f41e-73e86e747ced",
        "colab": {
          "base_uri": "https://localhost:8080/"
        }
      },
      "execution_count": 3,
      "outputs": [
        {
          "output_type": "stream",
          "name": "stdout",
          "text": [
            "Generic animal sound\n",
            "Woof!\n",
            "Meow!\n"
          ]
        }
      ]
    },
    {
      "cell_type": "markdown",
      "source": [
        "# Super Method"
      ],
      "metadata": {
        "id": "omvbJmdXEw_G"
      }
    },
    {
      "cell_type": "markdown",
      "source": [
        "In object-oriented programming, the super() method provides a way for a subclass to access inherited methods and properties from its superclass."
      ],
      "metadata": {
        "id": "2DXbRX69Ezfe"
      }
    },
    {
      "source": [
        "class Vehicle:\n",
        "    def __init__(self, brand, color):\n",
        "        self.brand = brand\n",
        "        self.color = color\n",
        "\n",
        "    def display_info(self):\n",
        "        print(\"Brand:\", self.brand)\n",
        "        print(\"Color:\", self.color)\n",
        "\n",
        "class Car(Vehicle):\n",
        "    def __init__(self, brand, color, num_doors):\n",
        "        super().__init__(brand, color)  # Call Vehicle constructor\n",
        "        self.num_doors = num_doors\n",
        "\n",
        "    def display_info(self):\n",
        "        super().display_info()  # Call Vehicle's display_info\n",
        "        print(\"Number of doors:\", self.num_doors)\n",
        "\n",
        "# Create a Car instance\n",
        "my_car = Car(\"Toyota\", \"Red\", 4)\n",
        "my_car.display_info()"
      ],
      "cell_type": "code",
      "metadata": {
        "id": "iBuTkX89FgMQ",
        "outputId": "8f76fe20-a041-4686-ace9-73e650ed0f93",
        "colab": {
          "base_uri": "https://localhost:8080/"
        }
      },
      "execution_count": 4,
      "outputs": [
        {
          "output_type": "stream",
          "name": "stdout",
          "text": [
            "Brand: Toyota\n",
            "Color: Red\n",
            "Number of doors: 4\n"
          ]
        }
      ]
    },
    {
      "cell_type": "markdown",
      "source": [
        "**Explanation:**\n",
        "\n",
        "1. **Vehicle Class:** Defines basic vehicle attributes and a **display_info** method.\n",
        "2. **Car Class:** Inherits from Vehicle, adding a num_doors attribute.\n",
        "   - Its constructor uses **super()** to initialize inherited attributes.\n",
        "   - Its **display_info** method calls the superclass's method using **super().display_info()** to display inherited attributes and then adds its own specific information.\n",
        "\n",
        "This example demonstrates how **super()** allows a subclass **(Car)** to leverage and extend the functionality of its superclass **(Vehicle)** while maintaining a clear inheritance hierarchy."
      ],
      "metadata": {
        "id": "Mi6Nd23qFtg6"
      }
    },
    {
      "cell_type": "markdown",
      "source": [],
      "metadata": {
        "id": "CJdSXRevGCKI"
      }
    }
  ]
}