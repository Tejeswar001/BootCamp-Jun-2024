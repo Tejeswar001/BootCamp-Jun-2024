{
  "nbformat": 4,
  "nbformat_minor": 0,
  "metadata": {
    "colab": {
      "provenance": [],
      "authorship_tag": "ABX9TyNPbHnUHYl0pcv/rkteWojU",
      "include_colab_link": true
    },
    "kernelspec": {
      "name": "python3",
      "display_name": "Python 3"
    },
    "language_info": {
      "name": "python"
    }
  },
  "cells": [
    {
      "cell_type": "markdown",
      "metadata": {
        "id": "view-in-github",
        "colab_type": "text"
      },
      "source": [
        "<a href=\"https://colab.research.google.com/github/Tejeswar001/Python-Practice-/blob/BootCampProgress/08-06/inheritance.ipynb\" target=\"_parent\"><img src=\"https://colab.research.google.com/assets/colab-badge.svg\" alt=\"Open In Colab\"/></a>"
      ]
    },
    {
      "cell_type": "markdown",
      "source": [
        "# Inheritance"
      ],
      "metadata": {
        "id": "8XIZhGgwbtE5"
      }
    },
    {
      "cell_type": "markdown",
      "source": [
        "Inheritance in Object-Oriented Programming (OOP) is a mechanism where you can derive a new class (subclass or child class) from an existing class (base class or parent class).\n",
        "\n",
        "The subclass inherits properties and behaviors (methods) from the parent class, allowing you to reuse code and establish hierarchical relationships between classes."
      ],
      "metadata": {
        "id": "1c3HyaGebzLt"
      }
    },
    {
      "source": [
        "class ParentClass:\n",
        "    def __init__(self, name):\n",
        "        self.name = name\n",
        "\n",
        "class ChildClass(ParentClass):\n",
        "    def __init__(self, name, age):\n",
        "        super().__init__(name)\n",
        "        self.age = age\n",
        "\n",
        "# Call the ChildClass\n",
        "child = ChildClass(\"Alice\", 10)\n",
        "print(child.name)  # Output: Alice\n",
        "print(child.age)   # Output: 10"
      ],
      "cell_type": "code",
      "metadata": {
        "colab": {
          "base_uri": "https://localhost:8080/"
        },
        "id": "r7uHgaMmdWj8",
        "outputId": "f3b8dc5d-3dc5-4783-d3a4-b2af7292d07b"
      },
      "execution_count": null,
      "outputs": [
        {
          "output_type": "stream",
          "name": "stdout",
          "text": [
            "Alice\n",
            "10\n"
          ]
        }
      ]
    },
    {
      "cell_type": "markdown",
      "source": [
        "# Properties Of Inheritance"
      ],
      "metadata": {
        "id": "m2qH5kJ1fvqu"
      }
    },
    {
      "cell_type": "markdown",
      "source": [
        "Here are the key properties of inheritance in Object-Oriented Programming:\n",
        "\n",
        "1. Code Reusability: Inheritance lets you create new classes (child classes) that inherit properties and methods from existing classes (parent classes). This avoids redundant code.\n",
        "\n",
        "2. Extensibility: Child classes can extend the functionality of parent classes by adding new methods or overriding existing ones.\n",
        "\n",
        "3. Hierarchy: Inheritance creates a hierarchical relationship between classes, modeling real-world relationships."
      ],
      "metadata": {
        "id": "pPRxmQZKf2Wv"
      }
    },
    {
      "cell_type": "markdown",
      "source": [
        "**Polymorphism**: The Power of Many Forms\n",
        "\n",
        "Think of polymorphism as a chameleon in the coding world. It lets different classes behave like they belong to the same family, even if they have their unique traits.\n",
        "\n",
        "This means you can write code that interacts with objects from various classes through a shared interface. It's like having a universal remote that works with different devices, making your code more adaptable and easier to maintain."
      ],
      "metadata": {
        "id": "sHhphSvkiMrz"
      }
    },
    {
      "source": [
        "class Vehicle:\n",
        "    def __init__(self, brand, color):\n",
        "        self.brand = brand\n",
        "        self.color = color\n",
        "\n",
        "    def display_info(self):\n",
        "        print(\"Brand:\", self.brand)\n",
        "        print(\"Color:\", self.color)\n",
        "\n",
        "class Car(Vehicle):\n",
        "    def __init__(self, brand, color, num_doors):\n",
        "        super().__init__(brand, color)  # Initialize the Vehicle class attributes\n",
        "        self.num_doors = num_doors\n",
        "\n",
        "    def display_info(self):\n",
        "        super().display_info()  # Call the display_info method of the parent class\n",
        "        print(\"Number of doors:\", self.num_doors)\n",
        "\n",
        "my_car = Car(\"Toyota\", \"Red\", 4)\n",
        "my_car.display_info()"
      ],
      "cell_type": "code",
      "metadata": {
        "colab": {
          "base_uri": "https://localhost:8080/"
        },
        "id": "Xe5laZ25gVA7",
        "outputId": "d79fa4b4-ce45-4b59-dcc9-92b37bf37fc9"
      },
      "execution_count": 1,
      "outputs": [
        {
          "output_type": "stream",
          "name": "stdout",
          "text": [
            "Brand: Toyota\n",
            "Color: Red\n",
            "Number of doors: 4\n"
          ]
        }
      ]
    }
  ]
}
