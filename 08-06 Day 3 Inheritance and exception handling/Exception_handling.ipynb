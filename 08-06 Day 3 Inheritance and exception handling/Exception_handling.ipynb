{
  "nbformat": 4,
  "nbformat_minor": 0,
  "metadata": {
    "colab": {
      "provenance": [],
      "authorship_tag": "ABX9TyPcBJ0lJjr0k+zN0hDly59x",
      "include_colab_link": true
    },
    "kernelspec": {
      "name": "python3",
      "display_name": "Python 3"
    },
    "language_info": {
      "name": "python"
    }
  },
  "cells": [
    {
      "cell_type": "markdown",
      "metadata": {
        "id": "view-in-github",
        "colab_type": "text"
      },
      "source": [
        "<a href=\"https://colab.research.google.com/github/Tejeswar001/Python-Practice-/blob/BootCampProgress/08-06%20Day%203%20Inheritance%20and%20exception%20handling/Exception_handling.ipynb\" target=\"_parent\"><img src=\"https://colab.research.google.com/assets/colab-badge.svg\" alt=\"Open In Colab\"/></a>"
      ]
    },
    {
      "cell_type": "markdown",
      "source": [
        "# Exception Handling"
      ],
      "metadata": {
        "id": "Fp8CtS1vGTlE"
      }
    },
    {
      "cell_type": "markdown",
      "source": [
        "Exception handling is a way to handle errors that occur during the execution of a program.\n",
        "\n",
        "In Python, this is done using the **try, except, else, and finally** blocks."
      ],
      "metadata": {
        "id": "mU_LzMqNGrzF"
      }
    },
    {
      "cell_type": "markdown",
      "source": [
        "basic exception handling with try and except blocks."
      ],
      "metadata": {
        "id": "fWzFiOu5H_eo"
      }
    },
    {
      "cell_type": "markdown",
      "source": [
        "1. Specific Exception Handling: Catching specific exceptions by their type."
      ],
      "metadata": {
        "id": "mbDkA9VFIQsd"
      }
    },
    {
      "cell_type": "code",
      "execution_count": 4,
      "metadata": {
        "id": "BWph2Lsx0Xx2",
        "outputId": "177238a0-f656-412b-d87b-eea7776fef3a",
        "colab": {
          "base_uri": "https://localhost:8080/"
        }
      },
      "outputs": [
        {
          "output_type": "stream",
          "name": "stdout",
          "text": [
            "Zero Division Error\n"
          ]
        }
      ],
      "source": [
        "#syntax\n",
        "try:# try block\n",
        "  example = 10/0\n",
        "  print(example)\n",
        "\n",
        "except ZeroDivisionError:# exception block\n",
        "  print(\"Zero Division Error\")# only if error is zero division error"
      ]
    },
    {
      "cell_type": "markdown",
      "source": [
        "we predicted the zerodivision error with respect to the code given, and we have an exception case block for exactly for zero division error."
      ],
      "metadata": {
        "id": "LJEPzRSfIHvw"
      }
    },
    {
      "cell_type": "markdown",
      "source": [
        "2. Generic Exception Handling: Catching any exception using a general **except** block."
      ],
      "metadata": {
        "id": "EBWvZRbMI5kk"
      }
    },
    {
      "cell_type": "code",
      "source": [
        "try:\n",
        "  example=int(input())\n",
        "  print(example)\n",
        "except:\n",
        "  print(\"invalid input\")"
      ],
      "metadata": {
        "id": "IExLd09UIHEt",
        "outputId": "72a2a770-add6-4941-c2f2-4bd49afbcf74",
        "colab": {
          "base_uri": "https://localhost:8080/"
        }
      },
      "execution_count": 3,
      "outputs": [
        {
          "output_type": "stream",
          "name": "stdout",
          "text": [
            "string as input\n",
            "invalid input\n"
          ]
        }
      ]
    },
    {
      "cell_type": "code",
      "source": [
        "try:\n",
        "  example=\"hi\"\n",
        "  print(int(\"hi\"))\n",
        "except Exception as e:\n",
        "  print(f\"an error occured {e}\")"
      ],
      "metadata": {
        "id": "B5g5Vg_RJVIQ",
        "outputId": "01a812e6-0f2a-4631-b007-df004ca4a35f",
        "colab": {
          "base_uri": "https://localhost:8080/"
        }
      },
      "execution_count": 2,
      "outputs": [
        {
          "output_type": "stream",
          "name": "stdout",
          "text": [
            "an error occured invalid literal for int() with base 10: 'hi'\n"
          ]
        }
      ]
    },
    {
      "cell_type": "markdown",
      "source": [
        "3. Raising Exception Handling: Manually raising exceptions using the **\"raise\"** keyword."
      ],
      "metadata": {
        "id": "KAZ_OAUgJqZl"
      }
    },
    {
      "source": [
        "def divide(x, y):\n",
        "    if y == 0:\n",
        "        raise ZeroDivisionError(\"Cannot divide by zero\")\n",
        "    return x / y\n",
        "\n",
        "divide(10, 0)"
      ],
      "cell_type": "code",
      "metadata": {
        "id": "SONSQ-yHKQpa",
        "outputId": "54f36c9c-41c8-4cc3-f526-df735f8ef434",
        "colab": {
          "base_uri": "https://localhost:8080/",
          "height": 309
        }
      },
      "execution_count": 5,
      "outputs": [
        {
          "output_type": "error",
          "ename": "ZeroDivisionError",
          "evalue": "Cannot divide by zero",
          "traceback": [
            "\u001b[0;31m---------------------------------------------------------------------------\u001b[0m",
            "\u001b[0;31mZeroDivisionError\u001b[0m                         Traceback (most recent call last)",
            "\u001b[0;32m<ipython-input-5-3f9c251f3c65>\u001b[0m in \u001b[0;36m<cell line: 6>\u001b[0;34m()\u001b[0m\n\u001b[1;32m      4\u001b[0m     \u001b[0;32mreturn\u001b[0m \u001b[0mx\u001b[0m \u001b[0;34m/\u001b[0m \u001b[0my\u001b[0m\u001b[0;34m\u001b[0m\u001b[0;34m\u001b[0m\u001b[0m\n\u001b[1;32m      5\u001b[0m \u001b[0;34m\u001b[0m\u001b[0m\n\u001b[0;32m----> 6\u001b[0;31m \u001b[0mdivide\u001b[0m\u001b[0;34m(\u001b[0m\u001b[0;36m10\u001b[0m\u001b[0;34m,\u001b[0m \u001b[0;36m0\u001b[0m\u001b[0;34m)\u001b[0m\u001b[0;34m\u001b[0m\u001b[0;34m\u001b[0m\u001b[0m\n\u001b[0m",
            "\u001b[0;32m<ipython-input-5-3f9c251f3c65>\u001b[0m in \u001b[0;36mdivide\u001b[0;34m(x, y)\u001b[0m\n\u001b[1;32m      1\u001b[0m \u001b[0;32mdef\u001b[0m \u001b[0mdivide\u001b[0m\u001b[0;34m(\u001b[0m\u001b[0mx\u001b[0m\u001b[0;34m,\u001b[0m \u001b[0my\u001b[0m\u001b[0;34m)\u001b[0m\u001b[0;34m:\u001b[0m\u001b[0;34m\u001b[0m\u001b[0;34m\u001b[0m\u001b[0m\n\u001b[1;32m      2\u001b[0m     \u001b[0;32mif\u001b[0m \u001b[0my\u001b[0m \u001b[0;34m==\u001b[0m \u001b[0;36m0\u001b[0m\u001b[0;34m:\u001b[0m\u001b[0;34m\u001b[0m\u001b[0;34m\u001b[0m\u001b[0m\n\u001b[0;32m----> 3\u001b[0;31m         \u001b[0;32mraise\u001b[0m \u001b[0mZeroDivisionError\u001b[0m\u001b[0;34m(\u001b[0m\u001b[0;34m\"Cannot divide by zero\"\u001b[0m\u001b[0;34m)\u001b[0m\u001b[0;34m\u001b[0m\u001b[0;34m\u001b[0m\u001b[0m\n\u001b[0m\u001b[1;32m      4\u001b[0m     \u001b[0;32mreturn\u001b[0m \u001b[0mx\u001b[0m \u001b[0;34m/\u001b[0m \u001b[0my\u001b[0m\u001b[0;34m\u001b[0m\u001b[0;34m\u001b[0m\u001b[0m\n\u001b[1;32m      5\u001b[0m \u001b[0;34m\u001b[0m\u001b[0m\n",
            "\u001b[0;31mZeroDivisionError\u001b[0m: Cannot divide by zero"
          ]
        }
      ]
    }
  ]
}