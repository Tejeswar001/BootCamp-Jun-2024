{
  "nbformat": 4,
  "nbformat_minor": 0,
  "metadata": {
    "colab": {
      "provenance": [],
      "authorship_tag": "ABX9TyNW+a8VrX/FZWek79RWoTUO",
      "include_colab_link": true
    },
    "kernelspec": {
      "name": "python3",
      "display_name": "Python 3"
    },
    "language_info": {
      "name": "python"
    }
  },
  "cells": [
    {
      "cell_type": "markdown",
      "metadata": {
        "id": "view-in-github",
        "colab_type": "text"
      },
      "source": [
        "<a href=\"https://colab.research.google.com/github/Tejeswar001/Python-Practice-/blob/BootCampProgress/08-06%20Day%203%20Inheritance%20and%20exception%20handling/Exception_handling.ipynb\" target=\"_parent\"><img src=\"https://colab.research.google.com/assets/colab-badge.svg\" alt=\"Open In Colab\"/></a>"
      ]
    },
    {
      "cell_type": "markdown",
      "source": [
        "# Exception Handling"
      ],
      "metadata": {
        "id": "Fp8CtS1vGTlE"
      }
    },
    {
      "cell_type": "markdown",
      "source": [
        "Exception handling is a way to handle errors that occur during the execution of a program.\n",
        "\n",
        "In Python, this is done using the **try, except, else, and finally** blocks."
      ],
      "metadata": {
        "id": "mU_LzMqNGrzF"
      }
    },
    {
      "cell_type": "markdown",
      "source": [
        "basic exception handling with try and except blocks."
      ],
      "metadata": {
        "id": "fWzFiOu5H_eo"
      }
    },
    {
      "cell_type": "markdown",
      "source": [
        "1. Specific Exception Handling: Catching specific exceptions by their type."
      ],
      "metadata": {
        "id": "mbDkA9VFIQsd"
      }
    },
    {
      "cell_type": "code",
      "execution_count": 4,
      "metadata": {
        "id": "BWph2Lsx0Xx2",
        "colab": {
          "base_uri": "https://localhost:8080/"
        },
        "outputId": "177238a0-f656-412b-d87b-eea7776fef3a"
      },
      "outputs": [
        {
          "output_type": "stream",
          "name": "stdout",
          "text": [
            "Zero Division Error\n"
          ]
        }
      ],
      "source": [
        "#syntax\n",
        "try:# try block\n",
        "  example = 10/0\n",
        "  print(example)\n",
        "\n",
        "except ZeroDivisionError:# exception block\n",
        "  print(\"Zero Division Error\")# only if error is zero division error"
      ]
    },
    {
      "cell_type": "markdown",
      "source": [
        "we predicted the zerodivision error with respect to the code given, and we have an exception case block for exactly for zero division error."
      ],
      "metadata": {
        "id": "LJEPzRSfIHvw"
      }
    },
    {
      "cell_type": "markdown",
      "source": [
        "2. Generic Exception Handling: Catching any exception using a general **except** block."
      ],
      "metadata": {
        "id": "EBWvZRbMI5kk"
      }
    },
    {
      "cell_type": "code",
      "source": [
        "try:\n",
        "  example=int(input())\n",
        "  print(example)\n",
        "except:\n",
        "  print(\"invalid input\")"
      ],
      "metadata": {
        "colab": {
          "base_uri": "https://localhost:8080/"
        },
        "id": "IExLd09UIHEt",
        "outputId": "72a2a770-add6-4941-c2f2-4bd49afbcf74"
      },
      "execution_count": 3,
      "outputs": [
        {
          "output_type": "stream",
          "name": "stdout",
          "text": [
            "string as input\n",
            "invalid input\n"
          ]
        }
      ]
    },
    {
      "cell_type": "code",
      "source": [
        "try:\n",
        "  example=\"hi\"\n",
        "  print(int(\"hi\"))\n",
        "except Exception as e:\n",
        "  print(f\"an error occured {e}\")"
      ],
      "metadata": {
        "colab": {
          "base_uri": "https://localhost:8080/"
        },
        "id": "B5g5Vg_RJVIQ",
        "outputId": "01a812e6-0f2a-4631-b007-df004ca4a35f"
      },
      "execution_count": 2,
      "outputs": [
        {
          "output_type": "stream",
          "name": "stdout",
          "text": [
            "an error occured invalid literal for int() with base 10: 'hi'\n"
          ]
        }
      ]
    },
    {
      "cell_type": "markdown",
      "source": [
        "3. Raising Exception Handling: Manually raising exceptions using the **\"raise\"** keyword."
      ],
      "metadata": {
        "id": "KAZ_OAUgJqZl"
      }
    },
    {
      "source": [
        "def divide(x, y):\n",
        "    if y == 0:\n",
        "        raise ZeroDivisionError(\"Cannot divide by zero\")\n",
        "    return x / y\n",
        "\n",
        "divide(10, 0)"
      ],
      "cell_type": "code",
      "metadata": {
        "colab": {
          "base_uri": "https://localhost:8080/",
          "height": 309
        },
        "id": "SONSQ-yHKQpa",
        "outputId": "54f36c9c-41c8-4cc3-f526-df735f8ef434"
      },
      "execution_count": 5,
      "outputs": [
        {
          "output_type": "error",
          "ename": "ZeroDivisionError",
          "evalue": "Cannot divide by zero",
          "traceback": [
            "\u001b[0;31m---------------------------------------------------------------------------\u001b[0m",
            "\u001b[0;31mZeroDivisionError\u001b[0m                         Traceback (most recent call last)",
            "\u001b[0;32m<ipython-input-5-3f9c251f3c65>\u001b[0m in \u001b[0;36m<cell line: 6>\u001b[0;34m()\u001b[0m\n\u001b[1;32m      4\u001b[0m     \u001b[0;32mreturn\u001b[0m \u001b[0mx\u001b[0m \u001b[0;34m/\u001b[0m \u001b[0my\u001b[0m\u001b[0;34m\u001b[0m\u001b[0;34m\u001b[0m\u001b[0m\n\u001b[1;32m      5\u001b[0m \u001b[0;34m\u001b[0m\u001b[0m\n\u001b[0;32m----> 6\u001b[0;31m \u001b[0mdivide\u001b[0m\u001b[0;34m(\u001b[0m\u001b[0;36m10\u001b[0m\u001b[0;34m,\u001b[0m \u001b[0;36m0\u001b[0m\u001b[0;34m)\u001b[0m\u001b[0;34m\u001b[0m\u001b[0;34m\u001b[0m\u001b[0m\n\u001b[0m",
            "\u001b[0;32m<ipython-input-5-3f9c251f3c65>\u001b[0m in \u001b[0;36mdivide\u001b[0;34m(x, y)\u001b[0m\n\u001b[1;32m      1\u001b[0m \u001b[0;32mdef\u001b[0m \u001b[0mdivide\u001b[0m\u001b[0;34m(\u001b[0m\u001b[0mx\u001b[0m\u001b[0;34m,\u001b[0m \u001b[0my\u001b[0m\u001b[0;34m)\u001b[0m\u001b[0;34m:\u001b[0m\u001b[0;34m\u001b[0m\u001b[0;34m\u001b[0m\u001b[0m\n\u001b[1;32m      2\u001b[0m     \u001b[0;32mif\u001b[0m \u001b[0my\u001b[0m \u001b[0;34m==\u001b[0m \u001b[0;36m0\u001b[0m\u001b[0;34m:\u001b[0m\u001b[0;34m\u001b[0m\u001b[0;34m\u001b[0m\u001b[0m\n\u001b[0;32m----> 3\u001b[0;31m         \u001b[0;32mraise\u001b[0m \u001b[0mZeroDivisionError\u001b[0m\u001b[0;34m(\u001b[0m\u001b[0;34m\"Cannot divide by zero\"\u001b[0m\u001b[0;34m)\u001b[0m\u001b[0;34m\u001b[0m\u001b[0;34m\u001b[0m\u001b[0m\n\u001b[0m\u001b[1;32m      4\u001b[0m     \u001b[0;32mreturn\u001b[0m \u001b[0mx\u001b[0m \u001b[0;34m/\u001b[0m \u001b[0my\u001b[0m\u001b[0;34m\u001b[0m\u001b[0;34m\u001b[0m\u001b[0m\n\u001b[1;32m      5\u001b[0m \u001b[0;34m\u001b[0m\u001b[0m\n",
            "\u001b[0;31mZeroDivisionError\u001b[0m: Cannot divide by zero"
          ]
        }
      ]
    },
    {
      "cell_type": "markdown",
      "source": [
        "4. **else** and **finally** blocks:"
      ],
      "metadata": {
        "id": "BCqMI3CVK0SJ"
      }
    },
    {
      "cell_type": "markdown",
      "source": [
        "The **else** and **finally** blocks provide additional control over exception handling in Python.\n",
        "\n",
        "**else** block:\n",
        "\n",
        "- Executes only if no exception is raised in the corresponding try block.\n",
        "- Used to specify code that should run when the try block completes successfully."
      ],
      "metadata": {
        "id": "28InZy4oLRp1"
      }
    },
    {
      "source": [
        "try:\n",
        "    result = 10 / 2\n",
        "except ZeroDivisionError:\n",
        "    print(\"Error: Division by zero\")\n",
        "else:\n",
        "    print(\"No exceptions occurred. Result:\", result)"
      ],
      "cell_type": "code",
      "metadata": {
        "id": "ql-vdGknLfDB"
      },
      "execution_count": null,
      "outputs": []
    },
    {
      "cell_type": "markdown",
      "source": [
        "**finally** block:\n",
        "\n",
        "- Executes regardless of whether an exception is raised or not.\n",
        "- Typically used for cleanup tasks like closing files or releasing resources."
      ],
      "metadata": {
        "id": "7AzATxHfLgPI"
      }
    },
    {
      "source": [
        "try:\n",
        "    file = open(\"data.txt\", \"r\")\n",
        "    # Perform operations on the file\n",
        "except FileNotFoundError:\n",
        "    print(\"File not found\")\n",
        "finally:\n",
        "    file.close()  # Close the file in any case"
      ],
      "cell_type": "code",
      "metadata": {
        "id": "EsEniarpLpaX"
      },
      "execution_count": null,
      "outputs": []
    },
    {
      "cell_type": "markdown",
      "source": [
        "# Different types of errors"
      ],
      "metadata": {
        "id": "S198l04QMOTT"
      }
    },
    {
      "source": [
        "# ZeroDivisionError: division by zero\n",
        "print(10 / 0)"
      ],
      "cell_type": "code",
      "metadata": {
        "id": "hL7irUrCMXhD",
        "outputId": "da05fe81-79f3-4b4a-e070-63d346bc8362",
        "colab": {
          "base_uri": "https://localhost:8080/",
          "height": 164
        }
      },
      "execution_count": 6,
      "outputs": [
        {
          "output_type": "error",
          "ename": "ZeroDivisionError",
          "evalue": "division by zero",
          "traceback": [
            "\u001b[0;31m---------------------------------------------------------------------------\u001b[0m",
            "\u001b[0;31mZeroDivisionError\u001b[0m                         Traceback (most recent call last)",
            "\u001b[0;32m<ipython-input-6-643f16561b44>\u001b[0m in \u001b[0;36m<cell line: 2>\u001b[0;34m()\u001b[0m\n\u001b[1;32m      1\u001b[0m \u001b[0;31m# ZeroDivisionError: division by zero\u001b[0m\u001b[0;34m\u001b[0m\u001b[0;34m\u001b[0m\u001b[0m\n\u001b[0;32m----> 2\u001b[0;31m \u001b[0mprint\u001b[0m\u001b[0;34m(\u001b[0m\u001b[0;36m10\u001b[0m \u001b[0;34m/\u001b[0m \u001b[0;36m0\u001b[0m\u001b[0;34m)\u001b[0m\u001b[0;34m\u001b[0m\u001b[0;34m\u001b[0m\u001b[0m\n\u001b[0m",
            "\u001b[0;31mZeroDivisionError\u001b[0m: division by zero"
          ]
        }
      ]
    },
    {
      "source": [
        "# TypeError: unsupported operand type(s) for +: 'int' and 'str'\n",
        "print(5 + \"hello\")"
      ],
      "cell_type": "code",
      "metadata": {
        "id": "S8fh6BsLMX9k",
        "outputId": "f617f2b1-19d6-4310-a15c-7d8d5581d448",
        "colab": {
          "base_uri": "https://localhost:8080/",
          "height": 164
        }
      },
      "execution_count": 7,
      "outputs": [
        {
          "output_type": "error",
          "ename": "TypeError",
          "evalue": "unsupported operand type(s) for +: 'int' and 'str'",
          "traceback": [
            "\u001b[0;31m---------------------------------------------------------------------------\u001b[0m",
            "\u001b[0;31mTypeError\u001b[0m                                 Traceback (most recent call last)",
            "\u001b[0;32m<ipython-input-7-1701fde43e05>\u001b[0m in \u001b[0;36m<cell line: 2>\u001b[0;34m()\u001b[0m\n\u001b[1;32m      1\u001b[0m \u001b[0;31m# TypeError: unsupported operand type(s) for +: 'int' and 'str'\u001b[0m\u001b[0;34m\u001b[0m\u001b[0;34m\u001b[0m\u001b[0m\n\u001b[0;32m----> 2\u001b[0;31m \u001b[0mprint\u001b[0m\u001b[0;34m(\u001b[0m\u001b[0;36m5\u001b[0m \u001b[0;34m+\u001b[0m \u001b[0;34m\"hello\"\u001b[0m\u001b[0;34m)\u001b[0m\u001b[0;34m\u001b[0m\u001b[0;34m\u001b[0m\u001b[0m\n\u001b[0m",
            "\u001b[0;31mTypeError\u001b[0m: unsupported operand type(s) for +: 'int' and 'str'"
          ]
        }
      ]
    },
    {
      "source": [
        "# NameError: name 'undefined_variable' is not defined\n",
        "print(undefined_variable)"
      ],
      "cell_type": "code",
      "metadata": {
        "id": "OAUetbLxMYYK",
        "outputId": "7065f8cd-426c-478b-f66c-a6f6cac18eba",
        "colab": {
          "base_uri": "https://localhost:8080/",
          "height": 164
        }
      },
      "execution_count": 8,
      "outputs": [
        {
          "output_type": "error",
          "ename": "NameError",
          "evalue": "name 'undefined_variable' is not defined",
          "traceback": [
            "\u001b[0;31m---------------------------------------------------------------------------\u001b[0m",
            "\u001b[0;31mNameError\u001b[0m                                 Traceback (most recent call last)",
            "\u001b[0;32m<ipython-input-8-c23cc055fae5>\u001b[0m in \u001b[0;36m<cell line: 2>\u001b[0;34m()\u001b[0m\n\u001b[1;32m      1\u001b[0m \u001b[0;31m# NameError: name 'undefined_variable' is not defined\u001b[0m\u001b[0;34m\u001b[0m\u001b[0;34m\u001b[0m\u001b[0m\n\u001b[0;32m----> 2\u001b[0;31m \u001b[0mprint\u001b[0m\u001b[0;34m(\u001b[0m\u001b[0mundefined_variable\u001b[0m\u001b[0;34m)\u001b[0m\u001b[0;34m\u001b[0m\u001b[0;34m\u001b[0m\u001b[0m\n\u001b[0m",
            "\u001b[0;31mNameError\u001b[0m: name 'undefined_variable' is not defined"
          ]
        }
      ]
    },
    {
      "source": [
        "# IndexError: list index out of range\n",
        "my_list = [1, 2, 3]\n",
        "print(my_list[5])"
      ],
      "cell_type": "code",
      "metadata": {
        "id": "-9SZI3fDMYoW",
        "outputId": "debab5b4-e4cd-4cb2-ea2a-dbfc270210b6",
        "colab": {
          "base_uri": "https://localhost:8080/",
          "height": 182
        }
      },
      "execution_count": 9,
      "outputs": [
        {
          "output_type": "error",
          "ename": "IndexError",
          "evalue": "list index out of range",
          "traceback": [
            "\u001b[0;31m---------------------------------------------------------------------------\u001b[0m",
            "\u001b[0;31mIndexError\u001b[0m                                Traceback (most recent call last)",
            "\u001b[0;32m<ipython-input-9-9fbc5ce4beab>\u001b[0m in \u001b[0;36m<cell line: 3>\u001b[0;34m()\u001b[0m\n\u001b[1;32m      1\u001b[0m \u001b[0;31m# IndexError: list index out of range\u001b[0m\u001b[0;34m\u001b[0m\u001b[0;34m\u001b[0m\u001b[0m\n\u001b[1;32m      2\u001b[0m \u001b[0mmy_list\u001b[0m \u001b[0;34m=\u001b[0m \u001b[0;34m[\u001b[0m\u001b[0;36m1\u001b[0m\u001b[0;34m,\u001b[0m \u001b[0;36m2\u001b[0m\u001b[0;34m,\u001b[0m \u001b[0;36m3\u001b[0m\u001b[0;34m]\u001b[0m\u001b[0;34m\u001b[0m\u001b[0;34m\u001b[0m\u001b[0m\n\u001b[0;32m----> 3\u001b[0;31m \u001b[0mprint\u001b[0m\u001b[0;34m(\u001b[0m\u001b[0mmy_list\u001b[0m\u001b[0;34m[\u001b[0m\u001b[0;36m5\u001b[0m\u001b[0;34m]\u001b[0m\u001b[0;34m)\u001b[0m\u001b[0;34m\u001b[0m\u001b[0;34m\u001b[0m\u001b[0m\n\u001b[0m",
            "\u001b[0;31mIndexError\u001b[0m: list index out of range"
          ]
        }
      ]
    },
    {
      "source": [
        "# KeyError: 'nonexistent_key'\n",
        "my_dict = {\"key\": \"value\"}\n",
        "print(my_dict[\"nonexistent_key\"])"
      ],
      "cell_type": "code",
      "metadata": {
        "id": "bI1puNlwMY8g",
        "outputId": "d1233ce6-14d2-4355-9469-8a4948b97717",
        "colab": {
          "base_uri": "https://localhost:8080/",
          "height": 182
        }
      },
      "execution_count": 10,
      "outputs": [
        {
          "output_type": "error",
          "ename": "KeyError",
          "evalue": "'nonexistent_key'",
          "traceback": [
            "\u001b[0;31m---------------------------------------------------------------------------\u001b[0m",
            "\u001b[0;31mKeyError\u001b[0m                                  Traceback (most recent call last)",
            "\u001b[0;32m<ipython-input-10-c98ad09e099e>\u001b[0m in \u001b[0;36m<cell line: 3>\u001b[0;34m()\u001b[0m\n\u001b[1;32m      1\u001b[0m \u001b[0;31m# KeyError: 'nonexistent_key'\u001b[0m\u001b[0;34m\u001b[0m\u001b[0;34m\u001b[0m\u001b[0m\n\u001b[1;32m      2\u001b[0m \u001b[0mmy_dict\u001b[0m \u001b[0;34m=\u001b[0m \u001b[0;34m{\u001b[0m\u001b[0;34m\"key\"\u001b[0m\u001b[0;34m:\u001b[0m \u001b[0;34m\"value\"\u001b[0m\u001b[0;34m}\u001b[0m\u001b[0;34m\u001b[0m\u001b[0;34m\u001b[0m\u001b[0m\n\u001b[0;32m----> 3\u001b[0;31m \u001b[0mprint\u001b[0m\u001b[0;34m(\u001b[0m\u001b[0mmy_dict\u001b[0m\u001b[0;34m[\u001b[0m\u001b[0;34m\"nonexistent_key\"\u001b[0m\u001b[0;34m]\u001b[0m\u001b[0;34m)\u001b[0m\u001b[0;34m\u001b[0m\u001b[0;34m\u001b[0m\u001b[0m\n\u001b[0m",
            "\u001b[0;31mKeyError\u001b[0m: 'nonexistent_key'"
          ]
        }
      ]
    },
    {
      "cell_type": "markdown",
      "source": [
        "# Scope of **try-except**"
      ],
      "metadata": {
        "id": "m69tn_PZNz6l"
      }
    },
    {
      "cell_type": "markdown",
      "source": [
        "In the context of exception handling, local, intermediate, and global levels refer to the scope of try-except blocks and where exceptions can be handled.\n",
        "\n",
        "1. Local Level:\n",
        "\n",
        "- The try-except block is within a function or a smaller code block.\n",
        "- Exceptions raised within the try block are handled by the corresponding except block within the same function or block.\n",
        "\n",
        "Example:"
      ],
      "metadata": {
        "id": "7ZRFNv6iN_Mq"
      }
    },
    {
      "source": [
        "def my_function():\n",
        "    try:\n",
        "        result = 10 / 0\n",
        "    except ZeroDivisionError:\n",
        "        print(\"Error handled locally within the function\")"
      ],
      "cell_type": "code",
      "metadata": {
        "id": "S77JG69yORsZ"
      },
      "execution_count": 12,
      "outputs": []
    },
    {
      "cell_type": "markdown",
      "source": [
        "2. Intermediate Level:\n",
        "\n",
        "- The try-except block is at an intermediate level, such as within a class or a larger code block encompassing multiple functions.\n",
        "- Exceptions raised within the try block can be handled by except blocks at the same level or higher (global).\n",
        "\n",
        "Example:"
      ],
      "metadata": {
        "id": "jY4jIf6AOUXI"
      }
    },
    {
      "source": [
        "class MyClass:\n",
        "    def my_method(self):\n",
        "        try:\n",
        "            result = 10 / 0\n",
        "        except ZeroDivisionError:\n",
        "            print(\"Error handled at the intermediate level within the class\")"
      ],
      "cell_type": "code",
      "metadata": {
        "id": "DAD0zHVsOYsC"
      },
      "execution_count": 13,
      "outputs": []
    },
    {
      "cell_type": "markdown",
      "source": [
        "3. Global Level:\n",
        "\n",
        "- The try-except block is at the top level of the script or module.\n",
        "- Exceptions not handled at local or intermediate levels will propagate up to the global level, where they can be caught by a global except block.\n",
        "\n",
        "Example:"
      ],
      "metadata": {
        "id": "2aZibjDbOcoe"
      }
    },
    {
      "source": [
        "try:\n",
        "    # Code that may raise exceptions\n",
        "    result = 10 / 0\n",
        "except ZeroDivisionError:\n",
        "    print(\"Error handled globally\")"
      ],
      "cell_type": "code",
      "metadata": {
        "id": "a_iHgcoEOgSz",
        "outputId": "b2b1e4a8-0df7-4e57-aedc-9c03f5801aae",
        "colab": {
          "base_uri": "https://localhost:8080/"
        }
      },
      "execution_count": 11,
      "outputs": [
        {
          "output_type": "stream",
          "name": "stdout",
          "text": [
            "Error handled globally\n"
          ]
        }
      ]
    },
    {
      "cell_type": "markdown",
      "source": [
        "**Key Points:**\n",
        "\n",
        "- Exceptions are first attempted to be handled at the local level.\n",
        "- If not handled locally, they propagate to higher levels (intermediate or global) until caught.\n",
        "- Unhandled exceptions at the global level will terminate the program."
      ],
      "metadata": {
        "id": "y6aQJcmFPDNq"
      }
    }
  ]
}