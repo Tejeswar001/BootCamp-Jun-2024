{
  "nbformat": 4,
  "nbformat_minor": 0,
  "metadata": {
    "colab": {
      "provenance": [],
      "authorship_tag": "ABX9TyO503EdMRkngf5Kg9l6IH6m",
      "include_colab_link": true
    },
    "kernelspec": {
      "name": "python3",
      "display_name": "Python 3"
    },
    "language_info": {
      "name": "python"
    }
  },
  "cells": [
    {
      "cell_type": "markdown",
      "metadata": {
        "id": "view-in-github",
        "colab_type": "text"
      },
      "source": [
        "<a href=\"https://colab.research.google.com/github/Tejeswar001/Python-Practice-/blob/BootCampProgress/10-06-Python%20data%20structures/tuple.ipynb\" target=\"_parent\"><img src=\"https://colab.research.google.com/assets/colab-badge.svg\" alt=\"Open In Colab\"/></a>"
      ]
    },
    {
      "cell_type": "markdown",
      "source": [
        "# Tuple Data Structure"
      ],
      "metadata": {
        "id": "-5PknfsSjD2M"
      }
    },
    {
      "cell_type": "markdown",
      "source": [
        "A tuple in Python is an immutable, ordered sequence of elements. You can create a tuple using parentheses."
      ],
      "metadata": {
        "id": "YIMjX4-vjJJI"
      }
    },
    {
      "source": [
        "my_tuple = (1, 2, \"hello\")"
      ],
      "cell_type": "code",
      "metadata": {
        "id": "nqZigodIjTVm"
      },
      "execution_count": 1,
      "outputs": []
    },
    {
      "cell_type": "code",
      "source": [
        "a = (1,2,3)\n",
        "print(type(a))"
      ],
      "metadata": {
        "id": "lu95OqbflUva",
        "outputId": "9484f2e2-a701-4bfa-b50d-9006d1d945a0",
        "colab": {
          "base_uri": "https://localhost:8080/"
        }
      },
      "execution_count": 6,
      "outputs": [
        {
          "output_type": "stream",
          "name": "stdout",
          "text": [
            "<class 'tuple'>\n"
          ]
        }
      ]
    },
    {
      "cell_type": "markdown",
      "source": [
        "To access elements of the tuple, use indexing."
      ],
      "metadata": {
        "id": "8JD3GwnajXQu"
      }
    },
    {
      "source": [
        "print(my_tuple[0])  # Output: 1"
      ],
      "cell_type": "code",
      "metadata": {
        "id": "qqf-JCTojYCU",
        "outputId": "06e2df6d-dd30-46a6-cdc0-4efaa66797b1",
        "colab": {
          "base_uri": "https://localhost:8080/"
        }
      },
      "execution_count": 2,
      "outputs": [
        {
          "output_type": "stream",
          "name": "stdout",
          "text": [
            "1\n"
          ]
        }
      ]
    },
    {
      "cell_type": "markdown",
      "source": [
        "**count** function in tuple"
      ],
      "metadata": {
        "id": "ijt3pankj6f7"
      }
    },
    {
      "source": [
        "my_tuple = (1, 2, 2, \"hello\")\n",
        "\n",
        "print(my_tuple.count(2))  # Output: 2, counts occurrences of 2"
      ],
      "cell_type": "code",
      "metadata": {
        "id": "ykPjImi-j_xp",
        "outputId": "056ab474-d93b-440e-c399-0693282d3517",
        "colab": {
          "base_uri": "https://localhost:8080/"
        }
      },
      "execution_count": 4,
      "outputs": [
        {
          "output_type": "stream",
          "name": "stdout",
          "text": [
            "2\n"
          ]
        }
      ]
    },
    {
      "cell_type": "markdown",
      "source": [
        "**len** function to know the size of the tuple"
      ],
      "metadata": {
        "id": "-FCb4_dUk93v"
      }
    },
    {
      "cell_type": "code",
      "source": [
        "my_tuple = (1, 2, \"hello\", True)\n",
        "print(len(my_tuple))"
      ],
      "metadata": {
        "id": "6wnaoe-Tj5-8",
        "outputId": "9d1e679f-6226-4078-b06f-06bb9793350f",
        "colab": {
          "base_uri": "https://localhost:8080/"
        }
      },
      "execution_count": 5,
      "outputs": [
        {
          "output_type": "stream",
          "name": "stdout",
          "text": [
            "4\n"
          ]
        }
      ]
    },
    {
      "cell_type": "markdown",
      "source": [
        "# Tuple Constructor\n",
        "\n",
        "It is also possible to use the tuple() constructor to make a tuple"
      ],
      "metadata": {
        "id": "7xcve9uDlgHX"
      }
    },
    {
      "cell_type": "code",
      "source": [
        "tuple_ = tuple((1,45,65,89))\n",
        "print(tuple_)"
      ],
      "metadata": {
        "id": "8xAMpO8ilqcM",
        "outputId": "3857d52c-220a-41e4-be13-bb2ae9d28031",
        "colab": {
          "base_uri": "https://localhost:8080/"
        }
      },
      "execution_count": 7,
      "outputs": [
        {
          "output_type": "stream",
          "name": "stdout",
          "text": [
            "(1, 45, 65, 89)\n"
          ]
        }
      ]
    },
    {
      "cell_type": "markdown",
      "source": [
        "# Indexing in Python Tuple"
      ],
      "metadata": {
        "id": "f4ZSJV3nl-U1"
      }
    },
    {
      "cell_type": "markdown",
      "source": [
        "**Negative Indexing**\n",
        "\n",
        "Negative indexing means start from end"
      ],
      "metadata": {
        "id": "JpmjZvrWmDsg"
      }
    },
    {
      "cell_type": "code",
      "source": [
        "tuple_ = (1,2,3,4,5)\n",
        "print(tuple_[-1])"
      ],
      "metadata": {
        "id": "vXzjFnV2mWP6",
        "outputId": "26e983de-edb4-4ffb-bd22-ba219ad92a89",
        "colab": {
          "base_uri": "https://localhost:8080/"
        }
      },
      "execution_count": 8,
      "outputs": [
        {
          "output_type": "stream",
          "name": "stdout",
          "text": [
            "5\n"
          ]
        }
      ]
    },
    {
      "cell_type": "markdown",
      "source": [
        "**Range of Indexes**\n",
        "\n",
        "Range of indexes by specifying where to start and where to end the range."
      ],
      "metadata": {
        "id": "2W-_0wUHmdIJ"
      }
    },
    {
      "cell_type": "code",
      "source": [
        "t = (1,2,3,4,5)\n",
        "print(t[1:4])"
      ],
      "metadata": {
        "id": "VogprIfkmchq",
        "outputId": "7733fabf-10da-4228-aa6d-c921e8b248ad",
        "colab": {
          "base_uri": "https://localhost:8080/"
        }
      },
      "execution_count": 9,
      "outputs": [
        {
          "output_type": "stream",
          "name": "stdout",
          "text": [
            "(2, 3, 4)\n"
          ]
        }
      ]
    },
    {
      "cell_type": "markdown",
      "source": [
        "**Join two tuples**"
      ],
      "metadata": {
        "id": "qLa6yCOLv2bH"
      }
    },
    {
      "cell_type": "markdown",
      "source": [
        "In Python, tuples are immutable sequences, meaning they cannot be changed after creation. To combine two tuples, you effectively create a new tuple containing all the elements from both original tuples. The + operator serves this purpose, concatenating the tuples and returning the combined result."
      ],
      "metadata": {
        "id": "0aXMZsfSwE53"
      }
    },
    {
      "source": [
        "tuple1 = (1, 2)\n",
        "tuple2 = (3, 4)\n",
        "\n",
        "tuple3 = tuple1 + tuple2\n",
        "print(tuple3) # Output: (1, 2, 3, 4)"
      ],
      "cell_type": "code",
      "metadata": {
        "id": "cDgTe7NSwFvl"
      },
      "execution_count": null,
      "outputs": []
    },
    {
      "cell_type": "markdown",
      "source": [
        "**Multiply Tuples**"
      ],
      "metadata": {
        "id": "dTucaTPcwItm"
      }
    },
    {
      "cell_type": "markdown",
      "source": [
        "If you want to multiply the content of a tuple a given number of times, you can use the * operator:"
      ],
      "metadata": {
        "id": "ZW70PPgExexa"
      }
    },
    {
      "cell_type": "code",
      "source": [
        "t = (1,2,3,4)\n",
        "t2 = t*3\n",
        "print(t2)"
      ],
      "metadata": {
        "id": "_FHuyOmrxfpD",
        "outputId": "3d1a5b76-4939-4b99-ee33-a85813f16684",
        "colab": {
          "base_uri": "https://localhost:8080/"
        }
      },
      "execution_count": 10,
      "outputs": [
        {
          "output_type": "stream",
          "name": "stdout",
          "text": [
            "(1, 2, 3, 4, 1, 2, 3, 4, 1, 2, 3, 4)\n"
          ]
        }
      ]
    },
    {
      "cell_type": "markdown",
      "source": [
        "# code to understand tuple better"
      ],
      "metadata": {
        "id": "T_NoTrkuyKSz"
      }
    },
    {
      "source": [
        "# Creating tuples\n",
        "tuple1 = (1, 2, 3)\n",
        "tuple2 = ('apple', 'banana', 'cherry')\n",
        "tuple3 = ()  # Empty tuple"
      ],
      "cell_type": "code",
      "metadata": {
        "id": "UCL19J0_yC-9"
      },
      "execution_count": 12,
      "outputs": []
    },
    {
      "source": [
        "# Accessing elements\n",
        "print(tuple1[0])  # Output: 1\n",
        "print(tuple2[1:])  # Output: ('banana', 'cherry')"
      ],
      "cell_type": "code",
      "metadata": {
        "id": "giD2I2p4yDT5",
        "outputId": "8ce1e081-751c-4412-dbe8-5eed66e92520",
        "colab": {
          "base_uri": "https://localhost:8080/"
        }
      },
      "execution_count": 13,
      "outputs": [
        {
          "output_type": "stream",
          "name": "stdout",
          "text": [
            "1\n",
            "('banana', 'cherry')\n"
          ]
        }
      ]
    },
    {
      "source": [
        "# Immutability\n",
        "# tuple1[0] = 5  # This will raise an error, as tuples cannot be modified"
      ],
      "cell_type": "code",
      "metadata": {
        "id": "Eq9SEFtFyDj9"
      },
      "execution_count": 14,
      "outputs": []
    },
    {
      "source": [
        "# Tuple unpacking\n",
        "x, y, z = tuple1\n",
        "print(x, y, z)  # Output: 1 2 3"
      ],
      "cell_type": "code",
      "metadata": {
        "id": "shaTIUBxyEB7",
        "outputId": "13569c31-fbd8-40c4-c27b-1f0256426bf1",
        "colab": {
          "base_uri": "https://localhost:8080/"
        }
      },
      "execution_count": 15,
      "outputs": [
        {
          "output_type": "stream",
          "name": "stdout",
          "text": [
            "1 2 3\n"
          ]
        }
      ]
    },
    {
      "source": [
        "# Tuple methods\n",
        "print(len(tuple2))  # Output: 3\n",
        "print(tuple1.count(2))  # Output: 1\n",
        "print(tuple2.index('banana'))  # Output: 1"
      ],
      "cell_type": "code",
      "metadata": {
        "id": "XnabV4vbyEdh",
        "outputId": "9b3e022f-c9a1-4f7e-ad3f-55d191193b5d",
        "colab": {
          "base_uri": "https://localhost:8080/"
        }
      },
      "execution_count": 16,
      "outputs": [
        {
          "output_type": "stream",
          "name": "stdout",
          "text": [
            "3\n",
            "1\n",
            "1\n"
          ]
        }
      ]
    },
    {
      "source": [
        "# Iterating through a tuple\n",
        "for item in tuple2:\n",
        "    print(item)"
      ],
      "cell_type": "code",
      "metadata": {
        "id": "FLjS_VCYyFIx",
        "outputId": "a65babb5-6f27-4182-9440-879be8a29946",
        "colab": {
          "base_uri": "https://localhost:8080/"
        }
      },
      "execution_count": 17,
      "outputs": [
        {
          "output_type": "stream",
          "name": "stdout",
          "text": [
            "apple\n",
            "banana\n",
            "cherry\n"
          ]
        }
      ]
    },
    {
      "source": [
        "# Converting a list to a tuple\n",
        "list1 = [1, 2, 3]\n",
        "tuple4 = tuple(list1)\n",
        "print(tuple4)  # Output: (1, 2, 3)"
      ],
      "cell_type": "code",
      "metadata": {
        "id": "aO34cX48yFlI",
        "outputId": "4c915f5f-170d-4753-fbf9-8ea6f380bc56",
        "colab": {
          "base_uri": "https://localhost:8080/"
        }
      },
      "execution_count": 18,
      "outputs": [
        {
          "output_type": "stream",
          "name": "stdout",
          "text": [
            "(1, 2, 3)\n"
          ]
        }
      ]
    }
  ]
}