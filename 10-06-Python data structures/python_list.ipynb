{
  "nbformat": 4,
  "nbformat_minor": 0,
  "metadata": {
    "colab": {
      "provenance": [],
      "authorship_tag": "ABX9TyNHF7WXy5lt6mnVBrz+uWci",
      "include_colab_link": true
    },
    "kernelspec": {
      "name": "python3",
      "display_name": "Python 3"
    },
    "language_info": {
      "name": "python"
    }
  },
  "cells": [
    {
      "cell_type": "markdown",
      "metadata": {
        "id": "view-in-github",
        "colab_type": "text"
      },
      "source": [
        "<a href=\"https://colab.research.google.com/github/Tejeswar001/Python-Practice-/blob/BootCampProgress/10-06-Python%20data%20structures/python_list.ipynb\" target=\"_parent\"><img src=\"https://colab.research.google.com/assets/colab-badge.svg\" alt=\"Open In Colab\"/></a>"
      ]
    },
    {
      "cell_type": "markdown",
      "source": [
        "# Python List"
      ],
      "metadata": {
        "id": "_jSkFXTJqFwa"
      }
    },
    {
      "cell_type": "markdown",
      "source": [
        "A Python list is a collection of items that are ordered and mutable."
      ],
      "metadata": {
        "id": "V55Qc1cmqKEp"
      }
    },
    {
      "cell_type": "markdown",
      "source": [
        "Features of Python List\n",
        "- **Ordered**: Elements in a sequence maintain the same order in which they were added.\n",
        "- **Indexable**: Elements in a sequence can be accessed using their position (index).\n",
        "- **Mutable**: A sequence can be changed after it's created (elements added, removed, or modified).\n",
        "- **Heterogeneous**: A sequence can contain elements of different data types.\n",
        "- **Dynamic**: The size of a sequence can change (grow or shrink) during runtime.\n",
        "- **Iterable**: A sequence can be iterated over (e.g., used in a for loop).\n",
        "- **Methods**: Functions associated with an object that operate on the object's data.\n",
        "- **Functions**: Blocks of reusable code that perform a specific task."
      ],
      "metadata": {
        "id": "UuJBp_gWsF5e"
      }
    },
    {
      "cell_type": "markdown",
      "source": [
        "Methods in Python List\n",
        "- **append()**: Adds an element to the end of the list.\n",
        "- **clear()**: Removes all elements from the list.\n",
        "- **copy()**: Creates and returns a copy of the list.\n",
        "- **count()**: Returns the count of elements that match a specified value.\n",
        "- **extend()**: Appends the elements of another iterable (e.g., list, tuple) to the end of the current list.\n",
        "- **index()**: Returns the index of the first occurrence of a specified value.\n",
        "- **insert()**: Inserts an element at a specified position in the list.\n",
        "- **pop()**: Removes and returns the element at a specified position. If no position is specified, it removes and returns the last element.\n",
        "- **remove()**: Removes the first occurrence of a specified value from the list.\n",
        "- **reverse()**: Reverses the order of elements in the list.\n",
        "- **sort()**: Sorts the elements of the list in ascending order by default. Optionally, a custom sorting function can be provided."
      ],
      "metadata": {
        "id": "tKaOU2YXtrt7"
      }
    },
    {
      "cell_type": "code",
      "execution_count": 17,
      "metadata": {
        "id": "P2yB7zl6qCC4"
      },
      "outputs": [],
      "source": [
        "a=[1, 2, 5, 8, 9, 11, 15, 21]# we use [] to represent a list data structure in python"
      ]
    },
    {
      "cell_type": "code",
      "source": [
        "a.append(25)# adds 25 to the end of the list\n",
        "print(a)"
      ],
      "metadata": {
        "colab": {
          "base_uri": "https://localhost:8080/"
        },
        "id": "I0zzzdnuuld0",
        "outputId": "0b8a8676-b4e0-41ed-d2ab-b8279d4e5e9e"
      },
      "execution_count": 18,
      "outputs": [
        {
          "output_type": "stream",
          "name": "stdout",
          "text": [
            "[1, 2, 5, 8, 9, 11, 15, 21, 25]\n"
          ]
        }
      ]
    },
    {
      "cell_type": "code",
      "source": [
        "a.clear()# removes all elements from the list\n",
        "print(a)"
      ],
      "metadata": {
        "colab": {
          "base_uri": "https://localhost:8080/"
        },
        "id": "jxiFs8lcuu1Z",
        "outputId": "0ad990a4-c71a-4733-84c1-6442717437aa"
      },
      "execution_count": 16,
      "outputs": [
        {
          "output_type": "stream",
          "name": "stdout",
          "text": [
            "[]\n"
          ]
        }
      ]
    },
    {
      "cell_type": "code",
      "source": [
        "b = a.copy()# creates and returns a copy of the list\n",
        "print(b)"
      ],
      "metadata": {
        "colab": {
          "base_uri": "https://localhost:8080/"
        },
        "id": "SI0Z_dVmu2rM",
        "outputId": "2d6bfc10-9e98-451a-f456-2bcfc319e2cd"
      },
      "execution_count": 8,
      "outputs": [
        {
          "output_type": "stream",
          "name": "stdout",
          "text": [
            "[1, 2, 5, 8, 9, 11, 15, 21, 25]\n"
          ]
        }
      ]
    },
    {
      "cell_type": "code",
      "source": [
        "count = a.count(2)# returns the count of elements that match a specified value\n",
        "print(count)"
      ],
      "metadata": {
        "colab": {
          "base_uri": "https://localhost:8080/"
        },
        "id": "d-ZxCEYdu-Y9",
        "outputId": "169d7d51-7e8c-4a4f-b957-85c879c37c3f"
      },
      "execution_count": 9,
      "outputs": [
        {
          "output_type": "stream",
          "name": "stdout",
          "text": [
            "1\n"
          ]
        }
      ]
    },
    {
      "cell_type": "code",
      "source": [
        "b = [ 45, 75, 89]\n",
        "a.extend(b)# appends the elements of another iterable (e.g., list, tuple) to the end of the current list\n",
        "print(a)"
      ],
      "metadata": {
        "colab": {
          "base_uri": "https://localhost:8080/"
        },
        "id": "Ct-EepMhvK8j",
        "outputId": "6b1a96af-0d44-4100-fa7d-ff17377d8d59"
      },
      "execution_count": 19,
      "outputs": [
        {
          "output_type": "stream",
          "name": "stdout",
          "text": [
            "[1, 2, 5, 8, 9, 11, 15, 21, 25, 45, 75, 89]\n"
          ]
        }
      ]
    },
    {
      "cell_type": "code",
      "source": [
        "c = a.index(2)# returns the index of the first occurrence of a specified value\n",
        "print(c)"
      ],
      "metadata": {
        "colab": {
          "base_uri": "https://localhost:8080/"
        },
        "id": "xiPOa54SvT7L",
        "outputId": "74dc60d4-5044-4738-eaaf-46b93c24b86c"
      },
      "execution_count": 22,
      "outputs": [
        {
          "output_type": "stream",
          "name": "stdout",
          "text": [
            "1\n"
          ]
        }
      ]
    },
    {
      "cell_type": "code",
      "source": [
        "a.insert(2, 25)# inserts an element at a specified position in the list\n",
        "print(a)"
      ],
      "metadata": {
        "colab": {
          "base_uri": "https://localhost:8080/"
        },
        "id": "ygJMqhDawAgC",
        "outputId": "e7467a3b-4031-4406-c725-1549bc6e2fed"
      },
      "execution_count": 23,
      "outputs": [
        {
          "output_type": "stream",
          "name": "stdout",
          "text": [
            "[1, 2, 25, 5, 8, 9, 11, 15, 21, 25, 45, 75, 89]\n"
          ]
        }
      ]
    },
    {
      "cell_type": "code",
      "source": [
        "d = a.pop()#Removes and returns the element at a specified position.\n",
        "f = a.pop(6)#If no position is specified, it removes and returns the last element.\n",
        "print(f)\n",
        "print(d)\n",
        "print(a)"
      ],
      "metadata": {
        "colab": {
          "base_uri": "https://localhost:8080/"
        },
        "id": "-sqfBPfTwFzO",
        "outputId": "27c5b85a-088c-43e3-b2fb-9bf569160d00"
      },
      "execution_count": 25,
      "outputs": [
        {
          "output_type": "stream",
          "name": "stdout",
          "text": [
            "11\n",
            "75\n",
            "[1, 2, 25, 5, 8, 9, 15, 21, 25, 45]\n"
          ]
        }
      ]
    },
    {
      "cell_type": "code",
      "source": [
        "g = a.remove(15)# removes the first occurrence of a specified value from the list\n",
        "print(g)\n",
        "print(a)"
      ],
      "metadata": {
        "colab": {
          "base_uri": "https://localhost:8080/"
        },
        "id": "nX2FJzHjwSkw",
        "outputId": "60fe366c-7021-4f61-8e75-d7a3a3c66aac"
      },
      "execution_count": 27,
      "outputs": [
        {
          "output_type": "stream",
          "name": "stdout",
          "text": [
            "None\n",
            "[1, 2, 25, 5, 8, 9, 21, 25, 45]\n"
          ]
        }
      ]
    },
    {
      "cell_type": "code",
      "source": [
        "a.reverse()# Reverses the order of elements in the list\n",
        "print(a)"
      ],
      "metadata": {
        "colab": {
          "base_uri": "https://localhost:8080/"
        },
        "id": "tFHVxYoGwsEm",
        "outputId": "1f64b3b5-853a-47c4-a98c-3e71f5b57b05"
      },
      "execution_count": 28,
      "outputs": [
        {
          "output_type": "stream",
          "name": "stdout",
          "text": [
            "[45, 25, 21, 9, 8, 5, 25, 2, 1]\n"
          ]
        }
      ]
    },
    {
      "cell_type": "code",
      "source": [
        "a.sort()#Sorts the elements of the list in ascending order by default.\n",
        "print(a)"
      ],
      "metadata": {
        "colab": {
          "base_uri": "https://localhost:8080/"
        },
        "id": "ZSFdNz1Awv3d",
        "outputId": "a9189540-603a-4f38-9af5-f5f6018dad04"
      },
      "execution_count": 29,
      "outputs": [
        {
          "output_type": "stream",
          "name": "stdout",
          "text": [
            "[1, 2, 5, 8, 9, 21, 25, 25, 45]\n"
          ]
        }
      ]
    },
    {
      "cell_type": "markdown",
      "source": [
        "# List Comprehension"
      ],
      "metadata": {
        "id": "ynB4It0FxXy9"
      }
    },
    {
      "cell_type": "markdown",
      "source": [
        "List comprehension provides a concise way to create lists in Python."
      ],
      "metadata": {
        "id": "kYNNP4vWxbap"
      }
    },
    {
      "cell_type": "markdown",
      "source": [
        "The general syntax for lsit comprehension"
      ],
      "metadata": {
        "id": "sitR_bvixlI3"
      }
    },
    {
      "source": [
        "[expression for item in iterable if condition]"
      ],
      "cell_type": "code",
      "metadata": {
        "id": "N1_-Wy9vxrui"
      },
      "execution_count": null,
      "outputs": []
    },
    {
      "cell_type": "markdown",
      "source": [
        "Where:\n",
        "\n",
        "- **expression** is the value to be included in the resulting list, computed for each item.\n",
        "- **item** is a variable representing a member of the iterable.\n",
        "- **iterable** is a sequence (like a list, tuple, or range) that you want to iterate over.\n",
        "- **condition** is an optional filter that determines if an item should be included in the resulting list."
      ],
      "metadata": {
        "id": "YLBuWYg-x3sI"
      }
    },
    {
      "cell_type": "markdown",
      "source": [
        "For example, if you wanted to create a list of the squares of the first 10 numbers, you could do the following:"
      ],
      "metadata": {
        "id": "HPHGb_QOyEtL"
      }
    },
    {
      "source": [
        "squares = [i * i for i in range(1, 11)]\n",
        "print(squares)"
      ],
      "cell_type": "code",
      "metadata": {
        "colab": {
          "base_uri": "https://localhost:8080/"
        },
        "id": "whCZ2uuZyJ1v",
        "outputId": "d6a5ae92-2a9f-4040-d35d-9abc8547b138"
      },
      "execution_count": 31,
      "outputs": [
        {
          "output_type": "stream",
          "name": "stdout",
          "text": [
            "[1, 4, 9, 16, 25, 36, 49, 64, 81, 100]\n"
          ]
        }
      ]
    },
    {
      "cell_type": "markdown",
      "source": [
        "List comprehensions can also include conditions. For example, if you wanted to create a list of the squares of the first 10 odd numbers:"
      ],
      "metadata": {
        "id": "TpdKkxKVyObT"
      }
    },
    {
      "source": [
        "odd_squares = [i * i for i in range(1, 11) if i % 2 != 0]\n",
        "print(odd_squares)"
      ],
      "cell_type": "code",
      "metadata": {
        "colab": {
          "base_uri": "https://localhost:8080/"
        },
        "id": "qMI5505wyPLl",
        "outputId": "2fbf44f9-6b9f-4ef7-f87b-1447ccb13ded"
      },
      "execution_count": 32,
      "outputs": [
        {
          "output_type": "stream",
          "name": "stdout",
          "text": [
            "[1, 9, 25, 49, 81]\n"
          ]
        }
      ]
    },
    {
      "cell_type": "markdown",
      "source": [
        "List comprehension is also used for taking input in string data type with spaces separating the number into a list,"
      ],
      "metadata": {
        "id": "HXHgI-FZytYx"
      }
    },
    {
      "cell_type": "code",
      "source": [
        "a = [int(x) for x in input().split()]\n",
        "print(a)"
      ],
      "metadata": {
        "colab": {
          "base_uri": "https://localhost:8080/"
        },
        "id": "C4bUm-Niy-Ik",
        "outputId": "595f680e-68b6-443a-c3f9-ba60c2b11655"
      },
      "execution_count": 30,
      "outputs": [
        {
          "output_type": "stream",
          "name": "stdout",
          "text": [
            "1 2 3 4 5 6 7 8 9\n",
            "[1, 2, 3, 4, 5, 6, 7, 8, 9]\n"
          ]
        }
      ]
    },
    {
      "cell_type": "markdown",
      "source": [
        "# Indexing in Python List"
      ],
      "metadata": {
        "id": "NmylgiOj0-Pu"
      }
    },
    {
      "cell_type": "markdown",
      "source": [
        "**Positive Indexing**: Positive indexing refers to accessing elements in a sequence, such as a list or string, starting from index 0."
      ],
      "metadata": {
        "id": "PPadcvd81DNF"
      }
    },
    {
      "source": [
        "my_list = [10, 20, 30, 40]\n",
        "print(my_list[0])  # Output: 10\n",
        "print(my_list[2])  # Output: 30"
      ],
      "cell_type": "code",
      "metadata": {
        "id": "q7e5EfQe1R4c",
        "outputId": "3a57692b-303c-4815-d67c-74885d143793",
        "colab": {
          "base_uri": "https://localhost:8080/"
        }
      },
      "execution_count": 33,
      "outputs": [
        {
          "output_type": "stream",
          "name": "stdout",
          "text": [
            "10\n",
            "30\n"
          ]
        }
      ]
    },
    {
      "cell_type": "markdown",
      "source": [
        "**Negative Indexing**: Negative indexing provides a way to access elements from the end of a sequence. The last element is indexed as -1, the second-to-last as -2, and so on."
      ],
      "metadata": {
        "id": "GmnCtDzi1V1O"
      }
    },
    {
      "source": [
        "my_list = [10, 20, 30, 40]\n",
        "print(my_list[-1])  # Output: 40\n",
        "print(my_list[-3])  # Output: 20"
      ],
      "cell_type": "code",
      "metadata": {
        "id": "WvyDAPWF1btL",
        "outputId": "148afc83-9603-4d77-c018-a4b5d7472b67",
        "colab": {
          "base_uri": "https://localhost:8080/"
        }
      },
      "execution_count": 34,
      "outputs": [
        {
          "output_type": "stream",
          "name": "stdout",
          "text": [
            "40\n",
            "20\n"
          ]
        }
      ]
    },
    {
      "cell_type": "markdown",
      "source": [
        "To **Retrieve** elements from a Python list we can use indexing and slicing."
      ],
      "metadata": {
        "id": "286QOIEu1mYz"
      }
    },
    {
      "source": [
        "my_list = [10, 20, 30, 40]\n",
        "print(my_list[1])  # Output: 20 (Retrieves the second element)"
      ],
      "cell_type": "code",
      "metadata": {
        "id": "3rHTMyX_147d",
        "outputId": "200d151d-0225-422c-b9f8-7bd3b1fa0cb7",
        "colab": {
          "base_uri": "https://localhost:8080/"
        }
      },
      "execution_count": 35,
      "outputs": [
        {
          "output_type": "stream",
          "name": "stdout",
          "text": [
            "20\n"
          ]
        }
      ]
    },
    {
      "cell_type": "markdown",
      "source": [
        "**Update**\n",
        "You can update elements in a Python list using indexing by assigning new values to specific positions."
      ],
      "metadata": {
        "id": "CS8EdL3_2BwO"
      }
    },
    {
      "source": [
        "my_list = [10, 20, 30, 40]\n",
        "my_list[1] = 25  # Update the second element to 25\n",
        "print(my_list)   # Output: [10, 25, 30, 40]"
      ],
      "cell_type": "code",
      "metadata": {
        "id": "zfifeodc2GEr",
        "outputId": "c281bb95-fe02-4d16-873b-8759263cfb00",
        "colab": {
          "base_uri": "https://localhost:8080/"
        }
      },
      "execution_count": 36,
      "outputs": [
        {
          "output_type": "stream",
          "name": "stdout",
          "text": [
            "[10, 25, 30, 40]\n"
          ]
        }
      ]
    },
    {
      "cell_type": "markdown",
      "source": [
        "# Slicing in Python List"
      ],
      "metadata": {
        "id": "Emg0lQM02SOe"
      }
    },
    {
      "cell_type": "markdown",
      "source": [
        "Positive slicing in Python allows you to extract a portion of a sequence (like a list or string) using positive indices. The syntax is **sequence[start:end]**, where:\n",
        "\n",
        "- **start**: The index of the first element to include (inclusive).\n",
        "- **end**: The index of the first element to exclude (exclusive)."
      ],
      "metadata": {
        "id": "2URDVBIa2aqJ"
      }
    },
    {
      "source": [
        "my_list = [10, 20, 30, 40, 50]\n",
        "print(my_list[1:4])  # Output: [20, 30, 40] (Elements from index 1 to 3)\n",
        "print(my_list[:3])   # Output: [10, 20, 30] (Elements from the beginning to index 2)\n",
        "print(my_list[2:])   # Output: [30, 40, 50] (Elements from index 2 to the end)"
      ],
      "cell_type": "code",
      "metadata": {
        "id": "a_XnGsk82jpT",
        "outputId": "5765630d-f2a1-4d7e-9bce-6084f22d3294",
        "colab": {
          "base_uri": "https://localhost:8080/"
        }
      },
      "execution_count": 37,
      "outputs": [
        {
          "output_type": "stream",
          "name": "stdout",
          "text": [
            "[20, 30, 40]\n",
            "[10, 20, 30]\n",
            "[30, 40, 50]\n"
          ]
        }
      ]
    },
    {
      "cell_type": "markdown",
      "source": [
        "Negative slicing in Python works similarly to positive slicing, but it uses negative indices to reference elements from the end of the sequence."
      ],
      "metadata": {
        "id": "qmrL1fTR2vMn"
      }
    },
    {
      "source": [
        "my_list = [10, 20, 30, 40, 50]\n",
        "print(my_list[-3:-1])  # Output: [30, 40] (Elements from the third-to-last to the second-to-last)\n",
        "print(my_list[:-2])   # Output: [10, 20, 30] (Elements from the beginning to the second-to-last)\n",
        "print(my_list[-2:])   # Output: [40, 50] (Elements from the second-to-last to the end)"
      ],
      "cell_type": "code",
      "metadata": {
        "id": "srz1quGs2x_J",
        "outputId": "827c686d-77a4-441d-c095-54b9b9c9e109",
        "colab": {
          "base_uri": "https://localhost:8080/"
        }
      },
      "execution_count": 38,
      "outputs": [
        {
          "output_type": "stream",
          "name": "stdout",
          "text": [
            "[30, 40]\n",
            "[10, 20, 30]\n",
            "[40, 50]\n"
          ]
        }
      ]
    },
    {
      "cell_type": "markdown",
      "source": [
        "**Retrieve** in python list\n",
        "You can retrieve elements from a Python list using slicing by specifying the start and end indices."
      ],
      "metadata": {
        "id": "ZFdyWcD73C8X"
      }
    },
    {
      "source": [
        "my_list = [10, 20, 30, 40, 50]\n",
        "print(my_list[1:4])  # Output: [20, 30, 40] (Elements from index 1 to 3)"
      ],
      "cell_type": "code",
      "metadata": {
        "id": "48GtDPAe3MaK",
        "outputId": "2957f457-829a-4e6c-fbd5-f6aa822703df",
        "colab": {
          "base_uri": "https://localhost:8080/"
        }
      },
      "execution_count": 39,
      "outputs": [
        {
          "output_type": "stream",
          "name": "stdout",
          "text": [
            "[20, 30, 40]\n"
          ]
        }
      ]
    },
    {
      "source": [
        "print(my_list[-2:-1])  # Output: [30, 40] (Elements from the third-to-last to the second-to-last)"
      ],
      "cell_type": "code",
      "metadata": {
        "id": "_NVR76Q_3M73",
        "outputId": "1a431c30-2695-484d-cf4c-36ee716fc90f",
        "colab": {
          "base_uri": "https://localhost:8080/"
        }
      },
      "execution_count": 41,
      "outputs": [
        {
          "output_type": "stream",
          "name": "stdout",
          "text": [
            "[40]\n"
          ]
        }
      ]
    },
    {
      "cell_type": "markdown",
      "source": [
        "**Update**\n",
        "\n",
        "You can update multiple elements in a Python list using slicing by assigning a new iterable (like a list or tuple) to the slice."
      ],
      "metadata": {
        "id": "7_KH6nAv3r-U"
      }
    },
    {
      "source": [
        "my_list = [10, 20, 30, 40, 50]\n",
        "my_list[1:3] = [25, 35]  # Update elements at index 1 and 2\n",
        "print(my_list)   # Output: [10, 25, 35, 40, 50]"
      ],
      "cell_type": "code",
      "metadata": {
        "id": "-Gh8MfgM380I",
        "outputId": "f69e4ed2-8197-4002-8fdc-6d5c59dadb7c",
        "colab": {
          "base_uri": "https://localhost:8080/"
        }
      },
      "execution_count": 42,
      "outputs": [
        {
          "output_type": "stream",
          "name": "stdout",
          "text": [
            "[10, 25, 35, 40, 50]\n"
          ]
        }
      ]
    },
    {
      "cell_type": "markdown",
      "source": [
        "The length of the new iterable doesn't have to match the length of the slice."
      ],
      "metadata": {
        "id": "f05NCJmr3-W2"
      }
    },
    {
      "source": [
        "my_list[0:2] = [15]  # Replace the first two elements with a single element\n",
        "print(my_list)   # Output: [15, 35, 40, 50]"
      ],
      "cell_type": "code",
      "metadata": {
        "id": "YGYfXh6e4Cc-",
        "outputId": "626af13f-fea3-43ae-93fa-39db29c0f84f",
        "colab": {
          "base_uri": "https://localhost:8080/"
        }
      },
      "execution_count": 43,
      "outputs": [
        {
          "output_type": "stream",
          "name": "stdout",
          "text": [
            "[15, 35, 40, 50]\n"
          ]
        }
      ]
    },
    {
      "cell_type": "markdown",
      "source": [
        "**Deletion** using slicing"
      ],
      "metadata": {
        "id": "Z1_vdqze5fi-"
      }
    },
    {
      "cell_type": "markdown",
      "source": [
        "You can delete elements from a Python list using slicing by assigning an empty list to the slice you want to remove."
      ],
      "metadata": {
        "id": "Pv4PVdDs5xN_"
      }
    },
    {
      "source": [
        "my_list = [10, 20, 30, 40, 50]\n",
        "my_list[1:3] = []  # Delete elements at index 1 and 2\n",
        "print(my_list)   # Output: [10, 40, 50]"
      ],
      "cell_type": "code",
      "metadata": {
        "id": "fNsoHl8o5x47",
        "outputId": "0e808206-bbc5-445c-b257-eb59f5ee83f0",
        "colab": {
          "base_uri": "https://localhost:8080/"
        }
      },
      "execution_count": 48,
      "outputs": [
        {
          "output_type": "stream",
          "name": "stdout",
          "text": [
            "[10, 40, 50]\n"
          ]
        }
      ]
    },
    {
      "cell_type": "markdown",
      "source": [
        "**Insertion** using slicing"
      ],
      "metadata": {
        "id": "e8T_K2TU50q1"
      }
    },
    {
      "cell_type": "markdown",
      "source": [
        "While you can't directly insert elements using slicing alone, you can achieve insertion by replacing a slice with a longer iterable."
      ],
      "metadata": {
        "id": "4llMDQcp6Bug"
      }
    },
    {
      "source": [
        "my_list = [10, 20, 30, 40]\n",
        "my_list[1:1] = [15, 17]  # Insert elements at index 1\n",
        "print(my_list)  # Output: [10, 15, 17, 20, 30, 40]"
      ],
      "cell_type": "code",
      "metadata": {
        "id": "7YaemeV-6CZR",
        "outputId": "3215bcf5-9e08-4d01-e518-bc009d543ab2",
        "colab": {
          "base_uri": "https://localhost:8080/"
        }
      },
      "execution_count": 47,
      "outputs": [
        {
          "output_type": "stream",
          "name": "stdout",
          "text": [
            "[10, 15, 17, 20, 30, 40]\n"
          ]
        }
      ]
    },
    {
      "cell_type": "markdown",
      "source": [
        "# Basic Searching and Sorting in List"
      ],
      "metadata": {
        "id": "HgDwGaMt6Nye"
      }
    },
    {
      "cell_type": "markdown",
      "source": [
        "**Searching**:\n",
        "To search for an element in a list, you can use the in operator or the index() method."
      ],
      "metadata": {
        "id": "Nu35pAFy6Wwy"
      }
    },
    {
      "source": [
        "my_list = [10, 20, 30, 40]\n",
        "\n",
        "if 20 in my_list:\n",
        "    print(\"Element found\")  # Output: Element found\n",
        "\n",
        "print(my_list.index(30))  # Output: 2 (Index of the element 30)"
      ],
      "cell_type": "code",
      "metadata": {
        "id": "xdR0I_8I6iYg",
        "outputId": "444f748b-1d60-40b1-ff57-fb5c1b7ed435",
        "colab": {
          "base_uri": "https://localhost:8080/"
        }
      },
      "execution_count": 46,
      "outputs": [
        {
          "output_type": "stream",
          "name": "stdout",
          "text": [
            "Element found\n",
            "2\n"
          ]
        }
      ]
    },
    {
      "cell_type": "markdown",
      "source": [
        "**Sorting**: To sort a list, you can use the sort() method (in-place sorting) or the sorted() function (creates a new sorted list)."
      ],
      "metadata": {
        "id": "aQ2FMF1-6lNi"
      }
    },
    {
      "source": [
        "my_list = [40, 10, 30, 20]\n",
        "\n",
        "my_list.sort()  # Sorts the list in-place\n",
        "print(my_list)  # Output: [10, 20, 30, 40]\n",
        "\n",
        "new_list = sorted(my_list)  # Creates a new sorted list\n",
        "print(new_list)  # Output: [10, 20, 30, 40]\n",
        "\n",
        "my_list.sort(reverse=True)  # Sorts the list in descending order\n",
        "print(my_list)  # Output: [40, 30, 20, 10]"
      ],
      "cell_type": "code",
      "metadata": {
        "id": "rw4weAga6q3Y",
        "outputId": "2316b90a-360e-4733-8f01-5341d7551be5",
        "colab": {
          "base_uri": "https://localhost:8080/"
        }
      },
      "execution_count": 44,
      "outputs": [
        {
          "output_type": "stream",
          "name": "stdout",
          "text": [
            "[10, 20, 30, 40]\n",
            "[10, 20, 30, 40]\n",
            "[40, 30, 20, 10]\n"
          ]
        }
      ]
    },
    {
      "cell_type": "markdown",
      "source": [
        "# Special Methods"
      ],
      "metadata": {
        "id": "QnlyV3zw6736"
      }
    },
    {
      "cell_type": "markdown",
      "source": [
        "- **Reduce**: The reduce() function is not a method of the list object itself. It's a function from the functools module. It applies a function of two arguments cumulatively to the items of a sequence, from left to right, to reduce the sequence to a single value."
      ],
      "metadata": {
        "id": "AjX7LUf-6_1p"
      }
    },
    {
      "source": [
        "from functools import reduce\n",
        "\n",
        "def add(x, y):\n",
        "    return x + y\n",
        "\n",
        "my_list = [1, 2, 3, 4]\n",
        "result = reduce(add, my_list)\n",
        "print(result)  # Output: 10"
      ],
      "cell_type": "code",
      "metadata": {
        "id": "HLLXjDdD7pFV",
        "outputId": "ac391be9-96c0-453c-b4d1-7eabf6b043c9",
        "colab": {
          "base_uri": "https://localhost:8080/"
        }
      },
      "execution_count": 45,
      "outputs": [
        {
          "output_type": "stream",
          "name": "stdout",
          "text": [
            "10\n"
          ]
        }
      ]
    },
    {
      "cell_type": "markdown",
      "source": [
        "- **map**: The map() function applies a given function to each item of an iterable (like a list) and returns an iterator of the results."
      ],
      "metadata": {
        "id": "lzaV8ZPT9DAY"
      }
    },
    {
      "source": [
        "def square(x):\n",
        "    return x * x\n",
        "\n",
        "my_list = [1, 2, 3, 4]\n",
        "result = map(square, my_list)\n",
        "print(list(result))  # Output: [1, 4, 9, 16]\n"
      ],
      "cell_type": "code",
      "metadata": {
        "id": "0yZJJGjA9Jyh",
        "outputId": "c9be4f36-8a3f-43d4-8bf3-6793541ecf45",
        "colab": {
          "base_uri": "https://localhost:8080/"
        }
      },
      "execution_count": 49,
      "outputs": [
        {
          "output_type": "stream",
          "name": "stdout",
          "text": [
            "[1, 4, 9, 16]\n"
          ]
        }
      ]
    },
    {
      "cell_type": "markdown",
      "source": [
        "- **filter**: The filter() function constructs an iterator from elements of an iterable for which a given function returns True."
      ],
      "metadata": {
        "id": "wYxVAaFE9bMr"
      }
    },
    {
      "source": [
        "def is_even(x):\n",
        "    return x % 2 == 0\n",
        "\n",
        "my_list = [1, 2, 3, 4, 5, 6]\n",
        "result = filter(is_even, my_list)\n",
        "print(list(result))  # Output: [2, 4, 6]"
      ],
      "cell_type": "code",
      "metadata": {
        "id": "7T51Z6pR9i22",
        "outputId": "72e7c070-65e8-44c4-c5b0-a822c9fe68e4",
        "colab": {
          "base_uri": "https://localhost:8080/"
        }
      },
      "execution_count": 50,
      "outputs": [
        {
          "output_type": "stream",
          "name": "stdout",
          "text": [
            "[2, 4, 6]\n"
          ]
        }
      ]
    },
    {
      "cell_type": "markdown",
      "source": [
        "- **zip**:The zip() function takes iterables (like lists) as input and returns an iterator of tuples, where the i-th tuple contains the i-th element from each of the input iterables."
      ],
      "metadata": {
        "id": "Swnj1fSS_mjF"
      }
    },
    {
      "source": [
        "list1 = [1, 2, 3]\n",
        "list2 = ['a', 'b', 'c']\n",
        "\n",
        "result = zip(list1, list2)\n",
        "print(list(result))  # Output: [(1, 'a'), (2, 'b'), (3, 'c')]"
      ],
      "cell_type": "code",
      "metadata": {
        "id": "xJ_-qa_E_qZM",
        "outputId": "f0d6bcdd-9b62-4f99-9b52-a7acc8bea805",
        "colab": {
          "base_uri": "https://localhost:8080/"
        }
      },
      "execution_count": 51,
      "outputs": [
        {
          "output_type": "stream",
          "name": "stdout",
          "text": [
            "[(1, 'a'), (2, 'b'), (3, 'c')]\n"
          ]
        }
      ]
    }
  ]
}