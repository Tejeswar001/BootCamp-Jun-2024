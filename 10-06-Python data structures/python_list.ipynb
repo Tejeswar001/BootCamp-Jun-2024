{
  "nbformat": 4,
  "nbformat_minor": 0,
  "metadata": {
    "colab": {
      "provenance": [],
      "authorship_tag": "ABX9TyPwWQ+/iQ1JVe5eu/eLbDp/",
      "include_colab_link": true
    },
    "kernelspec": {
      "name": "python3",
      "display_name": "Python 3"
    },
    "language_info": {
      "name": "python"
    }
  },
  "cells": [
    {
      "cell_type": "markdown",
      "metadata": {
        "id": "view-in-github",
        "colab_type": "text"
      },
      "source": [
        "<a href=\"https://colab.research.google.com/github/Tejeswar001/Python-Practice-/blob/BootCampProgress/10-06-Python%20data%20structures/python_list.ipynb\" target=\"_parent\"><img src=\"https://colab.research.google.com/assets/colab-badge.svg\" alt=\"Open In Colab\"/></a>"
      ]
    },
    {
      "cell_type": "markdown",
      "source": [
        "# Python List"
      ],
      "metadata": {
        "id": "_jSkFXTJqFwa"
      }
    },
    {
      "cell_type": "markdown",
      "source": [
        "A Python list is a collection of items that are ordered and mutable."
      ],
      "metadata": {
        "id": "V55Qc1cmqKEp"
      }
    },
    {
      "cell_type": "markdown",
      "source": [
        "Features of Python List\n",
        "- **Ordered**: Elements in a sequence maintain the same order in which they were added.\n",
        "- **Indexable**: Elements in a sequence can be accessed using their position (index).\n",
        "- **Mutable**: A sequence can be changed after it's created (elements added, removed, or modified).\n",
        "- **Heterogeneous**: A sequence can contain elements of different data types.\n",
        "- **Dynamic**: The size of a sequence can change (grow or shrink) during runtime.\n",
        "- **Iterable**: A sequence can be iterated over (e.g., used in a for loop).\n",
        "- **Methods**: Functions associated with an object that operate on the object's data.\n",
        "- **Functions**: Blocks of reusable code that perform a specific task."
      ],
      "metadata": {
        "id": "UuJBp_gWsF5e"
      }
    },
    {
      "cell_type": "markdown",
      "source": [
        "Methods in Python List\n",
        "- **append()**: Adds an element to the end of the list.\n",
        "- **clear()**: Removes all elements from the list.\n",
        "- **copy()**: Creates and returns a copy of the list.\n",
        "- **count()**: Returns the count of elements that match a specified value.\n",
        "- **extend()**: Appends the elements of another iterable (e.g., list, tuple) to the end of the current list.\n",
        "- **index()**: Returns the index of the first occurrence of a specified value.\n",
        "- **insert()**: Inserts an element at a specified position in the list.\n",
        "- **pop()**: Removes and returns the element at a specified position. If no position is specified, it removes and returns the last element.\n",
        "- **remove()**: Removes the first occurrence of a specified value from the list.\n",
        "- **reverse()**: Reverses the order of elements in the list.\n",
        "- **sort()**: Sorts the elements of the list in ascending order by default. Optionally, a custom sorting function can be provided."
      ],
      "metadata": {
        "id": "tKaOU2YXtrt7"
      }
    },
    {
      "cell_type": "code",
      "execution_count": 17,
      "metadata": {
        "id": "P2yB7zl6qCC4"
      },
      "outputs": [],
      "source": [
        "a=[1, 2, 5, 8, 9, 11, 15, 21]# we use [] to represent a list data structure in python"
      ]
    },
    {
      "cell_type": "code",
      "source": [
        "a.append(25)# adds 25 to the end of the list\n",
        "print(a)"
      ],
      "metadata": {
        "id": "I0zzzdnuuld0",
        "outputId": "0b8a8676-b4e0-41ed-d2ab-b8279d4e5e9e",
        "colab": {
          "base_uri": "https://localhost:8080/"
        }
      },
      "execution_count": 18,
      "outputs": [
        {
          "output_type": "stream",
          "name": "stdout",
          "text": [
            "[1, 2, 5, 8, 9, 11, 15, 21, 25]\n"
          ]
        }
      ]
    },
    {
      "cell_type": "code",
      "source": [
        "a.clear()# removes all elements from the list\n",
        "print(a)"
      ],
      "metadata": {
        "id": "jxiFs8lcuu1Z",
        "outputId": "0ad990a4-c71a-4733-84c1-6442717437aa",
        "colab": {
          "base_uri": "https://localhost:8080/"
        }
      },
      "execution_count": 16,
      "outputs": [
        {
          "output_type": "stream",
          "name": "stdout",
          "text": [
            "[]\n"
          ]
        }
      ]
    },
    {
      "cell_type": "code",
      "source": [
        "b = a.copy()# creates and returns a copy of the list\n",
        "print(b)"
      ],
      "metadata": {
        "id": "SI0Z_dVmu2rM",
        "outputId": "2d6bfc10-9e98-451a-f456-2bcfc319e2cd",
        "colab": {
          "base_uri": "https://localhost:8080/"
        }
      },
      "execution_count": 8,
      "outputs": [
        {
          "output_type": "stream",
          "name": "stdout",
          "text": [
            "[1, 2, 5, 8, 9, 11, 15, 21, 25]\n"
          ]
        }
      ]
    },
    {
      "cell_type": "code",
      "source": [
        "count = a.count(2)# returns the count of elements that match a specified value\n",
        "print(count)"
      ],
      "metadata": {
        "id": "d-ZxCEYdu-Y9",
        "outputId": "169d7d51-7e8c-4a4f-b957-85c879c37c3f",
        "colab": {
          "base_uri": "https://localhost:8080/"
        }
      },
      "execution_count": 9,
      "outputs": [
        {
          "output_type": "stream",
          "name": "stdout",
          "text": [
            "1\n"
          ]
        }
      ]
    },
    {
      "cell_type": "code",
      "source": [
        "b = [ 45, 75, 89]\n",
        "a.extend(b)# appends the elements of another iterable (e.g., list, tuple) to the end of the current list\n",
        "print(a)"
      ],
      "metadata": {
        "id": "Ct-EepMhvK8j",
        "outputId": "6b1a96af-0d44-4100-fa7d-ff17377d8d59",
        "colab": {
          "base_uri": "https://localhost:8080/"
        }
      },
      "execution_count": 19,
      "outputs": [
        {
          "output_type": "stream",
          "name": "stdout",
          "text": [
            "[1, 2, 5, 8, 9, 11, 15, 21, 25, 45, 75, 89]\n"
          ]
        }
      ]
    },
    {
      "cell_type": "code",
      "source": [
        "c = a.index(2)# returns the index of the first occurrence of a specified value\n",
        "print(c)"
      ],
      "metadata": {
        "id": "xiPOa54SvT7L",
        "outputId": "74dc60d4-5044-4738-eaaf-46b93c24b86c",
        "colab": {
          "base_uri": "https://localhost:8080/"
        }
      },
      "execution_count": 22,
      "outputs": [
        {
          "output_type": "stream",
          "name": "stdout",
          "text": [
            "1\n"
          ]
        }
      ]
    },
    {
      "cell_type": "code",
      "source": [
        "a.insert(2, 25)# inserts an element at a specified position in the list\n",
        "print(a)"
      ],
      "metadata": {
        "id": "ygJMqhDawAgC",
        "outputId": "e7467a3b-4031-4406-c725-1549bc6e2fed",
        "colab": {
          "base_uri": "https://localhost:8080/"
        }
      },
      "execution_count": 23,
      "outputs": [
        {
          "output_type": "stream",
          "name": "stdout",
          "text": [
            "[1, 2, 25, 5, 8, 9, 11, 15, 21, 25, 45, 75, 89]\n"
          ]
        }
      ]
    },
    {
      "cell_type": "code",
      "source": [
        "d = a.pop()#Removes and returns the element at a specified position.\n",
        "f = a.pop(6)#If no position is specified, it removes and returns the last element.\n",
        "print(f)\n",
        "print(d)\n",
        "print(a)"
      ],
      "metadata": {
        "id": "-sqfBPfTwFzO",
        "outputId": "27c5b85a-088c-43e3-b2fb-9bf569160d00",
        "colab": {
          "base_uri": "https://localhost:8080/"
        }
      },
      "execution_count": 25,
      "outputs": [
        {
          "output_type": "stream",
          "name": "stdout",
          "text": [
            "11\n",
            "75\n",
            "[1, 2, 25, 5, 8, 9, 15, 21, 25, 45]\n"
          ]
        }
      ]
    },
    {
      "cell_type": "code",
      "source": [
        "g = a.remove(15)# removes the first occurrence of a specified value from the list\n",
        "print(g)\n",
        "print(a)"
      ],
      "metadata": {
        "id": "nX2FJzHjwSkw",
        "outputId": "60fe366c-7021-4f61-8e75-d7a3a3c66aac",
        "colab": {
          "base_uri": "https://localhost:8080/"
        }
      },
      "execution_count": 27,
      "outputs": [
        {
          "output_type": "stream",
          "name": "stdout",
          "text": [
            "None\n",
            "[1, 2, 25, 5, 8, 9, 21, 25, 45]\n"
          ]
        }
      ]
    },
    {
      "cell_type": "code",
      "source": [
        "a.reverse()# Reverses the order of elements in the list\n",
        "print(a)"
      ],
      "metadata": {
        "id": "tFHVxYoGwsEm",
        "outputId": "1f64b3b5-853a-47c4-a98c-3e71f5b57b05",
        "colab": {
          "base_uri": "https://localhost:8080/"
        }
      },
      "execution_count": 28,
      "outputs": [
        {
          "output_type": "stream",
          "name": "stdout",
          "text": [
            "[45, 25, 21, 9, 8, 5, 25, 2, 1]\n"
          ]
        }
      ]
    },
    {
      "cell_type": "code",
      "source": [
        "a.sort()#Sorts the elements of the list in ascending order by default.\n",
        "print(a)"
      ],
      "metadata": {
        "id": "ZSFdNz1Awv3d",
        "outputId": "a9189540-603a-4f38-9af5-f5f6018dad04",
        "colab": {
          "base_uri": "https://localhost:8080/"
        }
      },
      "execution_count": 29,
      "outputs": [
        {
          "output_type": "stream",
          "name": "stdout",
          "text": [
            "[1, 2, 5, 8, 9, 21, 25, 25, 45]\n"
          ]
        }
      ]
    },
    {
      "cell_type": "markdown",
      "source": [
        "# List Comprehension"
      ],
      "metadata": {
        "id": "ynB4It0FxXy9"
      }
    },
    {
      "cell_type": "markdown",
      "source": [
        "List comprehension provides a concise way to create lists in Python."
      ],
      "metadata": {
        "id": "kYNNP4vWxbap"
      }
    },
    {
      "cell_type": "markdown",
      "source": [
        "The general syntax for lsit comprehension"
      ],
      "metadata": {
        "id": "sitR_bvixlI3"
      }
    },
    {
      "source": [
        "[expression for item in iterable if condition]"
      ],
      "cell_type": "code",
      "metadata": {
        "id": "N1_-Wy9vxrui"
      },
      "execution_count": null,
      "outputs": []
    },
    {
      "cell_type": "markdown",
      "source": [
        "Where:\n",
        "\n",
        "- **expression** is the value to be included in the resulting list, computed for each item.\n",
        "- **item** is a variable representing a member of the iterable.\n",
        "- **iterable** is a sequence (like a list, tuple, or range) that you want to iterate over.\n",
        "- **condition** is an optional filter that determines if an item should be included in the resulting list."
      ],
      "metadata": {
        "id": "YLBuWYg-x3sI"
      }
    },
    {
      "cell_type": "markdown",
      "source": [
        "For example, if you wanted to create a list of the squares of the first 10 numbers, you could do the following:"
      ],
      "metadata": {
        "id": "HPHGb_QOyEtL"
      }
    },
    {
      "source": [
        "squares = [i * i for i in range(1, 11)]\n",
        "print(squares)"
      ],
      "cell_type": "code",
      "metadata": {
        "id": "whCZ2uuZyJ1v",
        "outputId": "d6a5ae92-2a9f-4040-d35d-9abc8547b138",
        "colab": {
          "base_uri": "https://localhost:8080/"
        }
      },
      "execution_count": 31,
      "outputs": [
        {
          "output_type": "stream",
          "name": "stdout",
          "text": [
            "[1, 4, 9, 16, 25, 36, 49, 64, 81, 100]\n"
          ]
        }
      ]
    },
    {
      "cell_type": "markdown",
      "source": [
        "List comprehensions can also include conditions. For example, if you wanted to create a list of the squares of the first 10 odd numbers:"
      ],
      "metadata": {
        "id": "TpdKkxKVyObT"
      }
    },
    {
      "source": [
        "odd_squares = [i * i for i in range(1, 11) if i % 2 != 0]\n",
        "print(odd_squares)"
      ],
      "cell_type": "code",
      "metadata": {
        "id": "qMI5505wyPLl",
        "outputId": "2fbf44f9-6b9f-4ef7-f87b-1447ccb13ded",
        "colab": {
          "base_uri": "https://localhost:8080/"
        }
      },
      "execution_count": 32,
      "outputs": [
        {
          "output_type": "stream",
          "name": "stdout",
          "text": [
            "[1, 9, 25, 49, 81]\n"
          ]
        }
      ]
    },
    {
      "cell_type": "markdown",
      "source": [
        "List comprehension is also used for taking input in string data type with spaces separating the number into a list,"
      ],
      "metadata": {
        "id": "HXHgI-FZytYx"
      }
    },
    {
      "cell_type": "code",
      "source": [
        "a = [int(x) for x in input().split()]\n",
        "print(a)"
      ],
      "metadata": {
        "id": "C4bUm-Niy-Ik",
        "outputId": "595f680e-68b6-443a-c3f9-ba60c2b11655",
        "colab": {
          "base_uri": "https://localhost:8080/"
        }
      },
      "execution_count": 30,
      "outputs": [
        {
          "output_type": "stream",
          "name": "stdout",
          "text": [
            "1 2 3 4 5 6 7 8 9\n",
            "[1, 2, 3, 4, 5, 6, 7, 8, 9]\n"
          ]
        }
      ]
    }
  ]
}