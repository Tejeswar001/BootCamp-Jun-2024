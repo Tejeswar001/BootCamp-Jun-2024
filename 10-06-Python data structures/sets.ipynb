{
  "nbformat": 4,
  "nbformat_minor": 0,
  "metadata": {
    "colab": {
      "provenance": [],
      "authorship_tag": "ABX9TyOTNDQehyWTNtrKzvN2BbqM",
      "include_colab_link": true
    },
    "kernelspec": {
      "name": "python3",
      "display_name": "Python 3"
    },
    "language_info": {
      "name": "python"
    }
  },
  "cells": [
    {
      "cell_type": "markdown",
      "metadata": {
        "id": "view-in-github",
        "colab_type": "text"
      },
      "source": [
        "<a href=\"https://colab.research.google.com/github/Tejeswar001/Python-Practice-/blob/BootCampProgress/10-06-Python%20data%20structures/sets.ipynb\" target=\"_parent\"><img src=\"https://colab.research.google.com/assets/colab-badge.svg\" alt=\"Open In Colab\"/></a>"
      ]
    },
    {
      "cell_type": "markdown",
      "source": [
        "# Python Sets"
      ],
      "metadata": {
        "id": "pUv2wUpi_c_I"
      }
    },
    {
      "cell_type": "markdown",
      "source": [
        "Sets in Python are unordered collections of unique elements.\n",
        "\n",
        "To create a set, use curly braces {} or the set() constructor:"
      ],
      "metadata": {
        "id": "_fyiR1h3_gDY"
      }
    },
    {
      "source": [
        "my_set = {1, 2, 3}\n",
        "# or\n",
        "my_set = set([1, 2, 3])"
      ],
      "cell_type": "code",
      "metadata": {
        "id": "O2IhiCj9_l4m"
      },
      "execution_count": null,
      "outputs": []
    },
    {
      "cell_type": "code",
      "source": [
        "example_set = {1, 2, 3, 4, 5}\n",
        "print(type(example_set))"
      ],
      "metadata": {
        "colab": {
          "base_uri": "https://localhost:8080/"
        },
        "id": "xWlmsAqRAXMC",
        "outputId": "d45a16ec-d844-4d31-eed7-646b89d97849"
      },
      "execution_count": null,
      "outputs": [
        {
          "output_type": "stream",
          "name": "stdout",
          "text": [
            "<class 'set'>\n"
          ]
        }
      ]
    },
    {
      "cell_type": "markdown",
      "source": [
        "# Set Operations in python"
      ],
      "metadata": {
        "id": "Jn_KS5zuAVCx"
      }
    },
    {
      "cell_type": "markdown",
      "source": [
        "**Union**"
      ],
      "metadata": {
        "id": "o9RiZ2_KAjoe"
      }
    },
    {
      "cell_type": "markdown",
      "source": [
        "The union of two sets in Python is a new set that contains all the elements from both sets, without duplicates."
      ],
      "metadata": {
        "id": "9mDvArrEA_3u"
      }
    },
    {
      "source": [
        "# using union() methods\n",
        "set1 = {1, 2, 3}\n",
        "set2 = {3, 4, 5}\n",
        "\n",
        "union_set = set1.union(set2)\n",
        "print(union_set)  # Output: {1, 2, 3, 4, 5}"
      ],
      "cell_type": "code",
      "metadata": {
        "colab": {
          "base_uri": "https://localhost:8080/"
        },
        "id": "2aI7oxCeA6Cc",
        "outputId": "f2d77d98-b326-4de8-b1ca-0b088bb119f4"
      },
      "execution_count": null,
      "outputs": [
        {
          "output_type": "stream",
          "name": "stdout",
          "text": [
            "{1, 2, 3, 4, 5}\n"
          ]
        }
      ]
    },
    {
      "source": [
        "# using the | operator\n",
        "set1 = {1, 2, 3}\n",
        "set2 = {3, 4, 5}\n",
        "\n",
        "union_set = set1 | set2\n",
        "print(union_set)  # Output: {1, 2, 3, 4, 5}"
      ],
      "cell_type": "code",
      "metadata": {
        "colab": {
          "base_uri": "https://localhost:8080/"
        },
        "id": "oyxExaPkA8ix",
        "outputId": "a8d6ee56-60f9-484f-b9cb-a8a8aa735111"
      },
      "execution_count": null,
      "outputs": [
        {
          "output_type": "stream",
          "name": "stdout",
          "text": [
            "{1, 2, 3, 4, 5}\n"
          ]
        }
      ]
    },
    {
      "cell_type": "markdown",
      "source": [
        "Both methods produce same result: a new set containing all elements from set1 and set2"
      ],
      "metadata": {
        "id": "ev4UkGR2BRvL"
      }
    },
    {
      "cell_type": "markdown",
      "source": [
        "**Intersection**"
      ],
      "metadata": {
        "id": "enu8DVrCBf7v"
      }
    },
    {
      "cell_type": "markdown",
      "source": [
        "The intersection of two sets in Python is a new set that contains only the elements that are common to both sets.\n",
        "\n",
        "You can find the intersection in two ways:"
      ],
      "metadata": {
        "id": "ckmpywwHCCYa"
      }
    },
    {
      "source": [
        "# Using the intersection() method:\n",
        "set1 = {1, 2, 3}\n",
        "set2 = {3, 4, 5}\n",
        "\n",
        "intersection_set = set1.intersection(set2)\n",
        "print(intersection_set)  # Output: {3}"
      ],
      "cell_type": "code",
      "metadata": {
        "colab": {
          "base_uri": "https://localhost:8080/"
        },
        "id": "k_S7umJjCZVo",
        "outputId": "95b8961a-0676-40f8-aa4e-3a7f5ddf605f"
      },
      "execution_count": null,
      "outputs": [
        {
          "output_type": "stream",
          "name": "stdout",
          "text": [
            "{3}\n"
          ]
        }
      ]
    },
    {
      "source": [
        "# Using the & operator:\n",
        "set1 = {1, 2, 3}\n",
        "set2 = {3, 4, 5}\n",
        "\n",
        "intersection_set = set1 & set2\n",
        "print(intersection_set)  # Output: {3}"
      ],
      "cell_type": "code",
      "metadata": {
        "colab": {
          "base_uri": "https://localhost:8080/"
        },
        "id": "1JtKznxdCZx-",
        "outputId": "d5cedaa4-f1be-407f-eebf-24838d4cab68"
      },
      "execution_count": null,
      "outputs": [
        {
          "output_type": "stream",
          "name": "stdout",
          "text": [
            "{3}\n"
          ]
        }
      ]
    },
    {
      "cell_type": "markdown",
      "source": [
        "# Difference(-)"
      ],
      "metadata": {
        "id": "qaEXhshBCsh9"
      }
    },
    {
      "cell_type": "markdown",
      "source": [
        "The difference between two sets in Python refers to a new set that contains elements present in the first set but not in the second set.\n",
        "\n",
        "There are two primary ways to find the difference:"
      ],
      "metadata": {
        "id": "W_NaOOJcCzVB"
      }
    },
    {
      "source": [
        "# Using the difference() method:\n",
        "set1 = {1, 2, 3}\n",
        "set2 = {3, 4, 5}\n",
        "\n",
        "difference_set = set1.difference(set2)\n",
        "print(difference_set)  # Output: {1, 2}"
      ],
      "cell_type": "code",
      "metadata": {
        "colab": {
          "base_uri": "https://localhost:8080/"
        },
        "id": "dejKshtXDJ0f",
        "outputId": "ba6ebe85-7829-4e31-9cb8-135dba1340e3"
      },
      "execution_count": null,
      "outputs": [
        {
          "output_type": "stream",
          "name": "stdout",
          "text": [
            "{1, 2}\n"
          ]
        }
      ]
    },
    {
      "source": [
        "# Using the - operator:\n",
        "set1 = {1, 2, 3}\n",
        "set2 = {3, 4, 5}\n",
        "\n",
        "difference_set = set1 - set2\n",
        "print(difference_set)  # Output: {1, 2}"
      ],
      "cell_type": "code",
      "metadata": {
        "colab": {
          "base_uri": "https://localhost:8080/"
        },
        "id": "rGTxTEg6DKB5",
        "outputId": "18e92a90-3970-4f43-bf46-c53b12156ba8"
      },
      "execution_count": null,
      "outputs": [
        {
          "output_type": "stream",
          "name": "stdout",
          "text": [
            "{1, 2}\n"
          ]
        }
      ]
    },
    {
      "cell_type": "markdown",
      "source": [
        "Remember that the order of sets matter in difference operations. set1 - set2 is not the same as set2 - set1."
      ],
      "metadata": {
        "id": "r-2HZjJZDanx"
      }
    },
    {
      "cell_type": "markdown",
      "source": [
        "# Symmetric difference"
      ],
      "metadata": {
        "id": "yAAkBayZD3ai"
      }
    },
    {
      "cell_type": "markdown",
      "source": [
        "The symmetric difference between two sets in Python is a new set containing elements that are in either of the sets, but not in both."
      ],
      "metadata": {
        "id": "5X2LJ2FsD7et"
      }
    },
    {
      "cell_type": "markdown",
      "source": [
        "There are two ways to find the symmetric difference:"
      ],
      "metadata": {
        "id": "jxjFDbIHEaed"
      }
    },
    {
      "source": [
        "# Using the symmetrc_difference() method:\n",
        "set1 = {1, 2, 3}\n",
        "set2 = {3, 4, 5}\n",
        "\n",
        "symmetric_diff_set = set1.symmetric_difference(set2)\n",
        "print(symmetric_diff_set)  # Output: {1, 2, 4, 5}"
      ],
      "cell_type": "code",
      "metadata": {
        "colab": {
          "base_uri": "https://localhost:8080/"
        },
        "id": "MfdJT3mjEjDz",
        "outputId": "3ea3276c-9a26-42a7-8e04-9ecac309afb5"
      },
      "execution_count": null,
      "outputs": [
        {
          "output_type": "stream",
          "name": "stdout",
          "text": [
            "{1, 2, 4, 5}\n"
          ]
        }
      ]
    },
    {
      "source": [
        "# Using the ^ operator:\n",
        "set1 = {1, 2, 3}\n",
        "set2 = {3, 4, 5}\n",
        "\n",
        "symmetric_diff_set = set1 ^ set2\n",
        "print(symmetric_diff_set)  # Output: {1, 2, 4, 5}"
      ],
      "cell_type": "code",
      "metadata": {
        "colab": {
          "base_uri": "https://localhost:8080/"
        },
        "id": "GUYJQVrMEjj8",
        "outputId": "f2eff362-90df-4f7c-febf-873fe6d1b803"
      },
      "execution_count": null,
      "outputs": [
        {
          "output_type": "stream",
          "name": "stdout",
          "text": [
            "{1, 2, 4, 5}\n"
          ]
        }
      ]
    },
    {
      "cell_type": "markdown",
      "source": [
        "# SET Methods in python"
      ],
      "metadata": {
        "id": "JGnP8tv9GMYF"
      }
    },
    {
      "cell_type": "markdown",
      "source": [
        "**add(element)**\n",
        "\n",
        "Adds a single element to the set."
      ],
      "metadata": {
        "id": "dBlskv4GGSlK"
      }
    },
    {
      "source": [
        "my_set = {1, 2, 3}\n",
        "my_set.add(4)\n",
        "print(my_set)  # Output: {1, 2, 3, 4}"
      ],
      "cell_type": "code",
      "metadata": {
        "colab": {
          "base_uri": "https://localhost:8080/"
        },
        "id": "jwAaumMJGZx8",
        "outputId": "e8e88af1-4aae-4da7-c5ae-e56ca39d699f"
      },
      "execution_count": null,
      "outputs": [
        {
          "output_type": "stream",
          "name": "stdout",
          "text": [
            "{1, 2, 3, 4}\n"
          ]
        }
      ]
    },
    {
      "cell_type": "markdown",
      "source": [
        "**remove(element)**\n",
        "\n",
        "Removes a specific elements from the set. Raises a **KeyError** if the element is not present."
      ],
      "metadata": {
        "id": "CIvSEiRiGa9x"
      }
    },
    {
      "source": [
        "my_set = {1, 2, 3}\n",
        "my_set.remove(3)\n",
        "print(my_set)  # Output: {1, 2}\n",
        "# my_set.remove(5)  # Raises KeyError: 5"
      ],
      "cell_type": "code",
      "metadata": {
        "colab": {
          "base_uri": "https://localhost:8080/"
        },
        "id": "lLEFzTdEGrja",
        "outputId": "4ff87111-b577-43d3-e854-400d68c3e406"
      },
      "execution_count": null,
      "outputs": [
        {
          "output_type": "stream",
          "name": "stdout",
          "text": [
            "{1, 2}\n"
          ]
        }
      ]
    },
    {
      "cell_type": "markdown",
      "source": [
        "**discard(element)**\n",
        "\n",
        "Removes a specific elements if it present in the set. Does not raise an error if the element is not found."
      ],
      "metadata": {
        "id": "nsGpWskfGuUu"
      }
    },
    {
      "source": [
        "my_set = {1, 2, 3}\n",
        "my_set.discard(2)\n",
        "print(my_set)  # Output: {1, 3}\n",
        "my_set.discard(5)  # No error, does nothing"
      ],
      "cell_type": "code",
      "metadata": {
        "colab": {
          "base_uri": "https://localhost:8080/"
        },
        "id": "yNePIZTLG_Ld",
        "outputId": "4dc67c47-e96c-476b-b97b-12dc35321a8d"
      },
      "execution_count": null,
      "outputs": [
        {
          "output_type": "stream",
          "name": "stdout",
          "text": [
            "{1, 3}\n"
          ]
        }
      ]
    },
    {
      "cell_type": "markdown",
      "source": [
        "**pop()**\n",
        "\n",
        "Removes and returns an arbitrary elements from the set. Raises a **KeyError** if the set is empty."
      ],
      "metadata": {
        "id": "25FfLaeJHBpU"
      }
    },
    {
      "source": [
        "my_set = {1, 2, 3}\n",
        "popped_element = my_set.pop()\n",
        "print(popped_element)  # Output: 1 (or any other element, order is arbitrary)\n",
        "print(my_set)  # Output: {2, 3} (or the remaining elements)"
      ],
      "cell_type": "code",
      "metadata": {
        "colab": {
          "base_uri": "https://localhost:8080/"
        },
        "id": "go-HfrptHQji",
        "outputId": "30887560-c31a-4f1b-cbc1-390e30558421"
      },
      "execution_count": null,
      "outputs": [
        {
          "output_type": "stream",
          "name": "stdout",
          "text": [
            "1\n",
            "{2, 3}\n"
          ]
        }
      ]
    },
    {
      "cell_type": "markdown",
      "source": [
        "**clear()**\n",
        "\n",
        "Removes all the elements from the set."
      ],
      "metadata": {
        "id": "r-WhBc8kHSAO"
      }
    },
    {
      "source": [
        "my_set = {1, 2, 3}\n",
        "my_set.clear()\n",
        "print(my_set)  # Output: set()"
      ],
      "cell_type": "code",
      "metadata": {
        "colab": {
          "base_uri": "https://localhost:8080/"
        },
        "id": "I1glZxiEHYng",
        "outputId": "ef9511bb-b846-4ec5-b499-a6558aa730cd"
      },
      "execution_count": null,
      "outputs": [
        {
          "output_type": "stream",
          "name": "stdout",
          "text": [
            "set()\n"
          ]
        }
      ]
    },
    {
      "cell_type": "markdown",
      "source": [
        "**copy()**\n",
        "\n",
        "Creates a shallow copy of the set."
      ],
      "metadata": {
        "id": "eM8ZGJc_Hc7l"
      }
    },
    {
      "source": [
        "my_set = {1, 2, 3}\n",
        "new_set = my_set.copy()\n",
        "print(new_set)  # Output: {1, 2, 3}"
      ],
      "cell_type": "code",
      "metadata": {
        "colab": {
          "base_uri": "https://localhost:8080/"
        },
        "id": "UyiBx49RHleD",
        "outputId": "046ff84e-48ea-4e63-b647-8df7c2ae98af"
      },
      "execution_count": null,
      "outputs": [
        {
          "output_type": "stream",
          "name": "stdout",
          "text": [
            "{1, 2, 3}\n"
          ]
        }
      ]
    },
    {
      "cell_type": "markdown",
      "source": [
        "**update(iterable)**\n",
        "\n",
        "Adds mutliple elements from the iterable (like list, tuple, or another set) to the set."
      ],
      "metadata": {
        "id": "DsrXtfMiH6ac"
      }
    },
    {
      "source": [
        "my_set = {1, 2, 3}\n",
        "my_set.update([4, 5, 6])\n",
        "print(my_set)  # Output: {1, 2, 3, 4, 5, 6}"
      ],
      "cell_type": "code",
      "metadata": {
        "colab": {
          "base_uri": "https://localhost:8080/"
        },
        "id": "TknQmLl6IImN",
        "outputId": "d1c1c2a9-ce65-4953-a5c4-129100481c24"
      },
      "execution_count": null,
      "outputs": [
        {
          "output_type": "stream",
          "name": "stdout",
          "text": [
            "{1, 2, 3, 4, 5, 6}\n"
          ]
        }
      ]
    },
    {
      "cell_type": "markdown",
      "source": [
        "**issubset(other_set)**\n",
        "\n",
        "Checks if the set is a subset of another set."
      ],
      "metadata": {
        "id": "fmADRGnKIOJx"
      }
    },
    {
      "source": [
        "set1 = {1, 2}\n",
        "set2 = {1, 2, 3, 4}\n",
        "print(set1.issubset(set2))  # Output: True"
      ],
      "cell_type": "code",
      "metadata": {
        "colab": {
          "base_uri": "https://localhost:8080/"
        },
        "id": "a3YsJURPIWNz",
        "outputId": "2015e11d-ab19-40c1-bbad-ea20ecd3f050"
      },
      "execution_count": null,
      "outputs": [
        {
          "output_type": "stream",
          "name": "stdout",
          "text": [
            "True\n"
          ]
        }
      ]
    },
    {
      "cell_type": "markdown",
      "source": [
        "**issuperset(other_set)**\n",
        "\n",
        "Checks if the set is a superset of another set."
      ],
      "metadata": {
        "id": "hpotYhRDIYwF"
      }
    },
    {
      "source": [
        "set1 = {1, 2, 3, 4}\n",
        "set2 = {1, 2}\n",
        "print(set1.issuperset(set2))  # Output: True"
      ],
      "cell_type": "code",
      "metadata": {
        "colab": {
          "base_uri": "https://localhost:8080/"
        },
        "id": "kKrvEBZsIfjP",
        "outputId": "1061642f-5751-49ec-acbb-6871def263bc"
      },
      "execution_count": null,
      "outputs": [
        {
          "output_type": "stream",
          "name": "stdout",
          "text": [
            "True\n"
          ]
        }
      ]
    },
    {
      "cell_type": "markdown",
      "source": [
        "**isdisjoint(other_set)**\n",
        "\n",
        "Checks if the set has no elements in common with another set."
      ],
      "metadata": {
        "id": "O25J0WpjIhWx"
      }
    },
    {
      "source": [
        "set1 = {1, 2, 3}\n",
        "set2 = {4, 5, 6}\n",
        "print(set1.isdisjoint(set2))  # Output: True"
      ],
      "cell_type": "code",
      "metadata": {
        "colab": {
          "base_uri": "https://localhost:8080/"
        },
        "id": "qaakBpAZInUs",
        "outputId": "c71c020f-2e14-48d7-aa8e-e5228cf3526d"
      },
      "execution_count": null,
      "outputs": [
        {
          "output_type": "stream",
          "name": "stdout",
          "text": [
            "True\n"
          ]
        }
      ]
    },
    {
      "cell_type": "markdown",
      "source": [
        "# Checking membership with \"in\" keyword"
      ],
      "metadata": {
        "id": "D0bTj_iPO2m8"
      }
    },
    {
      "source": [
        "my_set = {1, 2, 3}\n",
        "print(1 in my_set)  # True\n",
        "print(4 in my_set)  # False"
      ],
      "cell_type": "code",
      "metadata": {
        "id": "ZE-6Q4KoPJA5",
        "outputId": "d8e56fa7-f8bd-40bb-b042-00558e873a49",
        "colab": {
          "base_uri": "https://localhost:8080/"
        }
      },
      "execution_count": 1,
      "outputs": [
        {
          "output_type": "stream",
          "name": "stdout",
          "text": [
            "True\n",
            "False\n"
          ]
        }
      ]
    },
    {
      "cell_type": "markdown",
      "source": [
        "The in keyword returns True if the element is present in the set, and False otherwise."
      ],
      "metadata": {
        "id": "WdrEtX96PRti"
      }
    },
    {
      "cell_type": "markdown",
      "source": [
        "# Set Comprehension"
      ],
      "metadata": {
        "id": "ILw6NDTqPScx"
      }
    },
    {
      "cell_type": "markdown",
      "source": [
        "Set comprehension provides a concise way to create sets in Python.\n",
        "\n",
        "It has the following syntax:"
      ],
      "metadata": {
        "id": "PohabRAuPyon"
      }
    },
    {
      "source": [
        "{expression for item in iterable if condition}\n"
      ],
      "cell_type": "code",
      "metadata": {
        "id": "FcXC40QGP1Rv"
      },
      "execution_count": null,
      "outputs": []
    },
    {
      "source": [
        "numbers = [1, 2, 3, 4, 5, 6]\n",
        "even_numbers = {x for x in numbers if x % 2 == 0}\n",
        "print(even_numbers)  # Output: {2, 4, 6}"
      ],
      "cell_type": "code",
      "metadata": {
        "id": "KXwQ2-xbP2OS",
        "outputId": "356f159a-c171-48c0-b572-34162fdd8729",
        "colab": {
          "base_uri": "https://localhost:8080/"
        }
      },
      "execution_count": 2,
      "outputs": [
        {
          "output_type": "stream",
          "name": "stdout",
          "text": [
            "{2, 4, 6}\n"
          ]
        }
      ]
    },
    {
      "cell_type": "markdown",
      "source": [
        "In this example:\n",
        "\n",
        "- x for x in numbers iterates through each item in the numbers list.\n",
        "- if x % 2 == 0 filters items, including only even numbers.\n",
        "- The resulting even numbers are collected into a set."
      ],
      "metadata": {
        "id": "5lociMlMP5Qe"
      }
    },
    {
      "cell_type": "markdown",
      "source": [
        "# Advanced set operations in sets python"
      ],
      "metadata": {
        "id": "2ACW_e4iQnwc"
      }
    },
    {
      "cell_type": "markdown",
      "source": [
        "**Cartesian Product**\n",
        "\n",
        "The Cartesian product of two sets is a set of all possible ordered pairs where the first element comes from the first set and the second element comes from the second set."
      ],
      "metadata": {
        "id": "urOhkWSBQr8T"
      }
    },
    {
      "source": [
        "from itertools import product\n",
        "set1 = {1, 2}\n",
        "set2 = {'a', 'b'}\n",
        "cartesian_product = set(product(set1, set2))\n",
        "print(cartesian_product)  # Output: {(1, 'a'), (1, 'b'), (2, 'a'), (2, 'b')}"
      ],
      "cell_type": "code",
      "metadata": {
        "id": "uPuhyUDmQycW",
        "outputId": "0d423baa-bf9e-4159-a2ff-5bcde2df10d9",
        "colab": {
          "base_uri": "https://localhost:8080/"
        }
      },
      "execution_count": 3,
      "outputs": [
        {
          "output_type": "stream",
          "name": "stdout",
          "text": [
            "{(2, 'b'), (2, 'a'), (1, 'b'), (1, 'a')}\n"
          ]
        }
      ]
    },
    {
      "cell_type": "markdown",
      "source": [
        "**Power Set**\n",
        "\n",
        "The power set of a set is the set of all possible subsets, including the empty set and the original set itself."
      ],
      "metadata": {
        "id": "FwFEyDAnQ9Lw"
      }
    },
    {
      "source": [
        "from itertools import combinations\n",
        "def power_set(s):\n",
        "  result = []\n",
        "  for r in range(len(s)+1):\n",
        "    for subset in combinations(s, r):\n",
        "      result.append(set(subset))\n",
        "  return result\n",
        "my_set = {1, 2, 3}\n",
        "print(power_set(my_set))\n",
        "# Output: [{}, {1}, {2}, {3}, {1, 2}, {1, 3}, {2, 3}, {1, 2, 3}]"
      ],
      "cell_type": "code",
      "metadata": {
        "id": "r_eoJ7PGRC8I",
        "outputId": "8895de24-3f32-42e8-97be-b893564a10be",
        "colab": {
          "base_uri": "https://localhost:8080/"
        }
      },
      "execution_count": 4,
      "outputs": [
        {
          "output_type": "stream",
          "name": "stdout",
          "text": [
            "[set(), {1}, {2}, {3}, {1, 2}, {1, 3}, {2, 3}, {1, 2, 3}]\n"
          ]
        }
      ]
    },
    {
      "cell_type": "markdown",
      "source": [
        "**Frozen Set**\n",
        "\n",
        "A frozen set is an immutable version of a set. It cannot be modified after creation."
      ],
      "metadata": {
        "id": "X3BoO6DfRFaQ"
      }
    },
    {
      "source": [
        "my_set = {1, 2, 3}\n",
        "frozen_set = frozenset(my_set)\n",
        "# frozen_set.add(4)  # This would raise an error\n",
        "print(frozen_set)  # Output: frozenset({1, 2, 3})"
      ],
      "cell_type": "code",
      "metadata": {
        "id": "5aVT0Y7mRKcv",
        "outputId": "66ff68ce-c6bf-4353-e0a0-b4cd47bc6fc0",
        "colab": {
          "base_uri": "https://localhost:8080/"
        }
      },
      "execution_count": 5,
      "outputs": [
        {
          "output_type": "stream",
          "name": "stdout",
          "text": [
            "frozenset({1, 2, 3})\n"
          ]
        }
      ]
    },
    {
      "cell_type": "markdown",
      "source": [
        "**Set Algebra (SymPy's Boolean Algebra)**\n",
        "\n",
        "SymPy provides a module for Boolean algebra that can be used to perform set operations symbolically."
      ],
      "metadata": {
        "id": "Oj7QJYxjRO71"
      }
    }
  ]
}