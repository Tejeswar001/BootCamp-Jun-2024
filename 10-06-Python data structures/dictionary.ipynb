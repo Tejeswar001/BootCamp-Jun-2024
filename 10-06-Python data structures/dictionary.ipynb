{
  "nbformat": 4,
  "nbformat_minor": 0,
  "metadata": {
    "colab": {
      "provenance": [],
      "authorship_tag": "ABX9TyOmq9K6e/CtIJoZ5JNTTBH8",
      "include_colab_link": true
    },
    "kernelspec": {
      "name": "python3",
      "display_name": "Python 3"
    },
    "language_info": {
      "name": "python"
    }
  },
  "cells": [
    {
      "cell_type": "markdown",
      "metadata": {
        "id": "view-in-github",
        "colab_type": "text"
      },
      "source": [
        "<a href=\"https://colab.research.google.com/github/Tejeswar001/Python-Practice-/blob/BootCampProgress/10-06-Python%20data%20structures/dictionary.ipynb\" target=\"_parent\"><img src=\"https://colab.research.google.com/assets/colab-badge.svg\" alt=\"Open In Colab\"/></a>"
      ]
    },
    {
      "cell_type": "markdown",
      "source": [
        "# Dictionary Data Structure"
      ],
      "metadata": {
        "id": "592l58wO0IiO"
      }
    },
    {
      "cell_type": "markdown",
      "source": [
        "A dictionary is a data structure in Python that stores key-value pairs. Each key must be unique and immutable, while the corresponding values can be of any data type."
      ],
      "metadata": {
        "id": "C1ykD58n0WJe"
      }
    },
    {
      "cell_type": "markdown",
      "source": [
        "To create a dictionary, use curly braces {} and separate key-value pairs with colons."
      ],
      "metadata": {
        "id": "Ipl3W6pT0YWF"
      }
    },
    {
      "source": [
        "my_dict = {\"apple\": 1, \"banana\": 2, \"cherry\": 3}"
      ],
      "cell_type": "code",
      "metadata": {
        "id": "XQOlGo7o0ZL4"
      },
      "execution_count": 1,
      "outputs": []
    },
    {
      "cell_type": "code",
      "execution_count": 2,
      "metadata": {
        "id": "sVK03o8TzDzB",
        "outputId": "e8387adf-e79b-42a9-aca0-0e8757b5aa04",
        "colab": {
          "base_uri": "https://localhost:8080/"
        }
      },
      "outputs": [
        {
          "output_type": "stream",
          "name": "stdout",
          "text": [
            "{'apple': 1, 'banana': 2, 'cherry': 3}\n",
            "<class 'dict'>\n"
          ]
        }
      ],
      "source": [
        "print(my_dict)\n",
        "print(type(my_dict))"
      ]
    },
    {
      "cell_type": "markdown",
      "source": [
        "Dictionaries provide efficient lookup, insertion, and deletion operations based on keys."
      ],
      "metadata": {
        "id": "fZL36Sqg0lwP"
      }
    },
    {
      "cell_type": "markdown",
      "source": [
        "# Accessing and modifying dictionary"
      ],
      "metadata": {
        "id": "QQU48WrZ1D0Z"
      }
    },
    {
      "cell_type": "markdown",
      "source": [
        "To access a value in a dictionary, use the corresponding key within square brackets []."
      ],
      "metadata": {
        "id": "dxHGA9y-1WhJ"
      }
    },
    {
      "source": [
        "my_dict = {\"apple\": 1, \"banana\": 2}\n",
        "print(my_dict[\"apple\"])  # Output: 1"
      ],
      "cell_type": "code",
      "metadata": {
        "id": "tuHFRAG61Xeq",
        "outputId": "979a3f3b-7abe-49fc-f174-22d3e90f64e3",
        "colab": {
          "base_uri": "https://localhost:8080/"
        }
      },
      "execution_count": 3,
      "outputs": [
        {
          "output_type": "stream",
          "name": "stdout",
          "text": [
            "1\n"
          ]
        }
      ]
    },
    {
      "source": [
        "my_dict[\"banana\"] = 5\n",
        "print(my_dict[\"banana\"])  # Output: 5"
      ],
      "cell_type": "code",
      "metadata": {
        "id": "i2CYtrtm1X1B",
        "outputId": "dec2ec24-dd8d-4293-c784-35c2a2ebd17e",
        "colab": {
          "base_uri": "https://localhost:8080/"
        }
      },
      "execution_count": 4,
      "outputs": [
        {
          "output_type": "stream",
          "name": "stdout",
          "text": [
            "5\n"
          ]
        }
      ]
    },
    {
      "source": [
        "my_dict[\"orange\"] = 4\n",
        "print(my_dict)  # Output: {'apple': 1, 'banana': 5, 'orange': 4}"
      ],
      "cell_type": "code",
      "metadata": {
        "id": "j3X0i7Fm1Y81",
        "outputId": "9506aca5-38a4-4b12-8839-e2f1f4809440",
        "colab": {
          "base_uri": "https://localhost:8080/"
        }
      },
      "execution_count": 5,
      "outputs": [
        {
          "output_type": "stream",
          "name": "stdout",
          "text": [
            "{'apple': 1, 'banana': 5, 'orange': 4}\n"
          ]
        }
      ]
    },
    {
      "source": [
        "del my_dict[\"apple\"]\n",
        "print(my_dict)  # Output: {'banana': 5, 'orange': 4}"
      ],
      "cell_type": "code",
      "metadata": {
        "id": "ESTI1D6Q1Zvl",
        "outputId": "55d09a5c-a7f2-4c55-cf88-169e94a5489e",
        "colab": {
          "base_uri": "https://localhost:8080/"
        }
      },
      "execution_count": 6,
      "outputs": [
        {
          "output_type": "stream",
          "name": "stdout",
          "text": [
            "{'banana': 5, 'orange': 4}\n"
          ]
        }
      ]
    },
    {
      "cell_type": "markdown",
      "source": [
        "# Practical Examples and Use cases"
      ],
      "metadata": {
        "id": "0UG8QMNK1rkc"
      }
    },
    {
      "cell_type": "markdown",
      "source": [
        "**Storing Student Records:**"
      ],
      "metadata": {
        "id": "kRd_RkWR2tsg"
      }
    },
    {
      "source": [
        "student_records = {\n",
        "    \"John\": {\"age\": 20, \"major\": \"Computer Science\"},\n",
        "    \"Alice\": {\"age\": 22, \"major\": \"Mathematics\"}\n",
        "}\n",
        "\n",
        "print(student_records[\"John\"][\"major\"])  # Output: Computer Science"
      ],
      "cell_type": "code",
      "metadata": {
        "id": "nF9xuI052vSY",
        "outputId": "02282178-dddd-4232-de5f-36724294af8a",
        "colab": {
          "base_uri": "https://localhost:8080/"
        }
      },
      "execution_count": 7,
      "outputs": [
        {
          "output_type": "stream",
          "name": "stdout",
          "text": [
            "Computer Science\n"
          ]
        }
      ]
    },
    {
      "cell_type": "markdown",
      "source": [
        "**Counting Word Frequencies:**"
      ],
      "metadata": {
        "id": "JspHLyU_2xf6"
      }
    },
    {
      "source": [
        "text = \"apple banana apple orange banana apple\"\n",
        "word_counts = {}\n",
        "for word in text.split():\n",
        "    if word in word_counts:\n",
        "        word_counts[word] += 1\n",
        "    else:\n",
        "        word_counts[word] = 1\n",
        "\n",
        "print(word_counts)  # Output: {'apple': 3, 'banana': 2, 'orange': 1}"
      ],
      "cell_type": "code",
      "metadata": {
        "id": "qpXSnpyq2zwx",
        "outputId": "76d0e5ca-6792-40de-ce28-f104497d0bb9",
        "colab": {
          "base_uri": "https://localhost:8080/"
        }
      },
      "execution_count": 8,
      "outputs": [
        {
          "output_type": "stream",
          "name": "stdout",
          "text": [
            "{'apple': 3, 'banana': 2, 'orange': 1}\n"
          ]
        }
      ]
    },
    {
      "cell_type": "markdown",
      "source": [
        "**Representing Configurations:**"
      ],
      "metadata": {
        "id": "7rM71ox-22hN"
      }
    },
    {
      "source": [
        "app_config = {\n",
        "    \"database\": \"my_database\",\n",
        "    \"port\": 8080,\n",
        "    \"debug\": True\n",
        "}\n",
        "\n",
        "print(app_config[\"port\"])  # Output: 8080"
      ],
      "cell_type": "code",
      "metadata": {
        "id": "PK4sDi4t24Tm",
        "outputId": "da99770d-de7c-4490-a08b-6c1e8a7eb850",
        "colab": {
          "base_uri": "https://localhost:8080/"
        }
      },
      "execution_count": 9,
      "outputs": [
        {
          "output_type": "stream",
          "name": "stdout",
          "text": [
            "8080\n"
          ]
        }
      ]
    },
    {
      "cell_type": "markdown",
      "source": [
        "These examples demonstrate how dictionaries can efficiently store and manage data in different scenarios."
      ],
      "metadata": {
        "id": "hetjldHu27sK"
      }
    },
    {
      "cell_type": "markdown",
      "source": [
        "# Dictionary methods in Python:"
      ],
      "metadata": {
        "id": "Z0EcsuSt3oNz"
      }
    },
    {
      "cell_type": "markdown",
      "source": [
        "- **keys()**\n",
        "\n",
        "   Returns a view object containing all the keys in the dictionary."
      ],
      "metadata": {
        "id": "11FNER2P3vja"
      }
    },
    {
      "source": [
        "my_dict = {\"apple\": 1, \"banana\": 2, \"cherry\": 3}\n",
        "keys_view = my_dict.keys()\n",
        "print(keys_view)  # Output: dict_keys(['apple', 'banana', 'cherry'])"
      ],
      "cell_type": "code",
      "metadata": {
        "id": "EHdKaXDg4EzS",
        "outputId": "eaff2340-9bc8-466a-ab03-ee76d4a7c56e",
        "colab": {
          "base_uri": "https://localhost:8080/"
        }
      },
      "execution_count": 10,
      "outputs": [
        {
          "output_type": "stream",
          "name": "stdout",
          "text": [
            "dict_keys(['apple', 'banana', 'cherry'])\n"
          ]
        }
      ]
    },
    {
      "cell_type": "markdown",
      "source": [
        "- **values()**\n",
        "\n",
        "  Returns a view object containing all the values in the dictionary."
      ],
      "metadata": {
        "id": "0JWJQ8ed4IyD"
      }
    },
    {
      "source": [
        "values_view = my_dict.values()\n",
        "print(values_view)  # Output: dict_values([1, 2, 3])"
      ],
      "cell_type": "code",
      "metadata": {
        "id": "mDPshXkj4XQc",
        "outputId": "42327f76-a730-4160-c83f-5d81b7ed3ab8",
        "colab": {
          "base_uri": "https://localhost:8080/"
        }
      },
      "execution_count": 11,
      "outputs": [
        {
          "output_type": "stream",
          "name": "stdout",
          "text": [
            "dict_values([1, 2, 3])\n"
          ]
        }
      ]
    },
    {
      "cell_type": "markdown",
      "source": [
        "- **items()**\n",
        "\n",
        " Returns a view object containing all the key-value pairs in the dictionary as tuples."
      ],
      "metadata": {
        "id": "xyuT2vSo4cXS"
      }
    },
    {
      "source": [
        "items_view = my_dict.items()\n",
        "print(items_view)  # Output: dict_items([('apple', 1), ('banana', 2), ('cherry', 3)])"
      ],
      "cell_type": "code",
      "metadata": {
        "id": "p2fcd4pl4o3R",
        "outputId": "eeb9bb07-50ea-4d51-98f6-fc3b7c0d7520",
        "colab": {
          "base_uri": "https://localhost:8080/"
        }
      },
      "execution_count": 12,
      "outputs": [
        {
          "output_type": "stream",
          "name": "stdout",
          "text": [
            "dict_items([('apple', 1), ('banana', 2), ('cherry', 3)])\n"
          ]
        }
      ]
    },
    {
      "cell_type": "markdown",
      "source": [
        "- **get(key, default)**\n",
        "\n",
        "  Returns the value associated with the given key. If the key is not found, it returns the specified default value (or None if no default is provided)."
      ],
      "metadata": {
        "id": "ZGYj17w_5CRY"
      }
    },
    {
      "source": [
        "value = my_dict.get(\"orange\", 0)\n",
        "print(value)  # Output: 0"
      ],
      "cell_type": "code",
      "metadata": {
        "id": "sKCHeI2o5X7D",
        "outputId": "4f20441c-1b98-47ad-d7a7-d96dcbae35a1",
        "colab": {
          "base_uri": "https://localhost:8080/"
        }
      },
      "execution_count": 13,
      "outputs": [
        {
          "output_type": "stream",
          "name": "stdout",
          "text": [
            "0\n"
          ]
        }
      ]
    },
    {
      "cell_type": "markdown",
      "source": [
        "- **pop(key, default)**\n",
        "\n",
        "  Removes and returns the value associated with the given key. If the key is not found, it returns the specified default value (or raises a KeyError if no default is provided)."
      ],
      "metadata": {
        "id": "a0nRXBr65dnv"
      }
    },
    {
      "source": [
        "value = my_dict.pop(\"banana\")\n",
        "print(value)  # Output: 2\n",
        "print(my_dict)  # Output: {'apple': 1, 'cherry': 3}"
      ],
      "cell_type": "code",
      "metadata": {
        "id": "A8EqMpbP5iuk",
        "outputId": "e6ccf618-388a-4dd5-e281-3c334074f87c",
        "colab": {
          "base_uri": "https://localhost:8080/"
        }
      },
      "execution_count": 14,
      "outputs": [
        {
          "output_type": "stream",
          "name": "stdout",
          "text": [
            "2\n",
            "{'apple': 1, 'cherry': 3}\n"
          ]
        }
      ]
    },
    {
      "cell_type": "markdown",
      "source": [
        "- **update(other)**\n",
        "\n",
        "  Updates the dictionary with key-value pairs from another dictionary or iterable."
      ],
      "metadata": {
        "id": "UV9OPL0u5nWU"
      }
    },
    {
      "source": [
        "other_dict = {\"grape\": 4, \"mango\": 5}\n",
        "my_dict.update(other_dict)\n",
        "print(my_dict)  # Output: {'apple': 1, 'cherry': 3, 'grape': 4, 'mango': 5}"
      ],
      "cell_type": "code",
      "metadata": {
        "id": "HUqnPqBU5tSt",
        "outputId": "c9aad5d2-6cef-4eb2-a014-51831336cf99",
        "colab": {
          "base_uri": "https://localhost:8080/"
        }
      },
      "execution_count": 15,
      "outputs": [
        {
          "output_type": "stream",
          "name": "stdout",
          "text": [
            "{'apple': 1, 'cherry': 3, 'grape': 4, 'mango': 5}\n"
          ]
        }
      ]
    },
    {
      "cell_type": "markdown",
      "source": [
        "- **clear()**\n",
        "\n",
        "  Removes all key-value pairs from the dictionary."
      ],
      "metadata": {
        "id": "MYyQAT0C58fy"
      }
    },
    {
      "source": [
        "my_dict.clear()\n",
        "print(my_dict)  # Output: {}"
      ],
      "cell_type": "code",
      "metadata": {
        "id": "cawYf__P6Ccx",
        "outputId": "c5255d22-e82b-4c2d-fb6e-5d41c63d0d2d",
        "colab": {
          "base_uri": "https://localhost:8080/"
        }
      },
      "execution_count": 17,
      "outputs": [
        {
          "output_type": "stream",
          "name": "stdout",
          "text": [
            "{}\n"
          ]
        }
      ]
    },
    {
      "cell_type": "markdown",
      "source": [
        "# Dictionary Comprehension"
      ],
      "metadata": {
        "id": "sxkKPAdk6hoi"
      }
    },
    {
      "cell_type": "markdown",
      "source": [
        "Dictionary comprehension is a concise way to create dictionaries in Python. It allows you to generate key-value pairs based on an iterable and a condition, all in a single line of code."
      ],
      "metadata": {
        "id": "Cmyo4i-a6pOG"
      }
    },
    {
      "cell_type": "markdown",
      "source": [
        "Sytax"
      ],
      "metadata": {
        "id": "OJYhBf0k6tdn"
      }
    },
    {
      "source": [
        "{key_expression: value_expression for item in iterable if condition}"
      ],
      "cell_type": "code",
      "metadata": {
        "id": "tc68wqD06yKq"
      },
      "execution_count": null,
      "outputs": []
    },
    {
      "source": [
        "numbers = [1, 2, 3, 4, 5]\n",
        "squared_dict = {num: num**2 for num in numbers}\n",
        "print(squared_dict)  # Output: {1: 1, 2: 4, 3: 9, 4: 16, 5: 25}"
      ],
      "cell_type": "code",
      "metadata": {
        "id": "5Ii_DDzv6yvm",
        "outputId": "546e654c-7a4a-48c0-964d-f874a01009cd",
        "colab": {
          "base_uri": "https://localhost:8080/"
        }
      },
      "execution_count": 18,
      "outputs": [
        {
          "output_type": "stream",
          "name": "stdout",
          "text": [
            "{1: 1, 2: 4, 3: 9, 4: 16, 5: 25}\n"
          ]
        }
      ]
    },
    {
      "source": [
        "even_dict = {num: num**2 for num in numbers if num % 2 == 0}\n",
        "print(even_dict)  # Output: {2: 4, 4: 16}"
      ],
      "cell_type": "code",
      "metadata": {
        "id": "my25wlz46zT3",
        "outputId": "7d722b79-eafb-449a-bbf7-9ea15163917e",
        "colab": {
          "base_uri": "https://localhost:8080/"
        }
      },
      "execution_count": 19,
      "outputs": [
        {
          "output_type": "stream",
          "name": "stdout",
          "text": [
            "{2: 4, 4: 16}\n"
          ]
        }
      ]
    },
    {
      "source": [
        "keys = [\"name\", \"age\", \"city\"]\n",
        "values = [\"Alice\", 30, \"New York\"]\n",
        "info_dict = {keys[i]: values[i] for i in range(len(keys))}\n",
        "print(info_dict)  # Output: {'name': 'Alice', 'age': 30, 'city': 'New York'}"
      ],
      "cell_type": "code",
      "metadata": {
        "id": "12o4vkf860W9",
        "outputId": "e92d3946-ec1f-43ee-8a3f-732154845d47",
        "colab": {
          "base_uri": "https://localhost:8080/"
        }
      },
      "execution_count": 20,
      "outputs": [
        {
          "output_type": "stream",
          "name": "stdout",
          "text": [
            "{'name': 'Alice', 'age': 30, 'city': 'New York'}\n"
          ]
        }
      ]
    }
  ]
}