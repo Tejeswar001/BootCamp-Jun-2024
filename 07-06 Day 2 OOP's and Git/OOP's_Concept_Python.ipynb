{
  "nbformat": 4,
  "nbformat_minor": 0,
  "metadata": {
    "colab": {
      "provenance": [],
      "authorship_tag": "ABX9TyPunMUjY6nnq6l+7yXxbJDU",
      "include_colab_link": true
    },
    "kernelspec": {
      "name": "python3",
      "display_name": "Python 3"
    },
    "language_info": {
      "name": "python"
    }
  },
  "cells": [
    {
      "cell_type": "markdown",
      "metadata": {
        "id": "view-in-github",
        "colab_type": "text"
      },
      "source": [
        "<a href=\"https://colab.research.google.com/github/Tejeswar001/Python-Practice-/blob/BootCampProgress/07-06%20Day%202%20OOP's%20and%20Git/OOP's_Concept_Python.ipynb\" target=\"_parent\"><img src=\"https://colab.research.google.com/assets/colab-badge.svg\" alt=\"Open In Colab\"/></a>"
      ]
    },
    {
      "cell_type": "markdown",
      "source": [
        "# OOP's (Object Oriented Programming)\n",
        "\n"
      ],
      "metadata": {
        "id": "W1WDXzEqqSdG"
      }
    },
    {
      "cell_type": "markdown",
      "source": [
        "**Class and Object**\n",
        "-  Class: Blueprint for creating objects, defining their properties and behaviors.\n",
        "- Object: An instance of a class with specific values for its properties"
      ],
      "metadata": {
        "id": "Eacq6AdHqqHB"
      }
    },
    {
      "cell_type": "code",
      "execution_count": null,
      "metadata": {
        "id": "8rPVkjfyp-Ae"
      },
      "outputs": [],
      "source": [
        "class Aclass:\n",
        "    pass\n",
        "object = Aclass()"
      ]
    },
    {
      "cell_type": "markdown",
      "source": [
        "# Instance Variables"
      ],
      "metadata": {
        "id": "mgGX47DssLl9"
      }
    },
    {
      "cell_type": "markdown",
      "source": [
        "Instance variables are variables that are unique to each instance of a class. They are defined within a class's methods, typically within the __init__ method, and their values can differ between different objects of the same class."
      ],
      "metadata": {
        "id": "7az6M188r_Jc"
      }
    },
    {
      "cell_type": "code",
      "source": [
        "class Student():\n",
        "  def __init__(self,name,age):\n",
        "    self.name = name # Instance variable for student's name\n",
        "    self.age = age # Instance variable for student's age\n",
        "\n",
        "student1 = Student(\"Aditya\", 20)\n",
        "student2 = Student(\"Harsha\", 22)\n",
        "student3 = Student(\"Manohar\", 21)\n",
        "student4 = Student(\"Pooja\", 23)\n",
        "\n",
        "print(student1.name) # Accessing and printing student1's name\n",
        "print(student2.age) # Accessing and printing student2's age\n",
        "print(student3.name) # Accessing and printing student3's name\n",
        "print(student4.age) # Accessing and printing student4's age"
      ],
      "metadata": {
        "colab": {
          "base_uri": "https://localhost:8080/"
        },
        "id": "tLbXIWfgsdqY",
        "outputId": "5e38a1b3-bdfe-4386-95b7-9ee0993627d9"
      },
      "execution_count": null,
      "outputs": [
        {
          "output_type": "stream",
          "name": "stdout",
          "text": [
            "Aditya\n",
            "22\n",
            "Manohar\n",
            "23\n"
          ]
        }
      ]
    },
    {
      "cell_type": "markdown",
      "source": [
        "# Class Variables"
      ],
      "metadata": {
        "id": "LNhO9o4WuqCv"
      }
    },
    {
      "cell_type": "markdown",
      "source": [
        "To define a class variable in Python, simply define a variable within the class, but outside any of the methods."
      ],
      "metadata": {
        "id": "qprpIiUwus5F"
      }
    },
    {
      "cell_type": "code",
      "source": [
        "class Students():\n",
        "  no_of_students = 0 # Class variable\n",
        "\n",
        "  def __init__(self,name,age):\n",
        "    self.name=name\n",
        "    self.age=age\n",
        "    Students.no_of_students += 1 # Incrementing the class variable\n",
        "\n",
        "student1= Students(\"Aditya\",20)\n",
        "student2= Students(\"Harsha\",22)\n",
        "student3= Students(\"Manohar\",21)\n",
        "student4= Students(\"Pooja\",23)\n",
        "\n",
        "print(Students.no_of_students)"
      ],
      "metadata": {
        "id": "TSBroxkGuw61",
        "outputId": "056f171d-83bb-48cd-9b22-7746d092fcb2",
        "colab": {
          "base_uri": "https://localhost:8080/"
        }
      },
      "execution_count": 2,
      "outputs": [
        {
          "output_type": "stream",
          "name": "stdout",
          "text": [
            "4\n"
          ]
        }
      ]
    },
    {
      "cell_type": "markdown",
      "source": [
        "# Methods in class"
      ],
      "metadata": {
        "id": "DsBAdnqdvkzE"
      }
    },
    {
      "cell_type": "markdown",
      "source": [
        "**Normal Methods**\n"
      ],
      "metadata": {
        "id": "pRV9jTRqv4RG"
      }
    },
    {
      "cell_type": "markdown",
      "source": [
        "To define a normal method in object-oriented programming (OOP) with Python, you define a function within a class. These functions operate on an instance of the class."
      ],
      "metadata": {
        "id": "B3xSyK8gwB7x"
      }
    },
    {
      "cell_type": "code",
      "source": [
        "class Student():\n",
        "  def __init__(self,name,roll_no):\n",
        "    self.name=name\n",
        "    self.roll_no=roll_no\n",
        "  def roll_no_of_student(self):\n",
        "    print(self.roll_no)\n",
        "\n",
        "student1=Student(\"Aditya\",1)\n",
        "student2=Student(\"Harsha\",2)\n",
        "student3=Student(\"Manohar\",3)\n",
        "student4=Student(\"Pooja\",4)\n",
        "\n",
        "student1.roll_no_of_student()\n",
        "student3.roll_no_of_student()"
      ],
      "metadata": {
        "id": "JnaA9ISgwVFa",
        "outputId": "d637e7bc-61ff-43d4-c9cd-724ca4bcbda1",
        "colab": {
          "base_uri": "https://localhost:8080/"
        }
      },
      "execution_count": 5,
      "outputs": [
        {
          "output_type": "stream",
          "name": "stdout",
          "text": [
            "1\n",
            "3\n"
          ]
        }
      ]
    }
  ]
}