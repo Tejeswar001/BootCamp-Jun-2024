{
  "nbformat": 4,
  "nbformat_minor": 0,
  "metadata": {
    "colab": {
      "provenance": [],
      "authorship_tag": "ABX9TyMR7vQZ7XzAhWUBo3mIA2iE",
      "include_colab_link": true
    },
    "kernelspec": {
      "name": "python3",
      "display_name": "Python 3"
    },
    "language_info": {
      "name": "python"
    }
  },
  "cells": [
    {
      "cell_type": "markdown",
      "metadata": {
        "id": "view-in-github",
        "colab_type": "text"
      },
      "source": [
        "<a href=\"https://colab.research.google.com/github/Tejeswar001/Python-Practice-/blob/BootCampProgress/07-06%20Day%202%20OOP's%20and%20Git/OOP's_Concept_Python.ipynb\" target=\"_parent\"><img src=\"https://colab.research.google.com/assets/colab-badge.svg\" alt=\"Open In Colab\"/></a>"
      ]
    },
    {
      "cell_type": "markdown",
      "source": [
        "# OOP's (Object Oriented Programming)\n",
        "\n"
      ],
      "metadata": {
        "id": "W1WDXzEqqSdG"
      }
    },
    {
      "cell_type": "markdown",
      "source": [
        "**Class and Object**\n",
        "-  Class: Blueprint for creating objects, defining their properties and behaviors.\n",
        "- Object: An instance of a class with specific values for its properties"
      ],
      "metadata": {
        "id": "Eacq6AdHqqHB"
      }
    },
    {
      "cell_type": "code",
      "execution_count": null,
      "metadata": {
        "id": "8rPVkjfyp-Ae"
      },
      "outputs": [],
      "source": [
        "class Aclass:\n",
        "    pass\n",
        "object = Aclass()"
      ]
    },
    {
      "cell_type": "markdown",
      "source": [
        "# Instance Variables"
      ],
      "metadata": {
        "id": "mgGX47DssLl9"
      }
    },
    {
      "cell_type": "markdown",
      "source": [
        "Instance variables are variables that are unique to each instance of a class. They are defined within a class's methods, typically within the __init__ method, and their values can differ between different objects of the same class."
      ],
      "metadata": {
        "id": "7az6M188r_Jc"
      }
    },
    {
      "cell_type": "code",
      "source": [
        "class Student():\n",
        "  def __init__(self,name,age):\n",
        "    self.name = name # Instance variable for student's name\n",
        "    self.age = age # Instance variable for student's age\n",
        "\n",
        "student1 = Student(\"Aditya\", 20)\n",
        "student2 = Student(\"Harsha\", 22)\n",
        "student3 = Student(\"Manohar\", 21)\n",
        "student4 = Student(\"Pooja\", 23)\n",
        "\n",
        "print(student1.name) # Accessing and printing student1's name\n",
        "print(student2.age) # Accessing and printing student2's age\n",
        "print(student3.name) # Accessing and printing student3's name\n",
        "print(student4.age) # Accessing and printing student4's age"
      ],
      "metadata": {
        "colab": {
          "base_uri": "https://localhost:8080/"
        },
        "id": "tLbXIWfgsdqY",
        "outputId": "5e38a1b3-bdfe-4386-95b7-9ee0993627d9"
      },
      "execution_count": 1,
      "outputs": [
        {
          "output_type": "stream",
          "name": "stdout",
          "text": [
            "Aditya\n",
            "22\n",
            "Manohar\n",
            "23\n"
          ]
        }
      ]
    }
  ]
}