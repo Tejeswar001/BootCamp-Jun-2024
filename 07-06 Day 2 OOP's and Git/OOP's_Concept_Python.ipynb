{
  "nbformat": 4,
  "nbformat_minor": 0,
  "metadata": {
    "colab": {
      "provenance": [],
      "authorship_tag": "ABX9TyM4vtTBBy2KA47h1/A+P8j/",
      "include_colab_link": true
    },
    "kernelspec": {
      "name": "python3",
      "display_name": "Python 3"
    },
    "language_info": {
      "name": "python"
    }
  },
  "cells": [
    {
      "cell_type": "markdown",
      "metadata": {
        "id": "view-in-github",
        "colab_type": "text"
      },
      "source": [
        "<a href=\"https://colab.research.google.com/github/Tejeswar001/Python-Practice-/blob/BootCampProgress/07-06%20Day%202%20OOP's%20and%20Git/OOP's_Concept_Python.ipynb\" target=\"_parent\"><img src=\"https://colab.research.google.com/assets/colab-badge.svg\" alt=\"Open In Colab\"/></a>"
      ]
    },
    {
      "cell_type": "markdown",
      "source": [
        "# OOP's (Object Oriented Programming)\n",
        "\n"
      ],
      "metadata": {
        "id": "W1WDXzEqqSdG"
      }
    },
    {
      "cell_type": "markdown",
      "source": [
        "**Class and Object**\n",
        "-  Class: Blueprint for creating objects, defining their properties and behaviors.\n",
        "- Object: An instance of a class with specific values for its properties"
      ],
      "metadata": {
        "id": "Eacq6AdHqqHB"
      }
    },
    {
      "cell_type": "code",
      "execution_count": null,
      "metadata": {
        "id": "8rPVkjfyp-Ae"
      },
      "outputs": [],
      "source": [
        "class Aclass:\n",
        "    pass\n",
        "object = Aclass()"
      ]
    },
    {
      "cell_type": "markdown",
      "source": [
        "# Instance Variables"
      ],
      "metadata": {
        "id": "mgGX47DssLl9"
      }
    },
    {
      "cell_type": "markdown",
      "source": [
        "Instance variables are variables that are unique to each instance of a class. They are defined within a class's methods, typically within the __init__ method, and their values can differ between different objects of the same class."
      ],
      "metadata": {
        "id": "7az6M188r_Jc"
      }
    },
    {
      "cell_type": "code",
      "source": [
        "class Student():\n",
        "  def __init__(self,name,age):\n",
        "    self.name = name # Instance variable for student's name\n",
        "    self.age = age # Instance variable for student's age\n",
        "\n",
        "student1 = Student(\"Aditya\", 20)\n",
        "student2 = Student(\"Harsha\", 22)\n",
        "student3 = Student(\"Manohar\", 21)\n",
        "student4 = Student(\"Pooja\", 23)\n",
        "\n",
        "print(student1.name) # Accessing and printing student1's name\n",
        "print(student2.age) # Accessing and printing student2's age\n",
        "print(student3.name) # Accessing and printing student3's name\n",
        "print(student4.age) # Accessing and printing student4's age"
      ],
      "metadata": {
        "colab": {
          "base_uri": "https://localhost:8080/"
        },
        "id": "tLbXIWfgsdqY",
        "outputId": "5e38a1b3-bdfe-4386-95b7-9ee0993627d9"
      },
      "execution_count": null,
      "outputs": [
        {
          "output_type": "stream",
          "name": "stdout",
          "text": [
            "Aditya\n",
            "22\n",
            "Manohar\n",
            "23\n"
          ]
        }
      ]
    },
    {
      "cell_type": "markdown",
      "source": [
        "# Class Variables"
      ],
      "metadata": {
        "id": "LNhO9o4WuqCv"
      }
    },
    {
      "cell_type": "markdown",
      "source": [
        "To define a class variable in Python, simply define a variable within the class, but outside any of the methods."
      ],
      "metadata": {
        "id": "qprpIiUwus5F"
      }
    },
    {
      "cell_type": "code",
      "source": [
        "class Students():\n",
        "  no_of_students = 0 # Class variable\n",
        "\n",
        "  def __init__(self,name,age):\n",
        "    self.name=name\n",
        "    self.age=age\n",
        "    Students.no_of_students += 1 # Incrementing the class variable\n",
        "\n",
        "student1= Students(\"Aditya\",20)\n",
        "student2= Students(\"Harsha\",22)\n",
        "student3= Students(\"Manohar\",21)\n",
        "student4= Students(\"Pooja\",23)\n",
        "\n",
        "print(Students.no_of_students)"
      ],
      "metadata": {
        "colab": {
          "base_uri": "https://localhost:8080/"
        },
        "id": "TSBroxkGuw61",
        "outputId": "056f171d-83bb-48cd-9b22-7746d092fcb2"
      },
      "execution_count": 2,
      "outputs": [
        {
          "output_type": "stream",
          "name": "stdout",
          "text": [
            "4\n"
          ]
        }
      ]
    },
    {
      "cell_type": "markdown",
      "source": [
        "# Methods in class"
      ],
      "metadata": {
        "id": "DsBAdnqdvkzE"
      }
    },
    {
      "cell_type": "markdown",
      "source": [
        "**Normal Methods**\n"
      ],
      "metadata": {
        "id": "pRV9jTRqv4RG"
      }
    },
    {
      "cell_type": "markdown",
      "source": [
        "To define a normal method in object-oriented programming (OOP) with Python, you define a function within a class. These functions operate on an instance of the class."
      ],
      "metadata": {
        "id": "B3xSyK8gwB7x"
      }
    },
    {
      "cell_type": "code",
      "source": [
        "class Student():\n",
        "  def __init__(self,name,roll_no):\n",
        "    self.name=name\n",
        "    self.roll_no=roll_no\n",
        "  def roll_no_of_student(self):\n",
        "    print(self.roll_no)\n",
        "\n",
        "student1=Student(\"Aditya\",1)\n",
        "student2=Student(\"Harsha\",2)\n",
        "student3=Student(\"Manohar\",3)\n",
        "student4=Student(\"Pooja\",4)\n",
        "\n",
        "student1.roll_no_of_student()\n",
        "student3.roll_no_of_student()"
      ],
      "metadata": {
        "colab": {
          "base_uri": "https://localhost:8080/"
        },
        "id": "JnaA9ISgwVFa",
        "outputId": "d637e7bc-61ff-43d4-c9cd-724ca4bcbda1"
      },
      "execution_count": 5,
      "outputs": [
        {
          "output_type": "stream",
          "name": "stdout",
          "text": [
            "1\n",
            "3\n"
          ]
        }
      ]
    },
    {
      "cell_type": "markdown",
      "source": [
        "**Class Method**"
      ],
      "metadata": {
        "id": "uchP6PDuxGg4"
      }
    },
    {
      "cell_type": "markdown",
      "source": [
        "To define a class method in Python, you use the @classmethod decorator. Class methods operate on the class itself, rather than on an instance of the class."
      ],
      "metadata": {
        "id": "q0IM_fIMxI1C"
      }
    },
    {
      "source": [
        "class students():\n",
        "  no_of_students=0 # This is a class variable\n",
        "  def __init__(self,name,roll_no):\n",
        "    self.name=name\n",
        "    self.roll_no=roll_no\n",
        "    students.no_of_students += 1 # Incrementing the class variable\n",
        "\n",
        "  @classmethod\n",
        "  def get_no_of_students(cls): # Renamed the class method to avoid conflict\n",
        "    return (cls.no_of_students)\n",
        "\n",
        "student1=students(\"Aditya\",1)\n",
        "student2=students(\"Harsha\",2)\n",
        "student3=students(\"Manohar\",3)\n",
        "student4=students(\"Pooja\",4)\n",
        "\n",
        "print(students.get_no_of_students()) # Calling the renamed class method"
      ],
      "cell_type": "code",
      "metadata": {
        "id": "FiTQQ_tnyQBU",
        "outputId": "91b56c60-994d-444a-9bc7-609906a6d37c",
        "colab": {
          "base_uri": "https://localhost:8080/"
        }
      },
      "execution_count": 9,
      "outputs": [
        {
          "output_type": "stream",
          "name": "stdout",
          "text": [
            "4\n"
          ]
        }
      ]
    },
    {
      "cell_type": "markdown",
      "source": [
        "**Static method**"
      ],
      "metadata": {
        "id": "J17vIi3hyaR4"
      }
    },
    {
      "cell_type": "markdown",
      "source": [
        "A static method is a function inside a class that doesn't need an object of that class to be created before it can be used, acting like a standalone utility related to the class."
      ],
      "metadata": {
        "id": "AonGBnAOy842"
      }
    },
    {
      "cell_type": "code",
      "source": [
        "class tempConverter():\n",
        "  @staticmethod\n",
        "  def Celsius_to_Fahrenheit(celsius):\n",
        "    fahrenheit = (celsius * 1.8) + 32\n",
        "    return fahrenheit\n",
        "\n",
        "  @staticmethod\n",
        "  def Fahrenheit_to_Celsius(fahrenheit):\n",
        "    celsius = (fahrenheit - 32) / 1.8\n",
        "    return celsius\n",
        "print(tempConverter.Celsius_to_Fahrenheit(37))\n",
        "print(tempConverter.Fahrenheit_to_Celsius(98.6))"
      ],
      "metadata": {
        "id": "i5xEEJrTzu3s",
        "outputId": "b52c2043-2917-4fc2-d408-62f50efeb013",
        "colab": {
          "base_uri": "https://localhost:8080/"
        }
      },
      "execution_count": 11,
      "outputs": [
        {
          "output_type": "stream",
          "name": "stdout",
          "text": [
            "98.60000000000001\n",
            "36.99999999999999\n"
          ]
        }
      ]
    },
    {
      "cell_type": "markdown",
      "source": [
        "# Special Methods"
      ],
      "metadata": {
        "id": "uK3zRFwa0kyo"
      }
    },
    {
      "cell_type": "markdown",
      "source": [
        "__init__ method"
      ],
      "metadata": {
        "id": "0zYtQ2w50ojz"
      }
    },
    {
      "cell_type": "markdown",
      "source": [
        "The __init__ method is a special function in a class that initializes the object's attributes when it is created."
      ],
      "metadata": {
        "id": "uwZHSncl1CGX"
      }
    },
    {
      "cell_type": "code",
      "source": [
        "class Student():\n",
        "  def __init__(self,name,age):\n",
        "    self.name = name # Instance variable for student's name\n",
        "    self.age = age # Instance variable for student's age\n",
        "\n",
        "student1 = Student(\"Aditya\", 20)\n",
        "student2 = Student(\"Harsha\", 22)\n",
        "student3 = Student(\"Manohar\", 21)\n",
        "student4 = Student(\"Pooja\", 23)\n",
        "\n",
        "print(student1.name) # Accessing and printing student1's name\n",
        "print(student2.age) # Accessing and printing student2's age\n",
        "print(student3.name) # Accessing and printing student3's name\n",
        "print(student4.age) # Accessing and printing student4's age"
      ],
      "metadata": {
        "id": "X7gUY43G1IZ3",
        "outputId": "26aa937d-d620-4767-8482-c41b5906c6b9",
        "colab": {
          "base_uri": "https://localhost:8080/"
        }
      },
      "execution_count": 12,
      "outputs": [
        {
          "output_type": "stream",
          "name": "stdout",
          "text": [
            "Aditya\n",
            "22\n",
            "Manohar\n",
            "23\n"
          ]
        }
      ]
    },
    {
      "cell_type": "markdown",
      "source": [
        "__str__ method"
      ],
      "metadata": {
        "id": "WL9Wdm6t1a5Z"
      }
    },
    {
      "cell_type": "markdown",
      "source": [
        "The __str__ method in Python allows you to define how an object of your class should be represented as a string. When you try to print an object or convert it to a string using the str() function, Python looks for the __str__ method in the object's class. If it's defined, it uses the return value of that method as the string representation."
      ],
      "metadata": {
        "id": "M8gPWqmD1fqb"
      }
    },
    {
      "cell_type": "code",
      "source": [
        "class Students():\n",
        "  def __init__(self,name,roll_no):\n",
        "    self.name=name\n",
        "    self.roll_no=roll_no\n",
        "  def __str__(self):\n",
        "    return f\"Name: {self.name}, Roll No: {self.roll_no}\"\n",
        "\n",
        "student1=Students(\"Aditya\",1)\n",
        "student2=Students(\"Harsha\",2)\n",
        "student3=Students(\"Manohar\",3)\n",
        "student4=Students(\"Pooja\",4)\n",
        "\n",
        "print(student1)\n",
        "print(str(student2))\n",
        "print(student3)\n",
        "print(str(student4))"
      ],
      "metadata": {
        "id": "lItWU6Yv1ncw",
        "outputId": "9b71a140-5a9d-46b3-807d-2c5a7e22643a",
        "colab": {
          "base_uri": "https://localhost:8080/"
        }
      },
      "execution_count": 13,
      "outputs": [
        {
          "output_type": "stream",
          "name": "stdout",
          "text": [
            "Name: Aditya, Roll No: 1\n",
            "Name: Harsha, Roll No: 2\n",
            "Name: Manohar, Roll No: 3\n",
            "Name: Pooja, Roll No: 4\n"
          ]
        }
      ]
    },
    {
      "cell_type": "markdown",
      "source": [
        "__new__ method"
      ],
      "metadata": {
        "id": "Awa3_O0J2ifW"
      }
    },
    {
      "cell_type": "markdown",
      "source": [],
      "metadata": {
        "id": "bVV0Mb022k8G"
      }
    }
  ]
}