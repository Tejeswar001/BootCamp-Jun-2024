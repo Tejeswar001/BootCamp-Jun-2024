{
  "nbformat": 4,
  "nbformat_minor": 0,
  "metadata": {
    "colab": {
      "provenance": [],
      "authorship_tag": "ABX9TyOVLIGcDueR1v3vyRhmv4br",
      "include_colab_link": true
    },
    "kernelspec": {
      "name": "python3",
      "display_name": "Python 3"
    },
    "language_info": {
      "name": "python"
    }
  },
  "cells": [
    {
      "cell_type": "markdown",
      "metadata": {
        "id": "view-in-github",
        "colab_type": "text"
      },
      "source": [
        "<a href=\"https://colab.research.google.com/github/Tejeswar001/Python-Practice-/blob/BootCampProgress/07-06/OOP's_Concept_Python.ipynb\" target=\"_parent\"><img src=\"https://colab.research.google.com/assets/colab-badge.svg\" alt=\"Open In Colab\"/></a>"
      ]
    },
    {
      "cell_type": "markdown",
      "source": [
        "OOP's (Object Oriented Programming)"
      ],
      "metadata": {
        "id": "W1WDXzEqqSdG"
      }
    },
    {
      "cell_type": "markdown",
      "source": [
        "**Class and Object**\n",
        "-  Class: Blueprint for creating objects, defining their properties and behaviors.\n",
        "- Object: An instance of a class with specific values for its properties"
      ],
      "metadata": {
        "id": "Eacq6AdHqqHB"
      }
    },
    {
      "cell_type": "code",
      "execution_count": 1,
      "metadata": {
        "id": "8rPVkjfyp-Ae"
      },
      "outputs": [],
      "source": [
        "class Aclass:\n",
        "    pass\n",
        "object = Aclass()"
      ]
    }
  ]
}
