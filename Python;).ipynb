{
  "nbformat": 4,
  "nbformat_minor": 0,
  "metadata": {
    "colab": {
      "provenance": [],
      "authorship_tag": "ABX9TyN8uioyL0yxeEC0nDSClIuq",
      "include_colab_link": true
    },
    "kernelspec": {
      "name": "python3",
      "display_name": "Python 3"
    },
    "language_info": {
      "name": "python"
    }
  },
  "cells": [
    {
      "cell_type": "markdown",
      "metadata": {
        "id": "view-in-github",
        "colab_type": "text"
      },
      "source": [
        "<a href=\"https://colab.research.google.com/github/Tejeswar001/Python-Practice-/blob/main/Python%3B).ipynb\" target=\"_parent\"><img src=\"https://colab.research.google.com/assets/colab-badge.svg\" alt=\"Open In Colab\"/></a>"
      ]
    },
    {
      "cell_type": "code",
      "execution_count": 1,
      "metadata": {
        "colab": {
          "base_uri": "https://localhost:8080/"
        },
        "id": "CnoSIiAq-5hv",
        "outputId": "c6519d6a-a494-4179-b4d6-2bd9ec650d8a"
      },
      "outputs": [
        {
          "output_type": "stream",
          "name": "stdout",
          "text": [
            "Cloning into 'Python-Practice-'...\n",
            "remote: Enumerating objects: 3, done.\u001b[K\n",
            "remote: Counting objects: 100% (3/3), done.\u001b[K\n",
            "remote: Total 3 (delta 0), reused 0 (delta 0), pack-reused 0\u001b[K\n",
            "Receiving objects: 100% (3/3), done.\n"
          ]
        }
      ],
      "source": [
        "!git clone https://github.com/Tejeswar001/Python-Practice-"
      ]
    },
    {
      "cell_type": "markdown",
      "source": [
        "- INPUT and OUTPUT in py"
      ],
      "metadata": {
        "id": "_7zHwzKJAuO7"
      }
    },
    {
      "cell_type": "code",
      "source": [
        "print(\"Hi\")"
      ],
      "metadata": {
        "colab": {
          "base_uri": "https://localhost:8080/"
        },
        "id": "igbAUp5p_Tgi",
        "outputId": "7acce492-9679-49d6-ce31-14bfe0efc056"
      },
      "execution_count": 2,
      "outputs": [
        {
          "output_type": "stream",
          "name": "stdout",
          "text": [
            "Hi\n"
          ]
        }
      ]
    },
    {
      "cell_type": "code",
      "source": [
        "a=input(\"enter: \")\n",
        "print(\"output:\",a)"
      ],
      "metadata": {
        "colab": {
          "base_uri": "https://localhost:8080/"
        },
        "id": "HIhZSZMSAsGk",
        "outputId": "f37f6c0d-cf09-445b-fb6e-2238f0718634"
      },
      "execution_count": 7,
      "outputs": [
        {
          "output_type": "stream",
          "name": "stdout",
          "text": [
            "enter: 1\n",
            "output: 1\n"
          ]
        }
      ]
    },
    {
      "cell_type": "markdown",
      "source": [
        "**DATA TYPES**"
      ],
      "metadata": {
        "id": "LGD7PmM4BM7g"
      }
    },
    {
      "cell_type": "code",
      "source": [
        "INT=12345648546\n",
        "float_=2.222222222222222\n",
        "complex_=5+4j\n",
        "print(INT,float_,complex_)"
      ],
      "metadata": {
        "colab": {
          "base_uri": "https://localhost:8080/"
        },
        "id": "MaD2joA5A74y",
        "outputId": "c34df224-17bc-4250-e370-fc87a6834eed"
      },
      "execution_count": 8,
      "outputs": [
        {
          "output_type": "stream",
          "name": "stdout",
          "text": [
            "12345648546 2.222222222222222 (5+4j)\n"
          ]
        }
      ]
    },
    {
      "cell_type": "code",
      "source": [
        "list_=[1,5,8,7]\n",
        "tuple_=(4,8,9,4)\n",
        "set_={5,4,8,2,9,1}\n",
        "dict_={'a':1,'b':2}\n",
        "print(list_,tuple_,set_,dict_)"
      ],
      "metadata": {
        "colab": {
          "base_uri": "https://localhost:8080/"
        },
        "id": "UZuIOPbhB9WD",
        "outputId": "c29af38c-30e5-4584-e74a-f004f0beb434"
      },
      "execution_count": 9,
      "outputs": [
        {
          "output_type": "stream",
          "name": "stdout",
          "text": [
            "[1, 5, 8, 7] (4, 8, 9, 4) {1, 2, 4, 5, 8, 9} {'a': 1, 'b': 2}\n"
          ]
        }
      ]
    },
    {
      "cell_type": "markdown",
      "source": [
        "**Expressions and Operators**"
      ],
      "metadata": {
        "id": "4O23Xv_OCNKz"
      }
    },
    {
      "cell_type": "code",
      "source": [
        "a=89\n",
        "b=60\n",
        "print(a+b)\n",
        "print(a-b)\n",
        "print(a*b)\n",
        "print(a/b)\n",
        "print(a//b)\n",
        "print(a%b)\n",
        "print(a**b)"
      ],
      "metadata": {
        "colab": {
          "base_uri": "https://localhost:8080/"
        },
        "id": "R5eOiSloCR6e",
        "outputId": "954ee14a-742e-4c13-b6d1-af076ab4ff5e"
      },
      "execution_count": 10,
      "outputs": [
        {
          "output_type": "stream",
          "name": "stdout",
          "text": [
            "149\n",
            "29\n",
            "5340\n",
            "1.4833333333333334\n",
            "1\n",
            "29\n",
            "919179645527332188528767743697044534647677141263814438294608339854073027277989379673170633101882546894684498551501601\n"
          ]
        }
      ]
    }
  ]
}