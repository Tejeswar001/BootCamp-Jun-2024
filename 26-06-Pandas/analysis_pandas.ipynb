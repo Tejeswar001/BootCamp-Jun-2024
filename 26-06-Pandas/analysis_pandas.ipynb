{
  "nbformat": 4,
  "nbformat_minor": 0,
  "metadata": {
    "colab": {
      "provenance": [],
      "authorship_tag": "ABX9TyOmyjeBWOhOLPW05Us0LSr8",
      "include_colab_link": true
    },
    "kernelspec": {
      "name": "python3",
      "display_name": "Python 3"
    },
    "language_info": {
      "name": "python"
    }
  },
  "cells": [
    {
      "cell_type": "markdown",
      "metadata": {
        "id": "view-in-github",
        "colab_type": "text"
      },
      "source": [
        "<a href=\"https://colab.research.google.com/github/Tejeswar001/BootCamp-Jun-2024/blob/BootCampProgress/analysis_pandas.ipynb\" target=\"_parent\"><img src=\"https://colab.research.google.com/assets/colab-badge.svg\" alt=\"Open In Colab\"/></a>"
      ]
    },
    {
      "cell_type": "markdown",
      "source": [
        "# Import Pandas"
      ],
      "metadata": {
        "id": "3t-lgNQXB_Rp"
      }
    },
    {
      "cell_type": "code",
      "execution_count": null,
      "metadata": {
        "id": "htvLvNepA4nm"
      },
      "outputs": [],
      "source": [
        "import pandas as pd"
      ]
    },
    {
      "cell_type": "markdown",
      "source": [
        "# Load the spreadsheet"
      ],
      "metadata": {
        "id": "Mxq2It4BCDiw"
      }
    },
    {
      "cell_type": "code",
      "source": [
        "df = pd.read_csv('bestsellers.csv')\n",
        "\n",
        "# First 5 rows of the spreadsheet\n",
        "print(df.head())"
      ],
      "metadata": {
        "colab": {
          "base_uri": "https://localhost:8080/"
        },
        "id": "m5vzb8yWBJJF",
        "outputId": "bfd5ad89-776d-4922-abc1-d03423a32566"
      },
      "execution_count": null,
      "outputs": [
        {
          "output_type": "stream",
          "name": "stdout",
          "text": [
            "                                                Name  \\\n",
            "0                      10-Day Green Smoothie Cleanse   \n",
            "1                                  11/22/63: A Novel   \n",
            "2            12 Rules for Life: An Antidote to Chaos   \n",
            "3                             1984 (Signet Classics)   \n",
            "4  5,000 Awesome Facts (About Everything!) (Natio...   \n",
            "\n",
            "                     Author  User Rating  Reviews  Price  Year        Genre  \n",
            "0                  JJ Smith          4.7    17350      8  2016  Non Fiction  \n",
            "1              Stephen King          4.6     2052     22  2011      Fiction  \n",
            "2        Jordan B. Peterson          4.7    18979     15  2018  Non Fiction  \n",
            "3             George Orwell          4.7    21424      6  2017      Fiction  \n",
            "4  National Geographic Kids          4.8     7665     12  2019  Non Fiction  \n"
          ]
        }
      ]
    },
    {
      "cell_type": "markdown",
      "source": [
        "# Explore the data"
      ],
      "metadata": {
        "id": "uVBxnWMsCJIC"
      }
    },
    {
      "cell_type": "code",
      "source": [
        "# The shape of the spreadsheet\n",
        "print(df.shape)"
      ],
      "metadata": {
        "colab": {
          "base_uri": "https://localhost:8080/"
        },
        "id": "Ony6KFWtBqeW",
        "outputId": "068fd198-d1e5-4cc9-c55a-6b37f372b93c"
      },
      "execution_count": null,
      "outputs": [
        {
          "output_type": "stream",
          "name": "stdout",
          "text": [
            "(550, 7)\n"
          ]
        }
      ]
    },
    {
      "cell_type": "code",
      "source": [
        "# Get the column names of the spreadsheet\n",
        "print(df.columns)"
      ],
      "metadata": {
        "colab": {
          "base_uri": "https://localhost:8080/"
        },
        "id": "4EkVJQRHBtRo",
        "outputId": "05fd5e35-4c5e-40ac-d5f8-fba275203173"
      },
      "execution_count": null,
      "outputs": [
        {
          "output_type": "stream",
          "name": "stdout",
          "text": [
            "Index(['Name', 'Author', 'User Rating', 'Reviews', 'Price', 'Year', 'Genre'], dtype='object')\n"
          ]
        }
      ]
    },
    {
      "cell_type": "code",
      "source": [
        "# Get the summary statistics for each column\n",
        "print(df.describe())"
      ],
      "metadata": {
        "colab": {
          "base_uri": "https://localhost:8080/"
        },
        "id": "eASYg_WdByfs",
        "outputId": "a8dfce6d-8c5a-4a93-8aa9-e0ca3ab4c4a6"
      },
      "execution_count": null,
      "outputs": [
        {
          "output_type": "stream",
          "name": "stdout",
          "text": [
            "       User Rating       Reviews       Price         Year\n",
            "count   550.000000    550.000000  550.000000   550.000000\n",
            "mean      4.618364  11953.281818   13.100000  2014.000000\n",
            "std       0.226980  11731.132017   10.842262     3.165156\n",
            "min       3.300000     37.000000    0.000000  2009.000000\n",
            "25%       4.500000   4058.000000    7.000000  2011.000000\n",
            "50%       4.700000   8580.000000   11.000000  2014.000000\n",
            "75%       4.800000  17253.250000   16.000000  2017.000000\n",
            "max       4.900000  87841.000000  105.000000  2019.000000\n"
          ]
        }
      ]
    },
    {
      "cell_type": "code",
      "source": [
        "# Get the null values in the spreadsheet\n",
        "print(df.isnull())"
      ],
      "metadata": {
        "colab": {
          "base_uri": "https://localhost:8080/"
        },
        "id": "1xMaDNolB7dn",
        "outputId": "b1065bd4-766d-4e97-8831-34c68c14d2f0"
      },
      "execution_count": null,
      "outputs": [
        {
          "output_type": "stream",
          "name": "stdout",
          "text": [
            "      Name  Author  User Rating  Reviews  Price   Year  Genre\n",
            "0    False   False        False    False  False  False  False\n",
            "1    False   False        False    False  False  False  False\n",
            "2    False   False        False    False  False  False  False\n",
            "3    False   False        False    False  False  False  False\n",
            "4    False   False        False    False  False  False  False\n",
            "..     ...     ...          ...      ...    ...    ...    ...\n",
            "545  False   False        False    False  False  False  False\n",
            "546  False   False        False    False  False  False  False\n",
            "547  False   False        False    False  False  False  False\n",
            "548  False   False        False    False  False  False  False\n",
            "549  False   False        False    False  False  False  False\n",
            "\n",
            "[550 rows x 7 columns]\n"
          ]
        }
      ]
    },
    {
      "cell_type": "code",
      "source": [
        "print(df.isnull().sum())"
      ],
      "metadata": {
        "colab": {
          "base_uri": "https://localhost:8080/"
        },
        "id": "Hw0fCzo_CbEM",
        "outputId": "5c8bf705-411e-4f56-f789-4e2702be12bb"
      },
      "execution_count": null,
      "outputs": [
        {
          "output_type": "stream",
          "name": "stdout",
          "text": [
            "Name           0\n",
            "Author         0\n",
            "User Rating    0\n",
            "Reviews        0\n",
            "Price          0\n",
            "Year           0\n",
            "Genre          0\n",
            "dtype: int64\n"
          ]
        }
      ]
    },
    {
      "cell_type": "markdown",
      "source": [
        "# Clean the data"
      ],
      "metadata": {
        "id": "vc2xifKoChLT"
      }
    },
    {
      "cell_type": "markdown",
      "source": [
        "## Drop Duplicates"
      ],
      "metadata": {
        "id": "ulkaySlmC63l"
      }
    },
    {
      "cell_type": "code",
      "source": [
        "df.drop_duplicates(inplace=True)"
      ],
      "metadata": {
        "id": "9hTsaBxICjjN"
      },
      "execution_count": null,
      "outputs": []
    },
    {
      "cell_type": "markdown",
      "source": [
        "By setting the inplace parameter to True, the changes are made directly to the original DataFrame."
      ],
      "metadata": {
        "id": "IthQ5W_jDGSy"
      }
    },
    {
      "cell_type": "markdown",
      "source": [
        "## Renaming Columns"
      ],
      "metadata": {
        "id": "wo89UyYTDI3m"
      }
    },
    {
      "cell_type": "code",
      "source": [
        "print(df.columns)"
      ],
      "metadata": {
        "colab": {
          "base_uri": "https://localhost:8080/"
        },
        "id": "jokvPY0sDG-A",
        "outputId": "b838ea46-eed7-4fb8-af35-cddaa311ef08"
      },
      "execution_count": null,
      "outputs": [
        {
          "output_type": "stream",
          "name": "stdout",
          "text": [
            "Index(['Name', 'Author', 'User Rating', 'Reviews', 'Price', 'Year', 'Genre'], dtype='object')\n"
          ]
        }
      ]
    },
    {
      "cell_type": "code",
      "source": [
        "df.rename(columns={\"Name\": \"Book Title\", \"Year\": \"Publication Year\", \"User Rating\":\"Rating\"},inplace=True)"
      ],
      "metadata": {
        "id": "mycSlD1iDQp1"
      },
      "execution_count": null,
      "outputs": []
    },
    {
      "cell_type": "code",
      "source": [
        "print(df.columns)"
      ],
      "metadata": {
        "colab": {
          "base_uri": "https://localhost:8080/"
        },
        "id": "vFWuTu8GDmC0",
        "outputId": "2601defd-c5ae-4e87-8ea5-0ff1013cf367"
      },
      "execution_count": null,
      "outputs": [
        {
          "output_type": "stream",
          "name": "stdout",
          "text": [
            "Index(['Book Title', 'Author', 'Rating', 'Reviews', 'Price',\n",
            "       '  Publication Year', 'Genre'],\n",
            "      dtype='object')\n"
          ]
        }
      ]
    },
    {
      "cell_type": "markdown",
      "source": [
        "## Convert Data types"
      ],
      "metadata": {
        "id": "DRRrlS3fEAHP"
      }
    },
    {
      "cell_type": "code",
      "source": [
        "df.dtypes"
      ],
      "metadata": {
        "colab": {
          "base_uri": "https://localhost:8080/"
        },
        "id": "qRSvay_ZDn-I",
        "outputId": "a374a67e-bcf7-470f-9d04-b18ec8b3ccb5"
      },
      "execution_count": null,
      "outputs": [
        {
          "output_type": "execute_result",
          "data": {
            "text/plain": [
              "Book Title             object\n",
              "Author                 object\n",
              "Rating                float64\n",
              "Reviews                 int64\n",
              "Price                   int64\n",
              "  Publication Year      int64\n",
              "Genre                  object\n",
              "dtype: object"
            ]
          },
          "metadata": {},
          "execution_count": 21
        }
      ]
    },
    {
      "cell_type": "code",
      "source": [
        "df[\"Price\"].dtypes"
      ],
      "metadata": {
        "colab": {
          "base_uri": "https://localhost:8080/"
        },
        "id": "n-lvWyDcEFJw",
        "outputId": "dacbb97b-a91c-403b-ae77-141133a150ae"
      },
      "execution_count": null,
      "outputs": [
        {
          "output_type": "execute_result",
          "data": {
            "text/plain": [
              "dtype('int64')"
            ]
          },
          "metadata": {},
          "execution_count": 22
        }
      ]
    },
    {
      "cell_type": "code",
      "source": [
        "df[\"Price\"] = df[\"Price\"].astype(float)"
      ],
      "metadata": {
        "id": "Duc5byFEERjo"
      },
      "execution_count": null,
      "outputs": []
    },
    {
      "cell_type": "code",
      "source": [
        "df['Price'].dtypes"
      ],
      "metadata": {
        "colab": {
          "base_uri": "https://localhost:8080/"
        },
        "id": "1IMUI9faEajY",
        "outputId": "914bb0d0-a9e6-48e7-dfd7-ae074cfa92e6"
      },
      "execution_count": null,
      "outputs": [
        {
          "output_type": "execute_result",
          "data": {
            "text/plain": [
              "dtype('float64')"
            ]
          },
          "metadata": {},
          "execution_count": 24
        }
      ]
    },
    {
      "cell_type": "markdown",
      "source": [
        "# Run an Analysis"
      ],
      "metadata": {
        "id": "JdyLHw0ZEyYp"
      }
    },
    {
      "cell_type": "markdown",
      "source": [
        "## Analyzing Author Popularity"
      ],
      "metadata": {
        "id": "gXPsxf3pFDuA"
      }
    },
    {
      "cell_type": "markdown",
      "source": [
        "This can be done by selecting the 'Author' column data and using the value_counts() method. We can assign this to an author_counts variable:"
      ],
      "metadata": {
        "id": "Wgtxblw0FCIq"
      }
    },
    {
      "cell_type": "code",
      "source": [
        "author_counts = df['Author'].value_counts()\n",
        "print(author_counts)"
      ],
      "metadata": {
        "colab": {
          "base_uri": "https://localhost:8080/"
        },
        "id": "g5mkMI6pEdS9",
        "outputId": "31aa6bb1-33c0-41a8-ea5c-eb712763b20d"
      },
      "execution_count": null,
      "outputs": [
        {
          "output_type": "stream",
          "name": "stdout",
          "text": [
            "Author\n",
            "Jeff Kinney                           12\n",
            "Gary Chapman                          11\n",
            "Rick Riordan                          11\n",
            "Suzanne Collins                       11\n",
            "American Psychological Association    10\n",
            "                                      ..\n",
            "Keith Richards                         1\n",
            "Chris Cleave                           1\n",
            "Alice Schertle                         1\n",
            "Celeste Ng                             1\n",
            "Adam Gasiewski                         1\n",
            "Name: count, Length: 248, dtype: int64\n"
          ]
        }
      ]
    },
    {
      "cell_type": "code",
      "source": [
        "print(author_counts.head(10))"
      ],
      "metadata": {
        "colab": {
          "base_uri": "https://localhost:8080/"
        },
        "id": "ouXYZKYTFRk9",
        "outputId": "2917bd7e-a4df-48f9-98fa-ab9820586778"
      },
      "execution_count": null,
      "outputs": [
        {
          "output_type": "stream",
          "name": "stdout",
          "text": [
            "Author\n",
            "Jeff Kinney                           12\n",
            "Gary Chapman                          11\n",
            "Rick Riordan                          11\n",
            "Suzanne Collins                       11\n",
            "American Psychological Association    10\n",
            "Dr. Seuss                              9\n",
            "Gallup                                 9\n",
            "Rob Elliott                            8\n",
            "Stephen R. Covey                       7\n",
            "Stephenie Meyer                        7\n",
            "Name: count, dtype: int64\n"
          ]
        }
      ]
    },
    {
      "cell_type": "markdown",
      "source": [
        "## Average Rating by Genre"
      ],
      "metadata": {
        "id": "E-kI-u90Fwzy"
      }
    },
    {
      "cell_type": "markdown",
      "source": [
        "We can also use the cleaned data to determine the average rating for each genre in the dataset. We can do this by grouping the data by the \"Genre\" column and calculating the mean of the \"Rating\" column."
      ],
      "metadata": {
        "id": "c95znMgOF4N4"
      }
    },
    {
      "cell_type": "code",
      "source": [
        "avg_rating_by_genre = df.groupby('Genre')['Rating'].mean()\n",
        "print(avg_rating_by_genre)"
      ],
      "metadata": {
        "colab": {
          "base_uri": "https://localhost:8080/"
        },
        "id": "yp5uHz1eF0Wl",
        "outputId": "ced5db11-8684-4872-904a-1182e96f052e"
      },
      "execution_count": null,
      "outputs": [
        {
          "output_type": "stream",
          "name": "stdout",
          "text": [
            "Genre\n",
            "Fiction        4.648333\n",
            "Non Fiction    4.595161\n",
            "Name: Rating, dtype: float64\n"
          ]
        }
      ]
    }
  ]
}
