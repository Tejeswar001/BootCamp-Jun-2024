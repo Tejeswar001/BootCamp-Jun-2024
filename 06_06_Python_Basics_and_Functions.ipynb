{
  "nbformat": 4,
  "nbformat_minor": 0,
  "metadata": {
    "colab": {
      "provenance": [],
      "authorship_tag": "ABX9TyPPIxfrfwvJ7KpABXoIXiJx",
      "include_colab_link": true
    },
    "kernelspec": {
      "name": "python3",
      "display_name": "Python 3"
    },
    "language_info": {
      "name": "python"
    }
  },
  "cells": [
    {
      "cell_type": "markdown",
      "metadata": {
        "id": "view-in-github",
        "colab_type": "text"
      },
      "source": [
        "<a href=\"https://colab.research.google.com/github/Tejeswar001/Python-Practice-/blob/06%2F06-BootCampProgress/06_06_Python_Basics_and_Functions.ipynb\" target=\"_parent\"><img src=\"https://colab.research.google.com/assets/colab-badge.svg\" alt=\"Open In Colab\"/></a>"
      ]
    },
    {
      "cell_type": "code",
      "execution_count": null,
      "metadata": {
        "colab": {
          "base_uri": "https://localhost:8080/"
        },
        "id": "CnoSIiAq-5hv",
        "outputId": "c6519d6a-a494-4179-b4d6-2bd9ec650d8a"
      },
      "outputs": [
        {
          "output_type": "stream",
          "name": "stdout",
          "text": [
            "Cloning into 'Python-Practice-'...\n",
            "remote: Enumerating objects: 3, done.\u001b[K\n",
            "remote: Counting objects: 100% (3/3), done.\u001b[K\n",
            "remote: Total 3 (delta 0), reused 0 (delta 0), pack-reused 0\u001b[K\n",
            "Receiving objects: 100% (3/3), done.\n"
          ]
        }
      ],
      "source": [
        "!git clone https://github.com/Tejeswar001/Python-Practice-"
      ]
    },
    {
      "cell_type": "markdown",
      "source": [
        "- INPUT and OUTPUT in py"
      ],
      "metadata": {
        "id": "_7zHwzKJAuO7"
      }
    },
    {
      "cell_type": "code",
      "source": [
        "print(\"Hi\")"
      ],
      "metadata": {
        "colab": {
          "base_uri": "https://localhost:8080/"
        },
        "id": "igbAUp5p_Tgi",
        "outputId": "7acce492-9679-49d6-ce31-14bfe0efc056"
      },
      "execution_count": null,
      "outputs": [
        {
          "output_type": "stream",
          "name": "stdout",
          "text": [
            "Hi\n"
          ]
        }
      ]
    },
    {
      "cell_type": "code",
      "source": [
        "a=input(\"enter: \")\n",
        "print(\"output:\",a)"
      ],
      "metadata": {
        "colab": {
          "base_uri": "https://localhost:8080/"
        },
        "id": "HIhZSZMSAsGk",
        "outputId": "f37f6c0d-cf09-445b-fb6e-2238f0718634"
      },
      "execution_count": null,
      "outputs": [
        {
          "output_type": "stream",
          "name": "stdout",
          "text": [
            "enter: 1\n",
            "output: 1\n"
          ]
        }
      ]
    },
    {
      "cell_type": "markdown",
      "source": [
        "**DATA TYPES**"
      ],
      "metadata": {
        "id": "LGD7PmM4BM7g"
      }
    },
    {
      "cell_type": "code",
      "source": [
        "INT=12345648546\n",
        "float_=2.222222222222222\n",
        "complex_=5+4j\n",
        "print(INT,float_,complex_)"
      ],
      "metadata": {
        "colab": {
          "base_uri": "https://localhost:8080/"
        },
        "id": "MaD2joA5A74y",
        "outputId": "c34df224-17bc-4250-e370-fc87a6834eed"
      },
      "execution_count": null,
      "outputs": [
        {
          "output_type": "stream",
          "name": "stdout",
          "text": [
            "12345648546 2.222222222222222 (5+4j)\n"
          ]
        }
      ]
    },
    {
      "cell_type": "code",
      "source": [
        "list_=[1,5,8,7]\n",
        "tuple_=(4,8,9,4)\n",
        "set_={5,4,8,2,9,1}\n",
        "dict_={'a':1,'b':2}\n",
        "print(list_,tuple_,set_,dict_)"
      ],
      "metadata": {
        "colab": {
          "base_uri": "https://localhost:8080/"
        },
        "id": "UZuIOPbhB9WD",
        "outputId": "c29af38c-30e5-4584-e74a-f004f0beb434"
      },
      "execution_count": null,
      "outputs": [
        {
          "output_type": "stream",
          "name": "stdout",
          "text": [
            "[1, 5, 8, 7] (4, 8, 9, 4) {1, 2, 4, 5, 8, 9} {'a': 1, 'b': 2}\n"
          ]
        }
      ]
    },
    {
      "cell_type": "markdown",
      "source": [
        "**Expressions and Operators**"
      ],
      "metadata": {
        "id": "4O23Xv_OCNKz"
      }
    },
    {
      "cell_type": "code",
      "source": [
        "a=89\n",
        "b=60\n",
        "print(a+b)\n",
        "print(a-b)\n",
        "print(a*b)\n",
        "print(a/b)\n",
        "print(a//b)\n",
        "print(a%b)\n",
        "print(a**b)"
      ],
      "metadata": {
        "colab": {
          "base_uri": "https://localhost:8080/"
        },
        "id": "R5eOiSloCR6e",
        "outputId": "954ee14a-742e-4c13-b6d1-af076ab4ff5e"
      },
      "execution_count": null,
      "outputs": [
        {
          "output_type": "stream",
          "name": "stdout",
          "text": [
            "149\n",
            "29\n",
            "5340\n",
            "1.4833333333333334\n",
            "1\n",
            "29\n",
            "919179645527332188528767743697044534647677141263814438294608339854073027277989379673170633101882546894684498551501601\n"
          ]
        }
      ]
    },
    {
      "cell_type": "markdown",
      "source": [
        "**Type Casting**"
      ],
      "metadata": {
        "id": "gC33zfWUCzJ6"
      }
    },
    {
      "cell_type": "code",
      "source": [
        "a=int(35)\n",
        "b=float(35)\n",
        "c=str(35)\n",
        "d=list(\"list\")\n",
        "e=tuple([1,8,5,6,3])\n",
        "f=set([1,2,3,4,5,6,1])\n",
        "print(a,b,c)\n",
        "print(d,e,f)"
      ],
      "metadata": {
        "colab": {
          "base_uri": "https://localhost:8080/"
        },
        "id": "mR8wa8vtCxwe",
        "outputId": "a51f1c9e-5b63-4455-a1db-e74765410b9b"
      },
      "execution_count": null,
      "outputs": [
        {
          "output_type": "stream",
          "name": "stdout",
          "text": [
            "35 35.0 35\n",
            "['l', 'i', 's', 't'] (1, 8, 5, 6, 3) {1, 2, 3, 4, 5, 6}\n"
          ]
        }
      ]
    },
    {
      "cell_type": "markdown",
      "source": [
        "**Conditional Statements**"
      ],
      "metadata": {
        "id": "32VQQKxrDUux"
      }
    },
    {
      "cell_type": "code",
      "source": [
        "a=int(input(\"enter: \"))\n",
        "if a%2==0:\n",
        "  print(\"even\")\n",
        "else:\n",
        "  print(\"odd\")"
      ],
      "metadata": {
        "colab": {
          "base_uri": "https://localhost:8080/"
        },
        "id": "UpH6zkx-DZA6",
        "outputId": "596e9b4f-11a7-4882-fccd-bd9c0130da26"
      },
      "execution_count": null,
      "outputs": [
        {
          "output_type": "stream",
          "name": "stdout",
          "text": [
            "enter: 58\n",
            "even\n"
          ]
        }
      ]
    },
    {
      "cell_type": "markdown",
      "source": [
        "**Loop Statements**"
      ],
      "metadata": {
        "id": "6_c2ol5aEBez"
      }
    },
    {
      "cell_type": "code",
      "source": [
        "for i in range(1,11):\n",
        "  print(i)\n",
        "i=1\n",
        "while i<=10:\n",
        "  print(i)\n",
        "  i+=1"
      ],
      "metadata": {
        "colab": {
          "base_uri": "https://localhost:8080/"
        },
        "id": "KZ8QPVROEFSf",
        "outputId": "5ea1e732-675d-4981-86e4-55fad5c28c2c"
      },
      "execution_count": null,
      "outputs": [
        {
          "output_type": "stream",
          "name": "stdout",
          "text": [
            "1\n",
            "2\n",
            "3\n",
            "4\n",
            "5\n",
            "6\n",
            "7\n",
            "8\n",
            "9\n",
            "10\n",
            "1\n",
            "2\n",
            "3\n",
            "4\n",
            "5\n",
            "6\n",
            "7\n",
            "8\n",
            "9\n",
            "10\n"
          ]
        }
      ]
    },
    {
      "cell_type": "markdown",
      "source": [
        "**Special Functions**"
      ],
      "metadata": {
        "id": "SRlzUliHEhKd"
      }
    },
    {
      "cell_type": "code",
      "source": [
        "a=[1,2,3,4,5,6,7,8]\n",
        "\n",
        "print(\"size\",len(a))\n",
        "\n",
        "print(\"maximum value\",max(a))\n",
        "\n",
        "print(\"minimum value\",min(a))\n",
        "\n",
        "print(\"Summation\",sum(a))\n",
        "\n",
        "print(\"sorted list\",sorted(a))\n",
        "\n",
        "for i in a:\n",
        "\n",
        "  print(i,end=\" \")\n",
        "\n",
        "print(type(a))\n",
        "\n",
        "print(\"id of object a\",id(a))"
      ],
      "metadata": {
        "colab": {
          "base_uri": "https://localhost:8080/"
        },
        "id": "GO-XdcHEEl4I",
        "outputId": "8fc479f7-8e74-4f9f-95b4-631cbc346ced"
      },
      "execution_count": null,
      "outputs": [
        {
          "output_type": "stream",
          "name": "stdout",
          "text": [
            "size 8\n",
            "maximum value 8\n",
            "minimum value 1\n",
            "Summation 36\n",
            "sorted list [1, 2, 3, 4, 5, 6, 7, 8]\n",
            "1 2 3 4 5 6 7 8 <class 'list'>\n",
            "id of object a 137810268006976\n"
          ]
        }
      ]
    },
    {
      "cell_type": "markdown",
      "source": [
        "Area Calculator: Create a function Calculate_area(shape, dimensions) that takes the shape (e.g., \"rectangle\", \"circle\") and its dimensions as arguments. The function should calculate the area based on the shape and return the result. Implement logic for handling different shapes (rectangle, circle) and their corresponding dimensions (length, width for rectangle; radius for circle)."
      ],
      "metadata": {
        "id": "TFJlH-bxnqbC"
      }
    },
    {
      "cell_type": "code",
      "source": [
        "import math\n",
        "\n",
        "def Calculate_area(shape, dimensions):\n",
        "\n",
        "  if shape == \"rectangle\":\n",
        "    if len(dimensions) == 2:\n",
        "      length, width = dimensions\n",
        "      return length * width\n",
        "    else:\n",
        "      return \"Error: Rectangle requires two dimensions (length and width).\"\n",
        "\n",
        "  elif shape == \"circle\":\n",
        "    if len(dimensions) == 1:\n",
        "      radius = dimensions[0]\n",
        "      return math.pi * radius ** 2\n",
        "    else:\n",
        "      return \"Error: Circle requires one dimension (radius).\"\n",
        "\n",
        "  else:\n",
        "    return \"Error: Unsupported shape.\"\n",
        "\n",
        "# Example usage\n",
        "print(Calculate_area(\"rectangle\", [5, 10]))  # Output: 50\n",
        "print(Calculate_area(\"circle\", [7]))  # Output: 153.93804002589985\n",
        "print(Calculate_area(\"triangle\", [3, 4]))  # Output: Error: Unsupported shape."
      ],
      "metadata": {
        "colab": {
          "base_uri": "https://localhost:8080/"
        },
        "id": "0e6U_UzMnsVu",
        "outputId": "6809393e-46f2-4539-b121-396d034b51a8"
      },
      "execution_count": 22,
      "outputs": [
        {
          "output_type": "stream",
          "name": "stdout",
          "text": [
            "50\n",
            "153.93804002589985\n",
            "Error: Unsupported shape.\n"
          ]
        }
      ]
    },
    {
      "cell_type": "markdown",
      "source": [
        "String Manipulation:\n",
        "Create a function reverse_words(text) that takes a string as input.\n",
        "The function should reverse the order of words in the string while maintaining the order of characters within each word. -Return the modified string.\n",
        "Hint: Use string methods like split and join to manipulate the words."
      ],
      "metadata": {
        "id": "9rCObYVBnxkk"
      }
    },
    {
      "cell_type": "code",
      "source": [
        "def reverse_words(text):\n",
        "  words = text.split()  # Split the string into a list of words\n",
        "  reversed_words = words[::-1]  # Reverse the list of words\n",
        "  return \" \".join(reversed_words)  # Join the reversed words with spaces\n",
        "\n",
        "# Example usage\n",
        "print(reverse_words(\"This is a sentence.\"))  # Output: sentence. a is This"
      ],
      "metadata": {
        "colab": {
          "base_uri": "https://localhost:8080/"
        },
        "id": "3-1vAV5aoOtR",
        "outputId": "e4f0b103-ad16-447a-f653-44d37daa9ba8"
      },
      "execution_count": 24,
      "outputs": [
        {
          "output_type": "stream",
          "name": "stdout",
          "text": [
            "sentence. a is This\n"
          ]
        }
      ]
    },
    {
      "cell_type": "code",
      "source": [
        "def analyze_list(numbers):\n",
        "  if not numbers:\n",
        "    return \"Error: Input list is empty.\"\n",
        "\n",
        "  min_value = min(numbers)\n",
        "  max_value = max(numbers)\n",
        "  average = sum(numbers) / len(numbers)\n",
        "\n",
        "  return {\n",
        "    \"min\": min_value,\n",
        "    \"max\": max_value,\n",
        "    \"average\": average\n",
        "  }\n",
        "\n",
        "# Example usage\n",
        "print(analyze_list([1, 5, 3, 9, 2]))  # Output: {'min': 1, 'max': 9, 'average': 4.0}"
      ],
      "metadata": {
        "colab": {
          "base_uri": "https://localhost:8080/"
        },
        "id": "F4GMkhJhrb1h",
        "outputId": "9994f855-bd36-41bf-9379-8caade157666"
      },
      "execution_count": 25,
      "outputs": [
        {
          "output_type": "stream",
          "name": "stdout",
          "text": [
            "{'min': 1, 'max': 9, 'average': 4.0}\n"
          ]
        }
      ]
    },
    {
      "cell_type": "markdown",
      "source": [
        "Filtering with Lambda:\n",
        "Create a list of product names (strings).\n",
        "Define a function filter_short_names(names, max_length) that takes the list of names and a maximum length as arguments.\n",
        "Use filter with a lambda function to return a new list containing only names shorter than the provided max_length."
      ],
      "metadata": {
        "id": "RjjkcGFKrqw5"
      }
    },
    {
      "cell_type": "code",
      "source": [
        "products = [\"Laptop\", \"Smartphone\", \"Tablet\", \"Mouse\", \"Keyboard\", \"Monitor\"]\n",
        "\n",
        "def filter_short_names(names, max_length):\n",
        "  short_names = list(filter(lambda name: len(name) < max_length, names))\n",
        "  return short_names\n",
        "\n",
        "# Example usage\n",
        "print(filter_short_names(products, 7))  # Output: ['Tablet', 'Mouse']"
      ],
      "metadata": {
        "id": "38me6TxArpfZ"
      },
      "execution_count": null,
      "outputs": []
    }
  ]
}