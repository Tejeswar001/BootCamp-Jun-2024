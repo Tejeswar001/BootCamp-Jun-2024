{
  "nbformat": 4,
  "nbformat_minor": 0,
  "metadata": {
    "colab": {
      "provenance": [],
      "authorship_tag": "ABX9TyM5+v+1qu7oQ669jFDnXUDz",
      "include_colab_link": true
    },
    "kernelspec": {
      "name": "python3",
      "display_name": "Python 3"
    },
    "language_info": {
      "name": "python"
    }
  },
  "cells": [
    {
      "cell_type": "markdown",
      "metadata": {
        "id": "view-in-github",
        "colab_type": "text"
      },
      "source": [
        "<a href=\"https://colab.research.google.com/github/Tejeswar001/BootCamp-Jun-2024/blob/BootCampProgress/28-06-MatPlotLib/intro_matplotlib.ipynb\" target=\"_parent\"><img src=\"https://colab.research.google.com/assets/colab-badge.svg\" alt=\"Open In Colab\"/></a>"
      ]
    },
    {
      "cell_type": "markdown",
      "source": [
        "## Matplotlib"
      ],
      "metadata": {
        "id": "3wMkICDYByw2"
      }
    },
    {
      "cell_type": "markdown",
      "source": [
        "## install matplotlib"
      ],
      "metadata": {
        "id": "JxmPhJsWFOa0"
      }
    },
    {
      "cell_type": "code",
      "execution_count": 1,
      "metadata": {
        "id": "fHqchVgbBlrV",
        "outputId": "1f94a2fd-fd7e-4a8a-8722-da87c542869f",
        "colab": {
          "base_uri": "https://localhost:8080/"
        }
      },
      "outputs": [
        {
          "output_type": "stream",
          "name": "stdout",
          "text": [
            "Requirement already satisfied: matplotlib in /usr/local/lib/python3.10/dist-packages (3.7.1)\n",
            "Requirement already satisfied: contourpy>=1.0.1 in /usr/local/lib/python3.10/dist-packages (from matplotlib) (1.2.1)\n",
            "Requirement already satisfied: cycler>=0.10 in /usr/local/lib/python3.10/dist-packages (from matplotlib) (0.12.1)\n",
            "Requirement already satisfied: fonttools>=4.22.0 in /usr/local/lib/python3.10/dist-packages (from matplotlib) (4.53.0)\n",
            "Requirement already satisfied: kiwisolver>=1.0.1 in /usr/local/lib/python3.10/dist-packages (from matplotlib) (1.4.5)\n",
            "Requirement already satisfied: numpy>=1.20 in /usr/local/lib/python3.10/dist-packages (from matplotlib) (1.25.2)\n",
            "Requirement already satisfied: packaging>=20.0 in /usr/local/lib/python3.10/dist-packages (from matplotlib) (24.1)\n",
            "Requirement already satisfied: pillow>=6.2.0 in /usr/local/lib/python3.10/dist-packages (from matplotlib) (9.4.0)\n",
            "Requirement already satisfied: pyparsing>=2.3.1 in /usr/local/lib/python3.10/dist-packages (from matplotlib) (3.1.2)\n",
            "Requirement already satisfied: python-dateutil>=2.7 in /usr/local/lib/python3.10/dist-packages (from matplotlib) (2.8.2)\n",
            "Requirement already satisfied: six>=1.5 in /usr/local/lib/python3.10/dist-packages (from python-dateutil>=2.7->matplotlib) (1.16.0)\n"
          ]
        }
      ],
      "source": [
        "pip install matplotlib"
      ]
    },
    {
      "cell_type": "markdown",
      "source": [
        "Matplotlib is a plotting library for the Python programming language. It provides an object-oriented API for embedding plots into applications using general-purpose GUI toolkits like Tkinter, wxPython, Qt, or GTK."
      ],
      "metadata": {
        "id": "I8_BDXxKFNcE"
      }
    },
    {
      "cell_type": "code",
      "source": [
        "import matplotlib.pyplot as plt"
      ],
      "metadata": {
        "id": "1oGhbGfbFT-0"
      },
      "execution_count": 2,
      "outputs": []
    },
    {
      "source": [
        "# example\n",
        "plt.plot([1, 2, 3, 4], [5, 6, 7, 8])\n",
        "plt.show()"
      ],
      "cell_type": "code",
      "metadata": {
        "id": "7DSNhBgHFcCL",
        "outputId": "c695f0eb-b9f7-42a6-e293-6a5fad6c3adb",
        "colab": {
          "base_uri": "https://localhost:8080/",
          "height": 430
        }
      },
      "execution_count": 4,
      "outputs": [
        {
          "output_type": "display_data",
          "data": {
            "text/plain": [
              "<Figure size 640x480 with 1 Axes>"
            ],
            "image/png": "[encoded data removed]"
          },
          "metadata": {}
        }
      ]
    },
    {
      "cell_type": "markdown",
      "source": [
        "## Different plots in matplotlib"
      ],
      "metadata": {
        "id": "I1z7tqyJFsiO"
      }
    },
    {
      "cell_type": "markdown",
      "source": [
        "### Basic plots"
      ],
      "metadata": {
        "id": "MHVdpuiDFxgW"
      }
    },
    {
      "cell_type": "markdown",
      "source": [
        "- `plt.plot()`: Creates line plots. Useful for visualizing trends over time or continuous data.\n",
        "- `plt.scatter()`: Generates scatter plots. Helps identify correlations or relationships between two variables.\n",
        "- `plt.bar()`: Constructs bar charts. Ideal for comparing categorical data.\n",
        "- `plt.hist()`: Produces histograms. Shows the distribution of numerical data.\n",
        "- `plt.pie()`: Creates pie charts. Represents proportions of a whole."
      ],
      "metadata": {
        "id": "DqQH-1_DF33S"
      }
    },
    {
      "cell_type": "markdown",
      "source": [
        "### Statistical plots"
      ],
      "metadata": {
        "id": "ESuKb3mnF_nQ"
      }
    },
    {
      "cell_type": "markdown",
      "source": [
        "- `plt.boxplot()`: Draws box plots. Displays the distribution of data based on quartiles and identifies outliers.\n",
        "- `plt.violinplot()`: Generates violin plots. Similar to box plots but provides a more detailed view of data distribution.\n",
        "- `plt.errorbar()`: Adds error bars to plots. Indicates the uncertainty or variability in data points."
      ],
      "metadata": {
        "id": "mJrP6f5PGJBr"
      }
    },
    {
      "cell_type": "markdown",
      "source": [
        "### Advanced Plots"
      ],
      "metadata": {
        "id": "A5Rup5l2G0tV"
      }
    },
    {
      "cell_type": "markdown",
      "source": [
        "- `plt.contour()`: Creates contour plots. Visualizes 3D surfaces on a 2D plane.\n",
        "- `plt.imshow()`: Displays images. Useful for visualizing image data or heatmaps.\n",
        "- `plt.quiver()`: Generates vector fields. Shows the direction and magnitude of vectors."
      ],
      "metadata": {
        "id": "vEZTzFsKG4K4"
      }
    },
    {
      "cell_type": "markdown",
      "source": [
        "### Customization"
      ],
      "metadata": {
        "id": "oW-WF3MMHDHQ"
      }
    },
    {
      "cell_type": "markdown",
      "source": [
        "Matplotlib allows extensive customization of plots through various options and parameters. You can control:\n",
        "- Titles and labels: `plt.title()`, `plt.xlabel()`, `plt.ylabel()`\n",
        "- Legends: `plt.legend()`\n",
        "- Colors, line styles, markers: Arguments within plotting functions\n",
        "- Axes limits and ticks: `plt.xlim()`, `plt.ylim()`, `plt.xticks()`, `plt.yticks()`\n",
        "- Grid: `plt.grid()`\n",
        "\n",
        "This is just a brief overview. Matplotlib offers many more plot types and customization options. You can find detailed documentation and examples on the Matplotlib website"
      ],
      "metadata": {
        "id": "-8B2KPOdHPy0"
      }
    }
  ]
}