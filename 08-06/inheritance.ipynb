{
  "nbformat": 4,
  "nbformat_minor": 0,
  "metadata": {
    "colab": {
      "provenance": [],
      "authorship_tag": "ABX9TyN/aaevbaGt9g7gLeGcrg5q",
      "include_colab_link": true
    },
    "kernelspec": {
      "name": "python3",
      "display_name": "Python 3"
    },
    "language_info": {
      "name": "python"
    }
  },
  "cells": [
    {
      "cell_type": "markdown",
      "metadata": {
        "id": "view-in-github",
        "colab_type": "text"
      },
      "source": [
        "<a href=\"https://colab.research.google.com/github/Tejeswar001/Python-Practice-/blob/BootCampProgress/inheritance.ipynb\" target=\"_parent\"><img src=\"https://colab.research.google.com/assets/colab-badge.svg\" alt=\"Open In Colab\"/></a>"
      ]
    },
    {
      "cell_type": "markdown",
      "source": [
        "# Inheritance"
      ],
      "metadata": {
        "id": "8XIZhGgwbtE5"
      }
    },
    {
      "cell_type": "markdown",
      "source": [
        "Inheritance in Object-Oriented Programming (OOP) is a mechanism where you can derive a new class (subclass or child class) from an existing class (base class or parent class).\n",
        "\n",
        "The subclass inherits properties and behaviors (methods) from the parent class, allowing you to reuse code and establish hierarchical relationships between classes."
      ],
      "metadata": {
        "id": "1c3HyaGebzLt"
      }
    },
    {
      "source": [
        "class ParentClass:\n",
        "    def __init__(self, name):\n",
        "        self.name = name\n",
        "\n",
        "class ChildClass(ParentClass):\n",
        "    def __init__(self, name, age):\n",
        "        super().__init__(name)\n",
        "        self.age = age\n",
        "\n",
        "# Call the ChildClass\n",
        "child = ChildClass(\"Alice\", 10)\n",
        "print(child.name)  # Output: Alice\n",
        "print(child.age)   # Output: 10"
      ],
      "cell_type": "code",
      "metadata": {
        "colab": {
          "base_uri": "https://localhost:8080/"
        },
        "id": "r7uHgaMmdWj8",
        "outputId": "f3b8dc5d-3dc5-4783-d3a4-b2af7292d07b"
      },
      "execution_count": null,
      "outputs": [
        {
          "output_type": "stream",
          "name": "stdout",
          "text": [
            "Alice\n",
            "10\n"
          ]
        }
      ]
    }
  ]
}
