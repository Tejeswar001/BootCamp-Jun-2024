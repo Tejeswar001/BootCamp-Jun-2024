{
  "nbformat": 4,
  "nbformat_minor": 0,
  "metadata": {
    "colab": {
      "provenance": [],
      "authorship_tag": "ABX9TyMZ3h2JUCK09dv9oNX/wi3y",
      "include_colab_link": true
    },
    "kernelspec": {
      "name": "python3",
      "display_name": "Python 3"
    },
    "language_info": {
      "name": "python"
    }
  },
  "cells": [
    {
      "cell_type": "markdown",
      "metadata": {
        "id": "view-in-github",
        "colab_type": "text"
      },
      "source": [
        "<a href=\"https://colab.research.google.com/github/Tejeswar001/Python-Practice-/blob/BootCampProgress/Tkinter.ipynb\" target=\"_parent\"><img src=\"https://colab.research.google.com/assets/colab-badge.svg\" alt=\"Open In Colab\"/></a>"
      ]
    },
    {
      "cell_type": "markdown",
      "source": [
        "# Tkinter"
      ],
      "metadata": {
        "id": "tEDJAHs0c8tH"
      }
    },
    {
      "cell_type": "markdown",
      "source": [
        "tkinter is Python's standard GUI (Graphical User Interface) package. It allows you to create desktop applications with elements like windows, buttons, labels, and text boxes. You can use tkinter to design interactive interfaces for your Python programs."
      ],
      "metadata": {
        "id": "u750Oxbyc_dG"
      }
    },
    {
      "cell_type": "markdown",
      "source": [
        "In simple terms, tkinter is Python's standard GUI toolkit.\n",
        "\n",
        "**Key Features of Tkinter**\n",
        "1. Cross-Platform: Works on Windows, macOS, and Linux.\n",
        "2. Standard Library: Included with Python, so no additional installation is required.\n",
        "3. Ease of Use: Simple and straightforward API for quick development.\n",
        "4. Extensible: Can be extended with additional widgets and functionality."
      ],
      "metadata": {
        "id": "WSMOtj0FdZbU"
      }
    },
    {
      "cell_type": "markdown",
      "source": [
        "**Import the Tkinter library**"
      ],
      "metadata": {
        "id": "PhwkKUypd76D"
      }
    },
    {
      "cell_type": "code",
      "source": [
        "import tkinter as tk # import the library and call the functions with tk\n",
        "from tkinter import *# import all the functions from the tkinter library"
      ],
      "metadata": {
        "id": "EBUZwdLNeA_j"
      },
      "execution_count": null,
      "outputs": []
    },
    {
      "cell_type": "markdown",
      "source": [
        "In tkinter, Tk() creates the main window of your application, serving as the root for all other widgets you'll add"
      ],
      "metadata": {
        "id": "Kb2xB2v5eWsJ"
      }
    },
    {
      "cell_type": "code",
      "source": [
        "root = Tk()"
      ],
      "metadata": {
        "id": "8nl5uhMOeg5Y"
      },
      "execution_count": null,
      "outputs": []
    },
    {
      "cell_type": "markdown",
      "source": [
        "In tkinter, mainloop() starts the event loop of your application. This means it listens for user interactions like button clicks or keyboard presses and responds accordingly, keeping your application running and responsive."
      ],
      "metadata": {
        "id": "k_Vu1_Uzelcy"
      }
    },
    {
      "cell_type": "code",
      "source": [
        "root.mainloop()"
      ],
      "metadata": {
        "id": "dBwZtmGsfXG9"
      },
      "execution_count": null,
      "outputs": []
    },
    {
      "cell_type": "markdown",
      "source": [
        "Let's run all the code at once,"
      ],
      "metadata": {
        "id": "zDxoCAkyfeEk"
      }
    },
    {
      "cell_type": "code",
      "source": [
        "from tkinter import *\n",
        "\n",
        "root = Tk()\n",
        "\n",
        "root.mainloop()"
      ],
      "metadata": {
        "id": "W2jKY-FDfhaV"
      },
      "execution_count": null,
      "outputs": []
    },
    {
      "cell_type": "markdown",
      "source": [
        "![image.png](data:image/png;base64,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)"
      ],
      "metadata": {
        "id": "Cp96exsVfv48"
      }
    },
    {
      "cell_type": "markdown",
      "source": [
        "In tkinter, the Label() function creates a display box for text or images. You can customize its appearance with options like text content, font, color, and size. Here's an example:"
      ],
      "metadata": {
        "id": "tjZpZ49jgagp"
      }
    },
    {
      "source": [
        "label = tk.Label(root, text=\"Hello, Tkinter!\", font=(\"Arial\", 16))\n",
        "label.pack()"
      ],
      "cell_type": "code",
      "metadata": {
        "id": "CRX1ZPoFgbbG"
      },
      "execution_count": null,
      "outputs": []
    },
    {
      "cell_type": "markdown",
      "source": [
        "This creates a label displaying \"Hello, Tkinter!\" in Arial font with size 16."
      ],
      "metadata": {
        "id": "7ZHU5jJtgjR9"
      }
    },
    {
      "cell_type": "code",
      "source": [
        "from tkinter import *\n",
        "root = Tk()\n",
        "\n",
        "label = Label(root, text=\"Hello, Tkinter!\", font=(\"Arial\", 16))\n",
        "label.pack()\n",
        "\n",
        "root.mainloop()"
      ],
      "metadata": {
        "id": "Wzsj1IHpg0J-"
      },
      "execution_count": null,
      "outputs": []
    },
    {
      "cell_type": "markdown",
      "source": [
        "![image.png](data:image/png;base64,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)"
      ],
      "metadata": {
        "id": "IxqdIMXohK0q"
      }
    },
    {
      "cell_type": "markdown",
      "source": [
        "In tkinter, the Button widget creates a clickable button in your application. You can associate a function to be executed when the button is pressed."
      ],
      "metadata": {
        "id": "gEQk38qghMUD"
      }
    },
    {
      "source": [
        "def button_click():\n",
        "    print(\"Button clicked!\")\n",
        "\n",
        "button = tk.Button(root, text=\"Click Me\", command=button_click)\n",
        "button.pack()"
      ],
      "cell_type": "code",
      "metadata": {
        "id": "k5xE2KC6hYf8"
      },
      "execution_count": null,
      "outputs": []
    },
    {
      "cell_type": "markdown",
      "source": [
        "This creates a button labeled \"Click Me\". When clicked, it calls the button_click function, which in this case, prints \"Button clicked!\" to the console."
      ],
      "metadata": {
        "id": "4aboXNO-hhaI"
      }
    },
    {
      "cell_type": "code",
      "source": [
        "from tkinter import *\n",
        "root = Tk()\n",
        "\n",
        "label = Label(root, text=\"Hello, Tkinter!\", font=(\"Arial\", 16))\n",
        "label.pack()\n",
        "\n",
        "def button_click():\n",
        "    print(\"Button clicked!\")\n",
        "\n",
        "button = Button(root, text=\"Click Me\", command=button_click)\n",
        "button.pack()\n",
        "\n",
        "root.mainloop()"
      ],
      "metadata": {
        "id": "WjCK2kzWhk7V"
      },
      "execution_count": null,
      "outputs": []
    },
    {
      "cell_type": "markdown",
      "source": [
        "![image.png](data:image/png;base64,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)"
      ],
      "metadata": {
        "id": "RJv1Hy1Uh7Td"
      }
    },
    {
      "cell_type": "markdown",
      "source": [
        "In Tkinter, an Entry widget is a basic GUI element that allows users to input a single line of text."
      ],
      "metadata": {
        "id": "GX_DeOnIh8OE"
      }
    },
    {
      "source": [
        "entry = tk.Entry(root)"
      ],
      "cell_type": "code",
      "metadata": {
        "id": "nD9OHJ8Gi8hB"
      },
      "execution_count": null,
      "outputs": []
    },
    {
      "cell_type": "markdown",
      "source": [
        "It's commonly used for:\n",
        "\n",
        "- Taking User Input: Collecting text information like names, usernames, passwords, etc.\n",
        "- Displaying Text: Showing read-only text or allowing limited text editing.\n",
        "- Search Fields: Creating simple search bars within your application."
      ],
      "metadata": {
        "id": "5TH6WALnjWr8"
      }
    },
    {
      "cell_type": "code",
      "source": [
        "from tkinter import *\n",
        "root = Tk()\n",
        "\n",
        "label = Label(root, text=\"Hello, Tkinter!\", font=(\"Arial\", 16))\n",
        "label.pack(pady=10)\n",
        "\n",
        "entry = Entry(root)\n",
        "entry.pack(pady=10)\n",
        "\n",
        "def button_click():\n",
        "    print(\"Button clicked!\")\n",
        "\n",
        "button = Button(root, text=\"Click Me\", command=button_click)\n",
        "button.pack(pady=10)\n",
        "\n",
        "root.mainloop()"
      ],
      "metadata": {
        "id": "bqMMdV-BjlC2"
      },
      "execution_count": null,
      "outputs": []
    },
    {
      "cell_type": "markdown",
      "source": [
        "![image.png](data:image/png;base64,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)"
      ],
      "metadata": {
        "id": "u3l8QJrWkbV7"
      }
    },
    {
      "cell_type": "markdown",
      "source": [
        "In Tkinter, pack is a geometry manager that arranges widgets within a parent widget in a simple, top-to-bottom or left-to-right manner. It's one of the easiest ways to position widgets, especially when you don't need complex layouts."
      ],
      "metadata": {
        "id": "yMvouwrwkcsg"
      }
    },
    {
      "cell_type": "markdown",
      "source": [
        "**Key Points:**\n",
        "\n",
        "- pack is simple to use but can become less flexible for complex layouts.\n",
        "- For more advanced layouts, consider using grid (for grid-like arrangements) or place (for precise positioning)."
      ],
      "metadata": {
        "id": "PspILUagkqz8"
      }
    },
    {
      "cell_type": "markdown",
      "source": [
        "In Tkinter, a Checkbutton widget is used to create checkboxes that allow users to select or deselect options. Each checkbox is associated with a Boolean value (True/False) indicating its state."
      ],
      "metadata": {
        "id": "BCA1A3yBk_cz"
      }
    },
    {
      "cell_type": "code",
      "source": [
        "w = CheckButton(root, option=\"value\")"
      ],
      "metadata": {
        "id": "BjnQWEzwmGJj"
      },
      "execution_count": null,
      "outputs": []
    },
    {
      "cell_type": "markdown",
      "source": [
        "Key Points:\n",
        "\n",
        "State: You can get the current state of the checkbutton using var.get().\n",
        "Default State: To set the checkbutton as selected by default, use var.set(True) before creating the checkbutton.\n",
        "Multiple Checkbuttons: You can create multiple checkbuttons, each with its own BooleanVar, to allow users to select multiple options."
      ],
      "metadata": {
        "id": "4LX2eKCUmPW5"
      }
    },
    {
      "cell_type": "code",
      "source": [
        "from tkinter import *\n",
        "root = Tk()\n",
        "\n",
        "label = Label(root, text=\"Hello, Tkinter!\", font=(\"Arial\", 16))\n",
        "label.pack(pady=10)\n",
        "\n",
        "entry = Entry(root)\n",
        "entry.pack(pady=10)\n",
        "\n",
        "def button_click():\n",
        "    print(\"Button clicked!\")\n",
        "\n",
        "button = Button(root, text=\"Click Me\", command=button_click)\n",
        "button.pack(pady=10)\n",
        "\n",
        "checkbutton = Checkbutton(root, text=\"Check Me\")\n",
        "checkbutton.pack(pady=10)\n",
        "\n",
        "root.mainloop()"
      ],
      "metadata": {
        "id": "82Lz5gzTmQsU"
      },
      "execution_count": null,
      "outputs": []
    },
    {
      "cell_type": "markdown",
      "source": [
        "![image.png](data:image/png;base64,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)"
      ],
      "metadata": {
        "id": "Bi8q5uGImk81"
      }
    },
    {
      "cell_type": "markdown",
      "source": [
        "![image.png](data:image/png;base64,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)"
      ],
      "metadata": {
        "id": "Jfuvd6i4moHo"
      }
    }
  ]
}
